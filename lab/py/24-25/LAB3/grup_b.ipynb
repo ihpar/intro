{
 "cells": [
  {
   "cell_type": "code",
   "execution_count": 2,
   "metadata": {},
   "outputs": [
    {
     "name": "stdout",
     "output_type": "stream",
     "text": [
      "a, b'den büyük veya eşit\n"
     ]
    }
   ],
   "source": [
    "a, b = 7, 5\n",
    "\n",
    "if a < b:\n",
    "    print(\"a, b'den küçük\")\n",
    "else:\n",
    "    print(\"a, b'den büyük veya eşit\")"
   ]
  },
  {
   "cell_type": "code",
   "execution_count": 4,
   "metadata": {},
   "outputs": [
    {
     "name": "stdout",
     "output_type": "stream",
     "text": [
      "a, b'den büyük\n",
      "son\n"
     ]
    }
   ],
   "source": [
    "a, b = 7.5, 5\n",
    "\n",
    "if a < b:\n",
    "    print(\"a, b'den küçük\")\n",
    "else:\n",
    "    if a > b:\n",
    "        print(\"a, b'den büyük\")\n",
    "    else:\n",
    "        print(\"a ve b eşit\")\n",
    "\n",
    "print(\"son\")"
   ]
  },
  {
   "cell_type": "code",
   "execution_count": 5,
   "metadata": {},
   "outputs": [],
   "source": [
    "a, b, c = 3, 5, 7\n",
    "\n",
    "if a > b:\n",
    "    if a > c:\n",
    "        print(\"en büyük a\")\n",
    "    else:\n",
    "        print(\"en büyük c\")"
   ]
  },
  {
   "cell_type": "code",
   "execution_count": 6,
   "metadata": {},
   "outputs": [
    {
     "name": "stdout",
     "output_type": "stream",
     "text": [
      "selam\n"
     ]
    }
   ],
   "source": [
    "if True or False:\n",
    "    print(\"selam\")"
   ]
  },
  {
   "cell_type": "code",
   "execution_count": 7,
   "metadata": {},
   "outputs": [
    {
     "name": "stdout",
     "output_type": "stream",
     "text": [
      "a, b'den büyük\n",
      "son\n"
     ]
    }
   ],
   "source": [
    "a, b = 7, 5\n",
    "\n",
    "if a < b:\n",
    "    print(\"a, b'den küçük\")\n",
    "else:\n",
    "    if a > b:\n",
    "        print(\"a, b'den büyük\")\n",
    "    else:\n",
    "        print(\"a ve b eşit\")\n",
    "\n",
    "print(\"son\")"
   ]
  },
  {
   "cell_type": "code",
   "execution_count": null,
   "metadata": {},
   "outputs": [],
   "source": [
    "a, b = 7, 5\n",
    "\n",
    "if a < b:\n",
    "    print(\"a, b'den küçük\")\n",
    "elif a > b:\n",
    "    print(\"a, b'den büyük\") \n",
    "elif a < 2 * b:\n",
    "    print(\"a, 2b'den küçük\") \n",
    "else:\n",
    "    print(\"a ve b eşit\")"
   ]
  },
  {
   "cell_type": "code",
   "execution_count": null,
   "metadata": {},
   "outputs": [],
   "source": [
    "a, b = 7, 5\n",
    "if a < b:\n",
    "    print(\"...\")\n",
    "else:\n",
    "    if a > b:\n",
    "        print(\"...\")\n",
    "    else:\n",
    "        if a < 2 * b:\n",
    "            print(\"...\")\n",
    "        else:\n",
    "            print(\"...\")"
   ]
  },
  {
   "cell_type": "code",
   "execution_count": 11,
   "metadata": {},
   "outputs": [
    {
     "name": "stdout",
     "output_type": "stream",
     "text": [
      "bitti\n"
     ]
    }
   ],
   "source": [
    "a, b = 5, 5\n",
    "\n",
    "if a < b:\n",
    "    print(\"a, b'den küçük\")\n",
    "elif a > b:\n",
    "    print(\"a, b'den büyük\") \n",
    "\n",
    "print(\"bitti\")\n"
   ]
  },
  {
   "cell_type": "code",
   "execution_count": 17,
   "metadata": {},
   "outputs": [
    {
     "name": "stdout",
     "output_type": "stream",
     "text": [
      "a\n",
      "b\n"
     ]
    }
   ],
   "source": [
    "print(\"a\")\n",
    "print(\"b\")"
   ]
  },
  {
   "cell_type": "code",
   "execution_count": 13,
   "metadata": {},
   "outputs": [
    {
     "name": "stdout",
     "output_type": "stream",
     "text": [
      "a b\n"
     ]
    }
   ],
   "source": [
    "print(\"a\", \"b\")"
   ]
  },
  {
   "cell_type": "code",
   "execution_count": 14,
   "metadata": {},
   "outputs": [
    {
     "name": "stdout",
     "output_type": "stream",
     "text": [
      "ab\n"
     ]
    }
   ],
   "source": [
    "print(\"ab\")"
   ]
  },
  {
   "cell_type": "code",
   "execution_count": 16,
   "metadata": {},
   "outputs": [
    {
     "name": "stdout",
     "output_type": "stream",
     "text": [
      "a\n",
      "b\n"
     ]
    }
   ],
   "source": [
    "print(\"a\", end=\"\\n\") # \\n == <br>\n",
    "print(\"b\", end=\"\\n\")"
   ]
  },
  {
   "cell_type": "code",
   "execution_count": 20,
   "metadata": {},
   "outputs": [
    {
     "name": "stdout",
     "output_type": "stream",
     "text": [
      "a\n",
      "a\n",
      "a x a\n",
      "a->a\n"
     ]
    }
   ],
   "source": [
    "print(\"a\", end=\"\\n\")\n",
    "print(\"a\")\n",
    "print(\"a\", end=\" x \")\n",
    "print(\"a\")\n",
    "print(\"a\", end=\"->\")\n",
    "print(\"a\")"
   ]
  },
  {
   "cell_type": "code",
   "execution_count": 24,
   "metadata": {},
   "outputs": [
    {
     "name": "stdout",
     "output_type": "stream",
     "text": [
      "a b "
     ]
    }
   ],
   "source": [
    "print(\"a\", end=\" \")\n",
    "print(\"b\", end=\" \")"
   ]
  },
  {
   "cell_type": "code",
   "execution_count": 29,
   "metadata": {},
   "outputs": [
    {
     "name": "stdout",
     "output_type": "stream",
     "text": [
      "aismailb"
     ]
    }
   ],
   "source": [
    "print(\"a\", end=\"ismail\")\n",
    "print(\"b\", end=\"\")"
   ]
  },
  {
   "cell_type": "code",
   "execution_count": 31,
   "metadata": {},
   "outputs": [
    {
     "ename": "SyntaxError",
     "evalue": "invalid syntax. Maybe you meant '==' or ':=' instead of '='? (2635455320.py, line 3)",
     "output_type": "error",
     "traceback": [
      "\u001b[0;36m  Cell \u001b[0;32mIn[31], line 3\u001b[0;36m\u001b[0m\n\u001b[0;31m    if a = b:\u001b[0m\n\u001b[0m       ^\u001b[0m\n\u001b[0;31mSyntaxError\u001b[0m\u001b[0;31m:\u001b[0m invalid syntax. Maybe you meant '==' or ':=' instead of '='?\n"
     ]
    }
   ],
   "source": [
    "a, b = 3, 5\n",
    "\n",
    "if a = b:\n",
    "    print(\"a ve b eşit\")"
   ]
  },
  {
   "cell_type": "code",
   "execution_count": 43,
   "metadata": {},
   "outputs": [
    {
     "name": "stdout",
     "output_type": "stream",
     "text": [
      "Çok iyi\n"
     ]
    }
   ],
   "source": [
    "# sinav notunu input alalım\n",
    "# 80 < not <= 100 -> çok iyi \n",
    "# 60 < not <= 80 -> iyi \n",
    "# 40 < not <= 60 -> idare eder \n",
    "# 0 <= not <= 40 -> biraz daha çalış\n",
    "\n",
    "notun = int(input(\"Sınavdan kaç aldın?\"))\n",
    "if (notun > 100) or (notun < 0):\n",
    "    print(\"Girilen not 0 - 100 aralığında olmalıdır.\")\n",
    "elif notun > 80:\n",
    "    print(\"Çok iyi\")\n",
    "elif notun > 60:\n",
    "    print(\"İyi\")\n",
    "elif notun > 40:\n",
    "    print(\"İdare eder\")\n",
    "else:\n",
    "    print(\"Biraz daha çalış\")"
   ]
  },
  {
   "cell_type": "code",
   "execution_count": null,
   "metadata": {},
   "outputs": [
    {
     "name": "stdout",
     "output_type": "stream",
     "text": [
      "6\n"
     ]
    }
   ],
   "source": [
    "import random \n",
    "\n",
    "print(random.randint(0, 9))"
   ]
  },
  {
   "cell_type": "code",
   "execution_count": 45,
   "metadata": {},
   "outputs": [
    {
     "name": "stdout",
     "output_type": "stream",
     "text": [
      "6\n"
     ]
    }
   ],
   "source": [
    "print(random.randint(0, 9))"
   ]
  },
  {
   "cell_type": "code",
   "execution_count": 46,
   "metadata": {},
   "outputs": [
    {
     "name": "stdout",
     "output_type": "stream",
     "text": [
      "5\n"
     ]
    }
   ],
   "source": [
    "print(random.randint(0, 9))"
   ]
  },
  {
   "cell_type": "code",
   "execution_count": 47,
   "metadata": {},
   "outputs": [
    {
     "name": "stdout",
     "output_type": "stream",
     "text": [
      "7\n"
     ]
    }
   ],
   "source": [
    "print(random.randint(0, 9))"
   ]
  },
  {
   "cell_type": "code",
   "execution_count": 48,
   "metadata": {},
   "outputs": [
    {
     "name": "stdout",
     "output_type": "stream",
     "text": [
      "5\n"
     ]
    }
   ],
   "source": [
    "print(random.randint(0, 9))"
   ]
  },
  {
   "cell_type": "code",
   "execution_count": 49,
   "metadata": {},
   "outputs": [
    {
     "name": "stdout",
     "output_type": "stream",
     "text": [
      "1\n",
      "1\n",
      "4\n",
      "4\n",
      "6\n",
      "3\n",
      "5\n"
     ]
    }
   ],
   "source": [
    "print(random.randint(0, 9))\n",
    "print(random.randint(0, 9))\n",
    "print(random.randint(0, 9))\n",
    "print(random.randint(0, 9))\n",
    "print(random.randint(0, 9))\n",
    "print(random.randint(0, 9))\n",
    "print(random.randint(0, 9))"
   ]
  },
  {
   "cell_type": "code",
   "execution_count": null,
   "metadata": {},
   "outputs": [
    {
     "name": "stdout",
     "output_type": "stream",
     "text": [
      "3\n",
      "Daha küçük bir sayı seç\n"
     ]
    }
   ],
   "source": [
    "\"\"\"\n",
    "Bu oyunda bilgisayar [0 - 9] aralığında \n",
    "bir sayı belirler ve oyuncunun bu sayıyı tahmin etmesi için 3 hakkı vardır.\n",
    "Sadece if - elif - else yapıları ile oyunu tamamlayabilir misiniz?\n",
    "\"\"\"\n",
    "hedef = random.randint(0, 9)\n",
    "\n",
    "print(hedef)\n",
    "tahmin = int(input(\"Aklımdan hangi sayıyı tuttum?\"))\n",
    "\n",
    "if hedef == tahmin:\n",
    "    print(\"Tebrikler oyunu kazandın\")\n",
    "elif hedef > tahmin:\n",
    "    print(\"Daha büyük bir sayı seç\")\n",
    "    tahmin = int(input(\"Aklımdan hangi sayıyı tuttum?\"))\n",
    "else:\n",
    "    print(\"Daha küçük bir sayı seç\")\n",
    "    tahmin = int(input(\"Aklımdan hangi sayıyı tuttum?\"))"
   ]
  },
  {
   "cell_type": "code",
   "execution_count": null,
   "metadata": {},
   "outputs": [],
   "source": []
  }
 ],
 "metadata": {
  "kernelspec": {
   "display_name": "mlenv",
   "language": "python",
   "name": "python3"
  },
  "language_info": {
   "codemirror_mode": {
    "name": "ipython",
    "version": 3
   },
   "file_extension": ".py",
   "mimetype": "text/x-python",
   "name": "python",
   "nbconvert_exporter": "python",
   "pygments_lexer": "ipython3",
   "version": "3.12.2"
  }
 },
 "nbformat": 4,
 "nbformat_minor": 2
}
