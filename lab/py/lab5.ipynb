{
 "cells": [
  {
   "cell_type": "code",
   "execution_count": 22,
   "metadata": {},
   "outputs": [
    {
     "name": "stdout",
     "output_type": "stream",
     "text": [
      "20\n",
      "34\n",
      "120\n"
     ]
    }
   ],
   "source": [
    "x = 5\n",
    "y = x + 5\n",
    "z = 2 * y\n",
    "print(z)\n",
    "\n",
    "x = 12\n",
    "y = x + 5\n",
    "z = 2 * y\n",
    "print(z)\n",
    "\n",
    "x = 55\n",
    "y = x + 5\n",
    "z = 2 * y\n",
    "print(z)"
   ]
  },
  {
   "cell_type": "code",
   "execution_count": 21,
   "metadata": {},
   "outputs": [
    {
     "name": "stdout",
     "output_type": "stream",
     "text": [
      "20\n",
      "34\n",
      "120\n"
     ]
    }
   ],
   "source": [
    "def f(x):\n",
    "    y = x + 5\n",
    "    z = 2 * y\n",
    "    print(z)\n",
    "\n",
    "f(5)\n",
    "f(12)\n",
    "f(55)"
   ]
  },
  {
   "cell_type": "code",
   "execution_count": 27,
   "metadata": {},
   "outputs": [
    {
     "data": {
      "text/plain": [
       "120"
      ]
     },
     "execution_count": 27,
     "metadata": {},
     "output_type": "execute_result"
    }
   ],
   "source": [
    "def f(x):\n",
    "    y = x + 5\n",
    "    z = 2 * y\n",
    "    return z\n",
    "\n",
    "f(5)\n",
    "f(12)\n",
    "f(55)"
   ]
  },
  {
   "cell_type": "code",
   "execution_count": 28,
   "metadata": {},
   "outputs": [
    {
     "name": "stdout",
     "output_type": "stream",
     "text": [
      "24\n"
     ]
    }
   ],
   "source": [
    "k = f(7)\n",
    "print(k)"
   ]
  },
  {
   "cell_type": "code",
   "execution_count": 29,
   "metadata": {},
   "outputs": [],
   "source": [
    "a = f(3) + f(5)"
   ]
  },
  {
   "cell_type": "code",
   "execution_count": 30,
   "metadata": {},
   "outputs": [
    {
     "name": "stdout",
     "output_type": "stream",
     "text": [
      "36\n"
     ]
    }
   ],
   "source": [
    "print(a)"
   ]
  },
  {
   "cell_type": "code",
   "execution_count": 33,
   "metadata": {},
   "outputs": [
    {
     "name": "stdout",
     "output_type": "stream",
     "text": [
      "51\n"
     ]
    }
   ],
   "source": [
    "def g(k):\n",
    "    l = k ** 2\n",
    "    m = 5 + l \n",
    "    return m \n",
    "\n",
    "a = g(4)\n",
    "b = g(5)\n",
    "c = a + b \n",
    "print(c)"
   ]
  },
  {
   "cell_type": "code",
   "execution_count": 34,
   "metadata": {},
   "outputs": [],
   "source": [
    "def diziyi_yaz(n):\n",
    "    \"\"\"\n",
    "    0'dan n'ye kadar olan sayıları ekrana yazdırır\n",
    "    \"\"\" \n",
    "    for i in range(n):\n",
    "        print(i, end=\" \")\n"
   ]
  },
  {
   "cell_type": "code",
   "execution_count": 35,
   "metadata": {},
   "outputs": [
    {
     "name": "stdout",
     "output_type": "stream",
     "text": [
      "0 1 2 3 4 "
     ]
    }
   ],
   "source": [
    "diziyi_yaz(5)"
   ]
  },
  {
   "cell_type": "code",
   "execution_count": 36,
   "metadata": {},
   "outputs": [
    {
     "name": "stdout",
     "output_type": "stream",
     "text": [
      "0 1 2 3 4 5 6 7 8 9 10 11 "
     ]
    }
   ],
   "source": [
    "diziyi_yaz(12)"
   ]
  },
  {
   "cell_type": "code",
   "execution_count": 39,
   "metadata": {},
   "outputs": [],
   "source": [
    "def diziyi_dondur(n):\n",
    "    \"\"\" \n",
    "    1'den n'ye kadar olan sayıları string olarak döndüren fonksiyon \n",
    "    diziyi_dondur(3) -> \"1 2 3 \"\n",
    "    diziyi_dondur(5) -> \"1 2 3 4 5 \"\n",
    "    \"\"\"\n",
    "    s = \"\"\n",
    "    for i in range(n):\n",
    "        s = s + str(i) + \" \" \n",
    "    return s "
   ]
  },
  {
   "cell_type": "code",
   "execution_count": 42,
   "metadata": {},
   "outputs": [
    {
     "name": "stdout",
     "output_type": "stream",
     "text": [
      "0 1 2 3 4 \n",
      "0 1\n"
     ]
    }
   ],
   "source": [
    "sayilar = diziyi_dondur(5)\n",
    "print(sayilar)\n",
    "print(sayilar[:3])"
   ]
  },
  {
   "cell_type": "code",
   "execution_count": 43,
   "metadata": {},
   "outputs": [
    {
     "data": {
      "text/plain": [
       "24"
      ]
     },
     "execution_count": 43,
     "metadata": {},
     "output_type": "execute_result"
    }
   ],
   "source": [
    "def h(x):\n",
    "    yy = 2 * x \n",
    "    zz = 3 * yy \n",
    "    return zz \n",
    "\n",
    "h(4)"
   ]
  },
  {
   "cell_type": "code",
   "execution_count": 44,
   "metadata": {},
   "outputs": [
    {
     "ename": "NameError",
     "evalue": "name 'yy' is not defined",
     "output_type": "error",
     "traceback": [
      "\u001b[0;31m---------------------------------------------------------------------------\u001b[0m",
      "\u001b[0;31mNameError\u001b[0m                                 Traceback (most recent call last)",
      "Cell \u001b[0;32mIn [44], line 1\u001b[0m\n\u001b[0;32m----> 1\u001b[0m \u001b[43myy\u001b[49m\n",
      "\u001b[0;31mNameError\u001b[0m: name 'yy' is not defined"
     ]
    }
   ],
   "source": [
    "yy"
   ]
  },
  {
   "cell_type": "code",
   "execution_count": 45,
   "metadata": {},
   "outputs": [
    {
     "name": "stdout",
     "output_type": "stream",
     "text": [
      "6 120\n"
     ]
    }
   ],
   "source": [
    "# n! sayısını hesaplayan bir fonk\n",
    "def faktoryel(n):\n",
    "    sonuc = 1 \n",
    "    for i in range(1, n+1):\n",
    "        sonuc *= i \n",
    "    return sonuc \n",
    "\n",
    "print(faktoryel(3), faktoryel(5))"
   ]
  },
  {
   "cell_type": "code",
   "execution_count": 46,
   "metadata": {},
   "outputs": [
    {
     "data": {
      "text/plain": [
       "40320"
      ]
     },
     "execution_count": 46,
     "metadata": {},
     "output_type": "execute_result"
    }
   ],
   "source": [
    "faktoryel(8)"
   ]
  },
  {
   "cell_type": "code",
   "execution_count": 49,
   "metadata": {},
   "outputs": [
    {
     "name": "stdout",
     "output_type": "stream",
     "text": [
      "2 3 5\n"
     ]
    }
   ],
   "source": [
    "# 1 1 2 3 5 8 13\n",
    "def fibonacci(n):\n",
    "    n_2 = 1 \n",
    "    n_1 = 1 \n",
    "    if n < 1:\n",
    "        print(\"n sayısı minimum 1 olmalıdır!\")\n",
    "        return -1 \n",
    "    elif n == 1:\n",
    "        return 1 \n",
    "    elif n == 2:\n",
    "        return 1 \n",
    "    \n",
    "    for i in range(3, n+1):\n",
    "        son = n_2 + n_1 \n",
    "        n_2 = n_1 \n",
    "        n_1 = son \n",
    "    return son\n",
    "\n",
    "print(fibonacci(3), fibonacci(4), fibonacci(5)) "
   ]
  },
  {
   "cell_type": "code",
   "execution_count": 54,
   "metadata": {},
   "outputs": [
    {
     "name": "stdout",
     "output_type": "stream",
     "text": [
      "1\n"
     ]
    }
   ],
   "source": [
    "print(fibonacci(2))"
   ]
  },
  {
   "cell_type": "code",
   "execution_count": 59,
   "metadata": {},
   "outputs": [
    {
     "name": "stdout",
     "output_type": "stream",
     "text": [
      "True False True False True\n"
     ]
    }
   ],
   "source": [
    "# bir sayının asal sayı (1 ve kendinden başka bir böleni olmayan) olup olmadığını bulan bir fonk \n",
    "\n",
    "def asal_mi(x):\n",
    "    \"\"\" \n",
    "    eğer x asalsa True; asal değilse False dönelim\n",
    "    \"\"\"\n",
    "    for i in range(2, int(x/2) + 1):\n",
    "        if x % i == 0:\n",
    "            return False \n",
    "    \n",
    "    return True\n",
    "\n",
    "print(asal_mi(2), asal_mi(8), asal_mi(13), asal_mi(24), asal_mi(97))"
   ]
  },
  {
   "cell_type": "code",
   "execution_count": 60,
   "metadata": {},
   "outputs": [
    {
     "name": "stdout",
     "output_type": "stream",
     "text": [
      "2\n",
      "3\n",
      "5\n",
      "7\n",
      "11\n",
      "13\n",
      "17\n",
      "19\n",
      "23\n",
      "29\n",
      "31\n",
      "37\n"
     ]
    }
   ],
   "source": [
    "def tum_asallar(n):\n",
    "    for i in range(2, n):\n",
    "        if asal_mi(i):\n",
    "            print(i)\n",
    "\n",
    "tum_asallar(40)"
   ]
  },
  {
   "cell_type": "code",
   "execution_count": 61,
   "metadata": {},
   "outputs": [
    {
     "name": "stdout",
     "output_type": "stream",
     "text": [
      "[2, 3, 5, 7, 11, 13, 17, 19, 23, 29, 31, 37, 41, 43, 47]\n"
     ]
    }
   ],
   "source": [
    "def asallar_listesi_olustur(n):\n",
    "    sonuc = [] \n",
    "    for i in range(2, n+1):\n",
    "        if asal_mi(i):\n",
    "            sonuc.append(i) \n",
    "    \n",
    "    return sonuc \n",
    "\n",
    "my_list = asallar_listesi_olustur(51) \n",
    "print(my_list)"
   ]
  },
  {
   "cell_type": "code",
   "execution_count": 62,
   "metadata": {},
   "outputs": [
    {
     "data": {
      "text/plain": [
       "[2, 3, 5, 7, 11, 13, 17]"
      ]
     },
     "execution_count": 62,
     "metadata": {},
     "output_type": "execute_result"
    }
   ],
   "source": [
    "my_list[:7]"
   ]
  },
  {
   "cell_type": "code",
   "execution_count": 63,
   "metadata": {},
   "outputs": [
    {
     "name": "stdout",
     "output_type": "stream",
     "text": [
      "True False\n"
     ]
    }
   ],
   "source": [
    "def cift_mi(k):\n",
    "    kalan = k % 2 \n",
    "    karar = False \n",
    "    if kalan == 0:\n",
    "        karar = True \n",
    "    return karar \n",
    "\n",
    "print(cift_mi(0), cift_mi(7))"
   ]
  },
  {
   "cell_type": "code",
   "execution_count": 64,
   "metadata": {},
   "outputs": [
    {
     "name": "stdout",
     "output_type": "stream",
     "text": [
      "True False\n"
     ]
    }
   ],
   "source": [
    "def tek_mi(k):\n",
    "    x = cift_mi(k)\n",
    "    karar = not x \n",
    "    return karar \n",
    "\n",
    "print(tek_mi(3), tek_mi(4))"
   ]
  },
  {
   "cell_type": "code",
   "execution_count": 65,
   "metadata": {},
   "outputs": [
    {
     "name": "stdout",
     "output_type": "stream",
     "text": [
      "3 4\n"
     ]
    }
   ],
   "source": [
    "def arttir(x):\n",
    "    x = x + 1\n",
    "    return x \n",
    "\n",
    "k = 3\n",
    "l = arttir(k)\n",
    "print(k, l)"
   ]
  },
  {
   "cell_type": "code",
   "execution_count": 66,
   "metadata": {},
   "outputs": [
    {
     "name": "stdout",
     "output_type": "stream",
     "text": [
      "[1, 2, 5] [1, 2, 5]\n"
     ]
    }
   ],
   "source": [
    "def bes_ekle(l):\n",
    "    l.append(5)\n",
    "    return l \n",
    "\n",
    "a = [1, 2]\n",
    "b = bes_ekle(a)\n",
    "print(a, b)"
   ]
  },
  {
   "cell_type": "code",
   "execution_count": 67,
   "metadata": {},
   "outputs": [
    {
     "name": "stdout",
     "output_type": "stream",
     "text": [
      "8 3 -6\n"
     ]
    }
   ],
   "source": [
    "def topla(a, b):\n",
    "    toplam = a + b \n",
    "    return toplam \n",
    "\n",
    "print(topla(3, 5), topla(1, 2), topla(-9, 3))"
   ]
  },
  {
   "cell_type": "code",
   "execution_count": 68,
   "metadata": {},
   "outputs": [
    {
     "name": "stdout",
     "output_type": "stream",
     "text": [
      "3\n"
     ]
    }
   ],
   "source": [
    "# verilen listedeki en büyük sayıyı bulan fonk \n",
    "def en_buyuk_sayi(l):\n",
    "    en_buyuk = l[0] \n",
    "    for el in l:\n",
    "        if el > en_buyuk:\n",
    "            en_buyuk = el \n",
    "    \n",
    "    return en_buyuk\n",
    "\n",
    "print(en_buyuk_sayi([1,3,2]))"
   ]
  },
  {
   "cell_type": "code",
   "execution_count": 69,
   "metadata": {},
   "outputs": [
    {
     "name": "stdout",
     "output_type": "stream",
     "text": [
      "13 2\n"
     ]
    }
   ],
   "source": [
    "\"\"\" \n",
    "alıştırma:\n",
    "aşağıdaki fonksiyonu doğru çalışacak şekilde düzeltiniz.\n",
    "\"\"\"\n",
    "def en_buyuk_asal(l):\n",
    "    en_buyuk = 2 \n",
    "    for el in l: \n",
    "        if el>en_buyuk and asal_mi(el):\n",
    "            en_buyuk = el \n",
    "    \n",
    "    return en_buyuk \n",
    "\n",
    "listem_1 = [1, 3, 2, 13, 5, 6]\n",
    "listem_2 = [1, 4, 8, 18]\n",
    "print(en_buyuk_asal(listem_1), en_buyuk_asal(listem_2))"
   ]
  },
  {
   "cell_type": "code",
   "execution_count": 70,
   "metadata": {},
   "outputs": [
    {
     "name": "stdout",
     "output_type": "stream",
     "text": [
      "* * * * * * * *  \n",
      "* * * * * * * *  \n",
      "* * * * * * * *  \n",
      "* * * * * * * *  \n",
      "* * * * * * * *  \n"
     ]
    }
   ],
   "source": [
    "\"\"\" \n",
    "genişlik ve yüksekliği verilen bir dikdörtgeni * karakterleri ile çizdiren bir fonk. tanımlkayınız\n",
    "\"\"\"\n",
    "\n",
    "def dikdortgen_cizdir(genislik, yukseklik):\n",
    "    for i in range(yukseklik):\n",
    "        for j in range(genislik):\n",
    "            print(\"*\", end=\" \")\n",
    "        print(\" \")\n",
    "\n",
    "dikdortgen_cizdir(8, 5)"
   ]
  },
  {
   "cell_type": "code",
   "execution_count": 71,
   "metadata": {},
   "outputs": [
    {
     "name": "stdout",
     "output_type": "stream",
     "text": [
      "* * * * * * * * * * * *  \n",
      "* * * * * * * * * * * *  \n"
     ]
    }
   ],
   "source": [
    "dikdortgen_cizdir(12, 2)"
   ]
  },
  {
   "cell_type": "code",
   "execution_count": 72,
   "metadata": {},
   "outputs": [
    {
     "name": "stdout",
     "output_type": "stream",
     "text": [
      "* * * * * * *  \n",
      "* * * * * * *  \n",
      "* * * * * * *  \n",
      "* * * * * * *  \n",
      "* * * * * * *  \n",
      "* * * * * * *  \n"
     ]
    }
   ],
   "source": [
    "dikdortgen_cizdir(7 , 6)"
   ]
  },
  {
   "cell_type": "code",
   "execution_count": 76,
   "metadata": {},
   "outputs": [
    {
     "name": "stdout",
     "output_type": "stream",
     "text": [
      "b b 6 3\n"
     ]
    }
   ],
   "source": [
    "s = \"abccba\"\n",
    "print(s[1], s[-2], len(s), len([1,1,1]))"
   ]
  },
  {
   "cell_type": "code",
   "execution_count": 87,
   "metadata": {},
   "outputs": [
    {
     "name": "stdout",
     "output_type": "stream",
     "text": [
      "False True False\n"
     ]
    }
   ],
   "source": [
    "# bir stringin palindrom olup olmadığına karar veren bir fonk tanımlayınız\n",
    "# ör: \"abccba\", \"ata\" birer palindromdur; \"abb\" bir palindrom değildir.\n",
    "def palindrom_mu(s):\n",
    "    \"\"\" \n",
    "    \"ata\"\n",
    "    \"nalan\"\n",
    "    \"xyzyx\" \n",
    "    \"abccba\"\n",
    "    \"abccba\"\n",
    "    \"\"\" \n",
    "    \"\"\"\n",
    "    s = \"abccba\"\n",
    "    if s[0] == s[-1]:\n",
    "        if s[1] == s[-2]:\n",
    "            if s[2] == s[-3]:\n",
    "                return True\n",
    "    return False\n",
    "    \"\"\" \n",
    "    uzunluk = len(s)\n",
    "    for i in range(int(uzunluk / 2)):\n",
    "        if s[i] != s[(i+1)*-1]:\n",
    "            return False\n",
    "    \n",
    "    return True \n",
    "\n",
    "print(palindrom_mu(\"abckba\"), palindrom_mu(\"xyyx\"), palindrom_mu(\"axtza\"))\n"
   ]
  },
  {
   "cell_type": "code",
   "execution_count": 88,
   "metadata": {},
   "outputs": [
    {
     "name": "stdout",
     "output_type": "stream",
     "text": [
      "a\n"
     ]
    }
   ],
   "source": [
    "def dummy():\n",
    "    print(\"a\")\n",
    "\n",
    "dummy()\n",
    "# Sınav kapsam sonu :-)"
   ]
  },
  {
   "cell_type": "code",
   "execution_count": 89,
   "metadata": {},
   "outputs": [
    {
     "data": {
      "text/plain": [
       "6"
      ]
     },
     "execution_count": 89,
     "metadata": {},
     "output_type": "execute_result"
    }
   ],
   "source": [
    "def arttir(x):\n",
    "    return x + 1 \n",
    "\n",
    "def arttiri_dondur():\n",
    "    return arttir \n",
    "\n",
    "k = arttiri_dondur() \n",
    "k(5)"
   ]
  },
  {
   "cell_type": "code",
   "execution_count": null,
   "metadata": {},
   "outputs": [],
   "source": []
  }
 ],
 "metadata": {
  "kernelspec": {
   "display_name": "tfnew",
   "language": "python",
   "name": "python3"
  },
  "language_info": {
   "codemirror_mode": {
    "name": "ipython",
    "version": 3
   },
   "file_extension": ".py",
   "mimetype": "text/x-python",
   "name": "python",
   "nbconvert_exporter": "python",
   "pygments_lexer": "ipython3",
   "version": "3.9.16"
  }
 },
 "nbformat": 4,
 "nbformat_minor": 2
}
