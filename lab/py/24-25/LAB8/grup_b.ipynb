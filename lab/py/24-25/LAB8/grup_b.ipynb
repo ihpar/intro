{
 "cells": [
  {
   "cell_type": "code",
   "execution_count": 2,
   "metadata": {},
   "outputs": [
    {
     "name": "stdout",
     "output_type": "stream",
     "text": [
      "İyi çalışmalar\n"
     ]
    }
   ],
   "source": [
    "\"\"\" \n",
    "1 - Bir string'in simetrik olup olmadığını bulan simetrik_mi(str) fonksiyonunu tanımlayınız.\n",
    "Simetrik stringin ilk yarısı ile son yarısı aynıdır.\n",
    "\n",
    "Ör 1: simetrik_mi(\"abcxabc\") -> True\n",
    "\n",
    "Ör 2: simetrik_mi(\"abcabd\") -> False\n",
    "\n",
    "2 - Bir stringin palindrom olup olmadığını bulan palindrom_mu(str) fonksiyonunu tanımlayınız.\n",
    "Palindrom bir string soldan sağa ve sağdan sola aynı şekilde yazılır.\n",
    "\n",
    "Ör 1: palindrom_mu(\"abxba\") -> True\n",
    "\n",
    "Ör 2: palindrom_mu(\"abcxccc\") -> False\n",
    "\n",
    "3 - Bir stringin i'ninci karakterini stringden silen sil(str, int) fonksiyonunu tanımlayınız.\n",
    "\n",
    "Ör: sil(\"abc\", 1) -> \"ac\"\n",
    "\n",
    "4 - Bir stringdeki sesli haftleri stringde bulunma sırasına göre veren \n",
    "sesliler(str) fonlsiyonunu tanımlayınız. Sesli harfler: aeıioöuüAEIİOÖUÜ\n",
    "\n",
    "Ör 1: sesliler(\"kalem\") -> \"ae\"\n",
    "\n",
    "Ör 2: sesliler(\"Ağaç\") -> \"Aa\"\n",
    "\n",
    "5 - Bir listedeki iki elemanın yerini değiştiren degistir(list, var, var) fonksiyonunu tanımlayınız.\n",
    "\n",
    "Ör 1: degistir([\"a\", \"b\", \"c\"], \"a\", \"c\") -> [\"c\", \"b\", \"a\"]\n",
    "\n",
    "Ör 1: degistir([4, 1, 2, 3, 5], 1, 5) -> [4, 5, 2, 3, 1]\n",
    "\n",
    "6 - Bir listedeki çift sayıları bulan ciftler(list) fonksiyonunu tanımlayınız.\n",
    "\n",
    "Ör: ciftler([5, 2, 3, 4]) -> [2, 4]\n",
    "\n",
    "7 - Bir listedeki ikinci en büyük sayıyı bulan ikinci_en_buyuk(list) fonksiyonunu tanımlayınız.\n",
    "\n",
    "Ör: ikinci_en_buyuk([5, -1, 4, 3, 0]) -> 4\n",
    "\n",
    "8 - Bir listedeki verilen elemandan büyük tüm elemanların sayısını bulan \n",
    "buyuklerin_sayisini_bul(list, int) fonksiyonunu tanımlayınız.\n",
    "\n",
    "Örn 1: buyuklerin_sayisini_bul([3, 6, 1, 4, 7], 2) -> 4\n",
    "    3, 6, 4, 7 sayıları 2'den büyüktür.\n",
    "\n",
    "Örn 2: buyuklerin_sayisini_bul([3, 6, 1, 4, 7], 4) -> 2\n",
    "    6, 7 sayıları 4'ten büyüktür.\n",
    "\"\"\"\n",
    "\n",
    "print(\"İyi çalışmalar\")"
   ]
  },
  {
   "cell_type": "markdown",
   "metadata": {},
   "source": [
    "parametresiz fonksiyonlar\n",
    "\n",
    "tek parametreli fonksiyonlar: f x = x^2 + 2x + 1\n",
    "\n",
    "çok parametreli fonksiyonlar: listelerin kesişimi - farkı\n",
    "\n",
    "pass by value/reference\n",
    "\n",
    "dictionary"
   ]
  },
  {
   "cell_type": "code",
   "execution_count": 1,
   "metadata": {},
   "outputs": [
    {
     "name": "stdout",
     "output_type": "stream",
     "text": [
      "7\n"
     ]
    }
   ],
   "source": [
    "def bar():\n",
    "    return 7 \n",
    "\n",
    "a = bar()\n",
    "print(a)"
   ]
  },
  {
   "cell_type": "code",
   "execution_count": 2,
   "metadata": {},
   "outputs": [
    {
     "name": "stdout",
     "output_type": "stream",
     "text": [
      "Merhaba\n"
     ]
    }
   ],
   "source": [
    "def baz():\n",
    "    print(\"Merhaba\")\n",
    "\n",
    "baz()"
   ]
  },
  {
   "cell_type": "code",
   "execution_count": 3,
   "metadata": {},
   "outputs": [
    {
     "name": "stdout",
     "output_type": "stream",
     "text": [
      "36\n"
     ]
    }
   ],
   "source": [
    "def foo(x):\n",
    "    \"\"\" \n",
    "    x ^ 2 + 2x + 1\n",
    "    \"\"\"\n",
    "    x_kare = x ** 2\n",
    "    iki_x = 2 * x \n",
    "    sonuc = x_kare + iki_x + 1 \n",
    "    return sonuc \n",
    "\n",
    "a = foo(5)\n",
    "print(a)"
   ]
  },
  {
   "cell_type": "code",
   "execution_count": 4,
   "metadata": {},
   "outputs": [
    {
     "name": "stdout",
     "output_type": "stream",
     "text": [
      "36\n"
     ]
    }
   ],
   "source": [
    "def foo(x):\n",
    "    \"\"\" \n",
    "    x ^ 2 + 2x + 1\n",
    "    \"\"\"\n",
    "    return x ** 2 + 2 * x + 1 \n",
    "\n",
    "a = foo(5)\n",
    "print(a)"
   ]
  },
  {
   "cell_type": "code",
   "execution_count": 5,
   "metadata": {},
   "outputs": [
    {
     "name": "stdout",
     "output_type": "stream",
     "text": [
      "[2, 4]\n"
     ]
    }
   ],
   "source": [
    "\"\"\" \n",
    "İki listenin kesişimini bulan / hesaplayan / return eden kesisim(l1, l2) fonk. tanımlayınız.\n",
    "Örn: kesisim([1,2,3,4], [2,4,6,8]) -> [2,4]\n",
    "\"\"\"\n",
    "def kesisim(l1, l2):\n",
    "    sonuc = []\n",
    "    for el1 in l1:\n",
    "        for el2 in l2:\n",
    "            if el1 == el2:\n",
    "                sonuc.append(el1)\n",
    "    return sonuc \n",
    "\n",
    "sonuc = kesisim([1,2,3,4], [2,4,6,8])\n",
    "print(sonuc) # [2,4]"
   ]
  },
  {
   "cell_type": "code",
   "execution_count": 7,
   "metadata": {},
   "outputs": [
    {
     "name": "stdout",
     "output_type": "stream",
     "text": [
      "1 2 karşılaştırılıyor\n",
      "1 4 karşılaştırılıyor\n",
      "1 6 karşılaştırılıyor\n",
      "1 8 karşılaştırılıyor\n",
      "2 2 karşılaştırılıyor\n",
      "3 2 karşılaştırılıyor\n",
      "3 4 karşılaştırılıyor\n",
      "3 6 karşılaştırılıyor\n",
      "3 8 karşılaştırılıyor\n",
      "4 2 karşılaştırılıyor\n",
      "4 4 karşılaştırılıyor\n",
      "[2, 4]\n"
     ]
    }
   ],
   "source": [
    "def kesisim(l1, l2):\n",
    "    sonuc = []\n",
    "    for el1 in l1:\n",
    "        for el2 in l2:\n",
    "            print(el1, el2, \"karşılaştırılıyor\")\n",
    "            if el1 == el2:\n",
    "                sonuc.append(el1)\n",
    "                break \n",
    "    return sonuc \n",
    "\n",
    "sonuc = kesisim([1,2,3,4], [2,4,6,8])\n",
    "print(sonuc) # [2,4]"
   ]
  },
  {
   "cell_type": "code",
   "execution_count": 8,
   "metadata": {},
   "outputs": [
    {
     "data": {
      "text/plain": [
       "True"
      ]
     },
     "execution_count": 8,
     "metadata": {},
     "output_type": "execute_result"
    }
   ],
   "source": [
    "3 in [1,3,5]"
   ]
  },
  {
   "cell_type": "code",
   "execution_count": 9,
   "metadata": {},
   "outputs": [
    {
     "data": {
      "text/plain": [
       "False"
      ]
     },
     "execution_count": 9,
     "metadata": {},
     "output_type": "execute_result"
    }
   ],
   "source": [
    "7 in [1,3,5]"
   ]
  },
  {
   "cell_type": "code",
   "execution_count": 12,
   "metadata": {},
   "outputs": [
    {
     "name": "stdout",
     "output_type": "stream",
     "text": [
      "[2, 4]\n"
     ]
    }
   ],
   "source": [
    "def kesisim(l1, l2):\n",
    "    sonuc = []\n",
    "    for el1 in l1:\n",
    "        if el1 in l2:\n",
    "            sonuc.append(el1)\n",
    "    return sonuc \n",
    "\n",
    "sonuc = kesisim([1,2,3,4], [2,4,6,8])\n",
    "print(sonuc) # [2,4]"
   ]
  },
  {
   "cell_type": "code",
   "execution_count": 14,
   "metadata": {},
   "outputs": [
    {
     "name": "stdout",
     "output_type": "stream",
     "text": [
      "[2, 4]\n"
     ]
    }
   ],
   "source": [
    "\"\"\" \n",
    "sonuç kümesi tekrarsız elemanlardan oluşacaktır.\n",
    "\"\"\"\n",
    "def kesisim(l1, l2):\n",
    "    sonuc = []\n",
    "    for el1 in l1:\n",
    "        if (el1 in l2) and (el1 not in sonuc):\n",
    "            sonuc.append(el1)\n",
    "    return sonuc \n",
    "\n",
    "sonuc = kesisim([1,2,3,4,2], [2,4,6,8])\n",
    "print(sonuc) # [2,4]"
   ]
  },
  {
   "cell_type": "code",
   "execution_count": 15,
   "metadata": {},
   "outputs": [
    {
     "name": "stdout",
     "output_type": "stream",
     "text": [
      "5\n"
     ]
    }
   ],
   "source": [
    "def foo(x):\n",
    "    x = 2 \n",
    "\n",
    "a = 5 \n",
    "foo(a)\n",
    "print(a)"
   ]
  },
  {
   "cell_type": "code",
   "execution_count": 16,
   "metadata": {},
   "outputs": [
    {
     "name": "stdout",
     "output_type": "stream",
     "text": [
      "['x', 2, 3]\n"
     ]
    }
   ],
   "source": [
    "def baz(l):\n",
    "    l[0] = \"x\"\n",
    "\n",
    "my_list = [1,2,3]\n",
    "baz(my_list)\n",
    "print(my_list)"
   ]
  },
  {
   "cell_type": "code",
   "execution_count": 17,
   "metadata": {},
   "outputs": [],
   "source": [
    "my_dict = {\"ismail\": 2.24, \"ayse\": 3.5, \"ali\": 3.45}"
   ]
  },
  {
   "cell_type": "code",
   "execution_count": 19,
   "metadata": {},
   "outputs": [
    {
     "data": {
      "text/plain": [
       "2.24"
      ]
     },
     "execution_count": 19,
     "metadata": {},
     "output_type": "execute_result"
    }
   ],
   "source": [
    "my_dict[\"ismail\"]"
   ]
  },
  {
   "cell_type": "code",
   "execution_count": 20,
   "metadata": {},
   "outputs": [
    {
     "name": "stdout",
     "output_type": "stream",
     "text": [
      "{'ismail': 2.24, 'ayse': 3.5, 'ali': 3.45, 'hayriye': 4.0}\n"
     ]
    }
   ],
   "source": [
    "my_dict[\"hayriye\"] = 4.0\n",
    "print(my_dict)"
   ]
  },
  {
   "cell_type": "code",
   "execution_count": 21,
   "metadata": {},
   "outputs": [
    {
     "name": "stdout",
     "output_type": "stream",
     "text": [
      "ismail\n",
      "ayse\n",
      "ali\n",
      "hayriye\n"
     ]
    }
   ],
   "source": [
    "for x in my_dict:\n",
    "    print(x)"
   ]
  },
  {
   "cell_type": "code",
   "execution_count": 22,
   "metadata": {},
   "outputs": [
    {
     "name": "stdout",
     "output_type": "stream",
     "text": [
      "ismail 2.24\n",
      "ayse 3.5\n",
      "ali 3.45\n",
      "hayriye 4.0\n"
     ]
    }
   ],
   "source": [
    "for x in my_dict:\n",
    "    print(x, my_dict[x])"
   ]
  },
  {
   "cell_type": "code",
   "execution_count": 23,
   "metadata": {},
   "outputs": [
    {
     "name": "stdout",
     "output_type": "stream",
     "text": [
      "ismail 2.24\n",
      "ayse 3.5\n",
      "ali 3.45\n",
      "hayriye 4.0\n"
     ]
    }
   ],
   "source": [
    "for x, y in my_dict.items():\n",
    "    print(x, y)"
   ]
  },
  {
   "cell_type": "code",
   "execution_count": 24,
   "metadata": {},
   "outputs": [
    {
     "name": "stdout",
     "output_type": "stream",
     "text": [
      "{'x': 'y', 5: 't'}\n"
     ]
    }
   ],
   "source": [
    "d = {}\n",
    "d[\"x\"] = \"y\"\n",
    "d[5] = \"t\"\n",
    "print(d)"
   ]
  },
  {
   "cell_type": "code",
   "execution_count": 25,
   "metadata": {},
   "outputs": [
    {
     "data": {
      "text/plain": [
       "True"
      ]
     },
     "execution_count": 25,
     "metadata": {},
     "output_type": "execute_result"
    }
   ],
   "source": [
    "\"x\" in d"
   ]
  },
  {
   "cell_type": "code",
   "execution_count": 26,
   "metadata": {},
   "outputs": [
    {
     "data": {
      "text/plain": [
       "True"
      ]
     },
     "execution_count": 26,
     "metadata": {},
     "output_type": "execute_result"
    }
   ],
   "source": [
    "5 in d"
   ]
  },
  {
   "cell_type": "code",
   "execution_count": 27,
   "metadata": {},
   "outputs": [
    {
     "data": {
      "text/plain": [
       "False"
      ]
     },
     "execution_count": 27,
     "metadata": {},
     "output_type": "execute_result"
    }
   ],
   "source": [
    "\"a\" in d"
   ]
  },
  {
   "cell_type": "code",
   "execution_count": 29,
   "metadata": {},
   "outputs": [
    {
     "name": "stdout",
     "output_type": "stream",
     "text": [
      "{1: 2, 2: 3, 4: 1, 3: 1}\n"
     ]
    }
   ],
   "source": [
    "my_list = [1,2,1,2,4,2,3]\n",
    "# {1:2, 2:3, 4:1, 3:1}\n",
    "sayilar = {}\n",
    "for sayi in my_list:\n",
    "    if sayi in sayilar:\n",
    "        sayilar[sayi] += 1\n",
    "    else:\n",
    "        sayilar[sayi] = 1 \n",
    "\n",
    "print(sayilar)"
   ]
  },
  {
   "cell_type": "code",
   "execution_count": null,
   "metadata": {},
   "outputs": [],
   "source": []
  }
 ],
 "metadata": {
  "kernelspec": {
   "display_name": "mlenv",
   "language": "python",
   "name": "python3"
  },
  "language_info": {
   "codemirror_mode": {
    "name": "ipython",
    "version": 3
   },
   "file_extension": ".py",
   "mimetype": "text/x-python",
   "name": "python",
   "nbconvert_exporter": "python",
   "pygments_lexer": "ipython3",
   "version": "3.12.2"
  }
 },
 "nbformat": 4,
 "nbformat_minor": 2
}
