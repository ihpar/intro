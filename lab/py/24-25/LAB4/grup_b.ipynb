{
 "cells": [
  {
   "cell_type": "code",
   "execution_count": 4,
   "metadata": {},
   "outputs": [
    {
     "name": "stdout",
     "output_type": "stream",
     "text": [
      "0, 1, 2, While bitti\n"
     ]
    }
   ],
   "source": [
    "a = 0\n",
    "\n",
    "while a < 3:\n",
    "    print(a, end=\", \")\n",
    "    a = a + 1 \n",
    "\n",
    "print(\"While bitti\")"
   ]
  },
  {
   "cell_type": "markdown",
   "metadata": {},
   "source": [
    "1 - Print numbers from 1 to 10 using a loop\n",
    "\n",
    "2 - Calculate the sum of numbers from 1 to 10 using a loop\n",
    "\n",
    "3 - Print even numbers from 1 to 10 using a loop\n",
    "\n",
    "4 - Find the average of numbers taken from the user using a loop\n",
    "\n",
    "5 - Find the minimum / maximum of numbers taken from the user using a loop\n",
    "\n",
    "6 - Implement the number guessing game"
   ]
  },
  {
   "cell_type": "code",
   "execution_count": 7,
   "metadata": {},
   "outputs": [
    {
     "name": "stdout",
     "output_type": "stream",
     "text": [
      "1, 2, 3, 4, 5, 6, 7, 8, 9, 10, "
     ]
    }
   ],
   "source": [
    "sayi = 1 \n",
    "\n",
    "while sayi < 11:\n",
    "    print(sayi, end=\", \")\n",
    "    sayi = sayi + 1"
   ]
  },
  {
   "cell_type": "code",
   "execution_count": 8,
   "metadata": {},
   "outputs": [
    {
     "name": "stdout",
     "output_type": "stream",
     "text": [
      "15\n"
     ]
    }
   ],
   "source": [
    "a = 5 \n",
    "a *= 3 \n",
    "print(a)"
   ]
  },
  {
   "cell_type": "code",
   "execution_count": 9,
   "metadata": {},
   "outputs": [
    {
     "name": "stdout",
     "output_type": "stream",
     "text": [
      "1, 2, 3, 4, 5, 6, 7, 8, 9, 10, "
     ]
    }
   ],
   "source": [
    "sayi = 1 \n",
    "\n",
    "while sayi < 11:\n",
    "    print(sayi, end=\", \")\n",
    "    sayi += 1 # sayi = sayi + 1"
   ]
  },
  {
   "cell_type": "code",
   "execution_count": 12,
   "metadata": {},
   "outputs": [
    {
     "name": "stdout",
     "output_type": "stream",
     "text": [
      "1, 2, 3, 4, 5, "
     ]
    }
   ],
   "source": [
    "\"\"\" \n",
    "1'den kullanıcının verdiği N sayısına kadar olan sayıları ekrana yazdıralım.\n",
    "\"\"\"\n",
    "\n",
    "n = int(input(\"Bir sayı gir:\"))\n",
    "sayi = 1 \n",
    "while sayi < n + 1:\n",
    "    print(sayi, end=\", \")\n",
    "    sayi += 1"
   ]
  },
  {
   "cell_type": "code",
   "execution_count": null,
   "metadata": {},
   "outputs": [
    {
     "name": "stdout",
     "output_type": "stream",
     "text": [
      "3, 5, 7, 9, 11, "
     ]
    }
   ],
   "source": [
    "\"\"\" \n",
    "1'den kullanıcının verdiği N sayısına kadar olan 2n+1'leri ekrana yazdıralım.\n",
    "\"\"\"\n",
    "\n",
    "n = int(input(\"Bir sayı gir:\"))\n",
    "sayi = 1 \n",
    "while sayi < n + 1:\n",
    "    print(sayi * 2 + 1, end=\", \")\n",
    "    sayi += 1 "
   ]
  },
  {
   "cell_type": "code",
   "execution_count": 16,
   "metadata": {},
   "outputs": [
    {
     "name": "stdout",
     "output_type": "stream",
     "text": [
      "1, 2, 3, 4, 5, 6, 7, 8, 9, 10, Toplam: 55\n"
     ]
    }
   ],
   "source": [
    "\"\"\" \n",
    "1'den 10'a kadarki sayıların toplamı\n",
    "\"\"\"\n",
    "toplam = 0\n",
    "sayi = 1 \n",
    "while sayi < 11:\n",
    "    print(sayi, end=\", \")\n",
    "    toplam = toplam + sayi\n",
    "    sayi += 1\n",
    "\n",
    "print(\"Toplam:\", toplam)"
   ]
  },
  {
   "cell_type": "code",
   "execution_count": 19,
   "metadata": {},
   "outputs": [
    {
     "name": "stdout",
     "output_type": "stream",
     "text": [
      "Toplam: 9\n"
     ]
    }
   ],
   "source": [
    "\"\"\" \n",
    "1'den kullanıcıdan alınan N'e kadarki tek sayıların toplamı\n",
    "\"\"\"\n",
    "\n",
    "n = int(input(\"Bir sayı gir:\"))\n",
    "sayi = 1 \n",
    "toplam = 0\n",
    "\n",
    "while sayi < n + 1:\n",
    "    toplam = toplam + sayi \n",
    "    sayi += 2\n",
    "\n",
    "print(\"Toplam:\", toplam)"
   ]
  },
  {
   "cell_type": "code",
   "execution_count": 20,
   "metadata": {},
   "outputs": [
    {
     "name": "stdout",
     "output_type": "stream",
     "text": [
      "Tek\n"
     ]
    }
   ],
   "source": [
    "sayi = 5 \n",
    "if (sayi % 2) == 0:\n",
    "    print(\"Çift\")\n",
    "else:\n",
    "    print(\"Tek\")"
   ]
  },
  {
   "cell_type": "code",
   "execution_count": 24,
   "metadata": {},
   "outputs": [
    {
     "name": "stdout",
     "output_type": "stream",
     "text": [
      "2, 4, 6, 8, 10, "
     ]
    }
   ],
   "source": [
    "\"\"\" \n",
    "1,'den 10'a kadarki çift sayıları print edelim\n",
    "\"\"\"\n",
    "i = 1\n",
    "\n",
    "while i < 11:\n",
    "    if i % 2 == 0:\n",
    "        print(i, end=\", \")\n",
    "    \n",
    "    i += 1 "
   ]
  },
  {
   "cell_type": "code",
   "execution_count": 22,
   "metadata": {},
   "outputs": [
    {
     "name": "stdout",
     "output_type": "stream",
     "text": [
      "2, 4, 6, 8, 10, "
     ]
    }
   ],
   "source": [
    "\"\"\" \n",
    "1,'den 10'a kadarki çift sayıları print edelim\n",
    "\"\"\"\n",
    "i = 2\n",
    "\n",
    "while i < 11:\n",
    "    print(i, end=\", \")\n",
    "    i += 2"
   ]
  },
  {
   "cell_type": "code",
   "execution_count": 26,
   "metadata": {},
   "outputs": [
    {
     "name": "stdout",
     "output_type": "stream",
     "text": [
      "Ort: 5.0\n"
     ]
    }
   ],
   "source": [
    "\"\"\" \n",
    "Aritmetik ort\n",
    "\"\"\"\n",
    "\n",
    "n = int(input(\"Kaç tane sayı gireceksin?\"))\n",
    "\n",
    "i = 0 \n",
    "toplam = 0\n",
    "while i < n:\n",
    "    sayi = int(input(\"Sayı gir:\"))\n",
    "    toplam = toplam + sayi \n",
    "    # print(sayi)\n",
    "    i += 1\n",
    "\n",
    "ortalama = toplam / n \n",
    "print(\"Ort:\", ortalama)"
   ]
  },
  {
   "cell_type": "code",
   "execution_count": null,
   "metadata": {},
   "outputs": [
    {
     "name": "stdout",
     "output_type": "stream",
     "text": [
      "5\n",
      "7\n",
      "3\n",
      "10\n",
      "En büyük: 10\n"
     ]
    }
   ],
   "source": [
    "\"\"\" \n",
    "Kullanıcıdan alının N tane pozitif sayının en büyüğü\n",
    "\"\"\"\n",
    "\n",
    "n = int(input(\"Kaç tane sayı gireceksin?\"))\n",
    "en_buyuk = 0\n",
    "i = 0\n",
    "while i < n:\n",
    "    sayi = int(input(\"Sayı gir:\"))\n",
    "    print(sayi)\n",
    "    if sayi > en_buyuk:\n",
    "        en_buyuk = sayi \n",
    "\n",
    "    i += 1\n",
    "\n",
    "print(\"En büyük:\", en_buyuk)"
   ]
  },
  {
   "cell_type": "code",
   "execution_count": null,
   "metadata": {},
   "outputs": [],
   "source": []
  }
 ],
 "metadata": {
  "kernelspec": {
   "display_name": "mlenv",
   "language": "python",
   "name": "python3"
  },
  "language_info": {
   "codemirror_mode": {
    "name": "ipython",
    "version": 3
   },
   "file_extension": ".py",
   "mimetype": "text/x-python",
   "name": "python",
   "nbconvert_exporter": "python",
   "pygments_lexer": "ipython3",
   "version": "3.12.2"
  }
 },
 "nbformat": 4,
 "nbformat_minor": 2
}
