{
 "cells": [
  {
   "cell_type": "markdown",
   "metadata": {},
   "source": [
    "Döngüler (Loops)"
   ]
  },
  {
   "cell_type": "code",
   "execution_count": null,
   "metadata": {},
   "outputs": [],
   "source": []
  },
  {
   "cell_type": "markdown",
   "metadata": {},
   "source": [
    "1 - Print numbers from 1 to 10 using a loop\n",
    "\n",
    "2 - Calculate the sum of numbers from 1 to 10 using a loop\n",
    "\n",
    "3 - Print even numbers from 1 to 10 using a loop\n",
    "\n",
    "4 - Find the average of numbers taken from the user using a loop\n",
    "\n",
    "5 - Find the minimum / maximum of numbers taken from the user using a loop\n",
    "\n",
    "6 - Implement the number guessing game"
   ]
  }
 ],
 "metadata": {
  "kernelspec": {
   "display_name": "mlenv",
   "language": "python",
   "name": "python3"
  },
  "language_info": {
   "codemirror_mode": {
    "name": "ipython",
    "version": 3
   },
   "file_extension": ".py",
   "mimetype": "text/x-python",
   "name": "python",
   "nbconvert_exporter": "python",
   "pygments_lexer": "ipython3",
   "version": "3.12.2"
  }
 },
 "nbformat": 4,
 "nbformat_minor": 2
}
