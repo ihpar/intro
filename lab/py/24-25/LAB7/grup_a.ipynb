{
 "cells": [
  {
   "cell_type": "markdown",
   "metadata": {},
   "source": [
    "1-D Lists\n",
    "\n",
    "2-D Lists\n",
    "\n",
    "List indexing\n",
    "\n",
    "List slicing\n",
    "\n",
    "Strings -> lists\n",
    "\n",
    "Intro to functions"
   ]
  },
  {
   "cell_type": "code",
   "execution_count": 4,
   "metadata": {},
   "outputs": [
    {
     "name": "stdout",
     "output_type": "stream",
     "text": [
      "Kolay gelsin\n"
     ]
    }
   ],
   "source": [
    "\"\"\" \n",
    "Alıştırmalar\n",
    "\n",
    "1 - H x W boyutlarında *'lardan oluşan içi boş dikdörtgen print ediniz. \"*\" * W gibi string çarpması yapmayınız. \n",
    "Örn:\n",
    "H = 4, W = 6 için \n",
    "* * * * * *\n",
    "*         *\n",
    "*         *\n",
    "* * * * * *\n",
    "\n",
    "2 - Bir sayı listesindeki tüm elemanların karelerini alarak listeyi güncelleyiniz.\n",
    "Örn: liste = [-2, 3, 1] -> liste = [4, 9, 1]\n",
    "\n",
    "3 - Bir sayı listesindeki en büyük ve en küçük eleman arasındaki farkı bulunuz.\n",
    "Örn: liste = [5, 1, 8, -3, 2] -> fark = 11\n",
    "\n",
    "4 - Bir sayı listesinde toplamları N eden bir ikilinin bulunup bulunmadığını bulunuz.\n",
    "Örn 1: N = 8, liste = [2, 1, 4, -3, 7, 0] -> sonuç = True \n",
    "        (1 + 7 = 8 olduğu için)\n",
    "\n",
    "Örn 2: N = 8, liste = [2, 1, 4, -3, 5, 0] -> sonuç = False \n",
    "        (Bu listede toplamları 8 yapan bir sayı ikilisi yoktur)\n",
    "\n",
    "5 - Bir matrisin simetrik olup olmadığını bulunuz.\n",
    "Örn 1: \n",
    "[ [1, 3, 5],\n",
    "  [3, 4, 2],\n",
    "  [5, 2, 0] ] -> True\n",
    "\n",
    "Örn 2: \n",
    "[ [1, 3, 5],\n",
    "  [1, 4, 2],\n",
    "  [5, 2, 0] ] -> False\n",
    "\n",
    "6 - N faktöryeli hesaplayan faktoryel isimli fonksiyonu tanımlayınız.\n",
    "Örn: faktoryel(4) -> 24\n",
    "\n",
    "7 - Fibonacci serisindeki N. sıradaki elemanı bulan fibonacci isimli fonksiyonu tanımlayınız.\n",
    "Fibonacci serisi: 1, 1, 2, 3, 5, 8, 13, 21, ...\n",
    "Örn 1: fibonacci(0) -> 1\n",
    "Örn 2: fibonacci(4) -> 5\n",
    "Örn 3: fibonacci(8) -> 34\n",
    "\"\"\"\n",
    "print(\"Kolay gelsin\")"
   ]
  },
  {
   "cell_type": "code",
   "execution_count": 1,
   "metadata": {},
   "outputs": [],
   "source": [
    "my_list = [3, 1, 5]"
   ]
  },
  {
   "cell_type": "code",
   "execution_count": 2,
   "metadata": {},
   "outputs": [
    {
     "name": "stdout",
     "output_type": "stream",
     "text": [
      "3\n"
     ]
    }
   ],
   "source": [
    "print(my_list[0])"
   ]
  },
  {
   "cell_type": "code",
   "execution_count": 3,
   "metadata": {},
   "outputs": [
    {
     "name": "stdout",
     "output_type": "stream",
     "text": [
      "[9, 1, 5]\n"
     ]
    }
   ],
   "source": [
    "my_list[0] = 9 \n",
    "print(my_list)"
   ]
  },
  {
   "cell_type": "code",
   "execution_count": 4,
   "metadata": {},
   "outputs": [
    {
     "name": "stdout",
     "output_type": "stream",
     "text": [
      "4 4\n",
      "5 4\n"
     ]
    }
   ],
   "source": [
    "a = 4\n",
    "b = a \n",
    "print(a, b)\n",
    "a = 5 \n",
    "print(a, b)"
   ]
  },
  {
   "cell_type": "code",
   "execution_count": 5,
   "metadata": {},
   "outputs": [
    {
     "name": "stdout",
     "output_type": "stream",
     "text": [
      "[1, 2, 3] [1, 2, 3]\n",
      "[9, 2, 3] [9, 2, 3]\n"
     ]
    }
   ],
   "source": [
    "l1 = [1,2,3]\n",
    "l2 = l1 \n",
    "print(l1, l2)\n",
    "l1[0] = 9\n",
    "print(l1, l2)"
   ]
  },
  {
   "cell_type": "code",
   "execution_count": 6,
   "metadata": {},
   "outputs": [
    {
     "name": "stdout",
     "output_type": "stream",
     "text": [
      "[1, 2, 3] [1, 2, 3]\n",
      "[9, 2, 3] [1, 2, 3]\n"
     ]
    }
   ],
   "source": [
    "l1 = [1,2,3]\n",
    "l2 = l1.copy() \n",
    "print(l1, l2)\n",
    "l1[0] = 9\n",
    "print(l1, l2)"
   ]
  },
  {
   "cell_type": "code",
   "execution_count": 7,
   "metadata": {},
   "outputs": [
    {
     "name": "stdout",
     "output_type": "stream",
     "text": [
      "[1, 2, 3] [1, 2, 3]\n"
     ]
    }
   ],
   "source": [
    "l1 = [1,2,3]\n",
    "l2 = []\n",
    "for el in l1:\n",
    "    l2.append(el)\n",
    "print(l1, l2)"
   ]
  },
  {
   "cell_type": "code",
   "execution_count": 8,
   "metadata": {},
   "outputs": [
    {
     "name": "stdout",
     "output_type": "stream",
     "text": [
      "4\n"
     ]
    }
   ],
   "source": [
    "listem = [3, 1, 2, 4, 5]\n",
    "print(listem[3])"
   ]
  },
  {
   "cell_type": "code",
   "execution_count": 9,
   "metadata": {},
   "outputs": [
    {
     "name": "stdout",
     "output_type": "stream",
     "text": [
      "[3, 1, 2]\n"
     ]
    }
   ],
   "source": [
    "print(listem[0:3])"
   ]
  },
  {
   "cell_type": "code",
   "execution_count": 10,
   "metadata": {},
   "outputs": [
    {
     "name": "stdout",
     "output_type": "stream",
     "text": [
      "[3, 1, 2]\n"
     ]
    }
   ],
   "source": [
    "print(listem[:3])"
   ]
  },
  {
   "cell_type": "code",
   "execution_count": 13,
   "metadata": {},
   "outputs": [
    {
     "name": "stdout",
     "output_type": "stream",
     "text": [
      "[1, 2, 4, 5]\n"
     ]
    }
   ],
   "source": [
    "listem = [3, 1, 2, 4, 5]\n",
    "print(listem[1:])"
   ]
  },
  {
   "cell_type": "code",
   "execution_count": 14,
   "metadata": {},
   "outputs": [
    {
     "name": "stdout",
     "output_type": "stream",
     "text": [
      "5\n"
     ]
    }
   ],
   "source": [
    "print(listem[-1])"
   ]
  },
  {
   "cell_type": "code",
   "execution_count": 15,
   "metadata": {},
   "outputs": [
    {
     "name": "stdout",
     "output_type": "stream",
     "text": [
      "[4, 5]\n"
     ]
    }
   ],
   "source": [
    "print(listem[-2:])"
   ]
  },
  {
   "cell_type": "code",
   "execution_count": 16,
   "metadata": {},
   "outputs": [
    {
     "name": "stdout",
     "output_type": "stream",
     "text": [
      "M\n"
     ]
    }
   ],
   "source": [
    "s = \"Merhaba dünya\"\n",
    "print(s[0])"
   ]
  },
  {
   "cell_type": "code",
   "execution_count": 17,
   "metadata": {},
   "outputs": [
    {
     "name": "stdout",
     "output_type": "stream",
     "text": [
      "Mer\n"
     ]
    }
   ],
   "source": [
    "print(s[:3])"
   ]
  },
  {
   "cell_type": "code",
   "execution_count": 18,
   "metadata": {},
   "outputs": [
    {
     "name": "stdout",
     "output_type": "stream",
     "text": [
      "M\n",
      "e\n",
      "r\n",
      "h\n",
      "a\n",
      "b\n",
      "a\n",
      " \n",
      "d\n",
      "ü\n",
      "n\n",
      "y\n",
      "a\n"
     ]
    }
   ],
   "source": [
    "for c in s:\n",
    "    print(c)"
   ]
  },
  {
   "cell_type": "code",
   "execution_count": 19,
   "metadata": {},
   "outputs": [
    {
     "ename": "TypeError",
     "evalue": "'str' object does not support item assignment",
     "output_type": "error",
     "traceback": [
      "\u001b[0;31m---------------------------------------------------------------------------\u001b[0m",
      "\u001b[0;31mTypeError\u001b[0m                                 Traceback (most recent call last)",
      "Cell \u001b[0;32mIn[19], line 2\u001b[0m\n\u001b[1;32m      1\u001b[0m s \u001b[38;5;241m=\u001b[39m \u001b[38;5;124m\"\u001b[39m\u001b[38;5;124mMerhaba dünya\u001b[39m\u001b[38;5;124m\"\u001b[39m\n\u001b[0;32m----> 2\u001b[0m \u001b[43ms\u001b[49m\u001b[43m[\u001b[49m\u001b[38;5;241;43m0\u001b[39;49m\u001b[43m]\u001b[49m \u001b[38;5;241m=\u001b[39m \u001b[38;5;124m\"\u001b[39m\u001b[38;5;124mN\u001b[39m\u001b[38;5;124m\"\u001b[39m\n\u001b[1;32m      3\u001b[0m \u001b[38;5;28mprint\u001b[39m(s)\n",
      "\u001b[0;31mTypeError\u001b[0m: 'str' object does not support item assignment"
     ]
    }
   ],
   "source": [
    "s = \"Merhaba dünya\"\n",
    "s[0] = \"N\"\n",
    "print(s)"
   ]
  },
  {
   "cell_type": "code",
   "execution_count": 20,
   "metadata": {},
   "outputs": [
    {
     "ename": "AttributeError",
     "evalue": "'str' object has no attribute 'copy'",
     "output_type": "error",
     "traceback": [
      "\u001b[0;31m---------------------------------------------------------------------------\u001b[0m",
      "\u001b[0;31mAttributeError\u001b[0m                            Traceback (most recent call last)",
      "Cell \u001b[0;32mIn[20], line 2\u001b[0m\n\u001b[1;32m      1\u001b[0m s1 \u001b[38;5;241m=\u001b[39m \u001b[38;5;124m\"\u001b[39m\u001b[38;5;124mMerhaba\u001b[39m\u001b[38;5;124m\"\u001b[39m\n\u001b[0;32m----> 2\u001b[0m s2 \u001b[38;5;241m=\u001b[39m \u001b[43ms1\u001b[49m\u001b[38;5;241;43m.\u001b[39;49m\u001b[43mcopy\u001b[49m()\n",
      "\u001b[0;31mAttributeError\u001b[0m: 'str' object has no attribute 'copy'"
     ]
    }
   ],
   "source": [
    "s1 = \"Merhaba\"\n",
    "s2 = s1.copy()"
   ]
  },
  {
   "cell_type": "code",
   "execution_count": 22,
   "metadata": {},
   "outputs": [
    {
     "name": "stdout",
     "output_type": "stream",
     "text": [
      "4\n"
     ]
    }
   ],
   "source": [
    "my_list = [\n",
    "    [4,5,6], \n",
    "    [7,8,9]\n",
    "]\n",
    "print(my_list[0][0])\n"
   ]
  },
  {
   "cell_type": "code",
   "execution_count": 24,
   "metadata": {},
   "outputs": [
    {
     "name": "stdout",
     "output_type": "stream",
     "text": [
      "22\n"
     ]
    }
   ],
   "source": [
    "my_list = [\n",
    "    [4,5,6], \n",
    "    [7]\n",
    "]\n",
    "\n",
    "toplam = 0\n",
    "for satir in my_list:\n",
    "    for sayi in satir:\n",
    "        toplam += sayi \n",
    "\n",
    "print(toplam)"
   ]
  },
  {
   "cell_type": "code",
   "execution_count": 26,
   "metadata": {},
   "outputs": [
    {
     "name": "stdout",
     "output_type": "stream",
     "text": [
      "2\n",
      "3\n"
     ]
    }
   ],
   "source": [
    "my_list = [\n",
    "    [4,5,6], \n",
    "    [7]\n",
    "]\n",
    "\n",
    "print(len(my_list))\n",
    "print(len(my_list[0]))"
   ]
  },
  {
   "cell_type": "code",
   "execution_count": 28,
   "metadata": {},
   "outputs": [
    {
     "name": "stdout",
     "output_type": "stream",
     "text": [
      "4\n",
      "5\n",
      "6\n",
      "7\n"
     ]
    }
   ],
   "source": [
    "for i in range(len(my_list)):\n",
    "    for j in range(len(my_list[i])):\n",
    "        print(my_list[i][j])"
   ]
  },
  {
   "cell_type": "code",
   "execution_count": 29,
   "metadata": {},
   "outputs": [
    {
     "name": "stdout",
     "output_type": "stream",
     "text": [
      "4\n",
      "5\n",
      "6\n",
      "7\n"
     ]
    }
   ],
   "source": [
    "satir_sayisi = len(my_list)\n",
    "for i in range(satir_sayisi):\n",
    "    satirdaki_eleman_sayisi = len(my_list[i])\n",
    "    for j in range(satirdaki_eleman_sayisi):\n",
    "        print(my_list[i][j])"
   ]
  },
  {
   "cell_type": "code",
   "execution_count": 31,
   "metadata": {},
   "outputs": [
    {
     "name": "stdout",
     "output_type": "stream",
     "text": [
      "4\n",
      "5\n",
      "6\n",
      "7\n"
     ]
    }
   ],
   "source": [
    "my_list = [\n",
    "    [4,5,6], \n",
    "    [7]\n",
    "]\n",
    "satir_sayisi = len(my_list)\n",
    "i = 0\n",
    "while i < satir_sayisi:\n",
    "    satir = my_list[i]\n",
    "    eleman_sayisi = len(satir)\n",
    "    j = 0\n",
    "    while j < eleman_sayisi:\n",
    "        print(satir[j])\n",
    "        j += 1\n",
    "    i += 1"
   ]
  },
  {
   "cell_type": "code",
   "execution_count": 33,
   "metadata": {},
   "outputs": [
    {
     "name": "stdout",
     "output_type": "stream",
     "text": [
      "[0, 1, 3, 4, 7]\n",
      "0 7\n"
     ]
    }
   ],
   "source": [
    "l = [3, 1, 4, 0, 7]\n",
    "l.sort()\n",
    "print(l)\n",
    "print(l[0], l[-1])"
   ]
  },
  {
   "cell_type": "code",
   "execution_count": 34,
   "metadata": {},
   "outputs": [],
   "source": [
    "def merhaba_de():\n",
    "    print(\"Merhaba\")"
   ]
  },
  {
   "cell_type": "code",
   "execution_count": 36,
   "metadata": {},
   "outputs": [
    {
     "name": "stdout",
     "output_type": "stream",
     "text": [
      "Merhaba\n",
      "Merhaba\n",
      "Merhaba\n",
      "Merhaba\n"
     ]
    }
   ],
   "source": [
    "merhaba_de()\n",
    "merhaba_de()\n",
    "merhaba_de()\n",
    "merhaba_de()"
   ]
  },
  {
   "cell_type": "code",
   "execution_count": 40,
   "metadata": {},
   "outputs": [],
   "source": [
    "def karesi(sayi):\n",
    "    kare = sayi * sayi \n",
    "    return kare"
   ]
  },
  {
   "cell_type": "code",
   "execution_count": 41,
   "metadata": {},
   "outputs": [
    {
     "name": "stdout",
     "output_type": "stream",
     "text": [
      "25\n"
     ]
    }
   ],
   "source": [
    "k = karesi(5)\n",
    "print(k)"
   ]
  },
  {
   "cell_type": "code",
   "execution_count": 42,
   "metadata": {},
   "outputs": [
    {
     "name": "stdout",
     "output_type": "stream",
     "text": [
      "25\n",
      "None\n"
     ]
    }
   ],
   "source": [
    "def k2(sayi):\n",
    "    kare = sayi * sayi \n",
    "    print(kare)\n",
    "\n",
    "l = k2(5)\n",
    "print(l)"
   ]
  },
  {
   "cell_type": "code",
   "execution_count": 45,
   "metadata": {},
   "outputs": [
    {
     "name": "stdout",
     "output_type": "stream",
     "text": [
      "116\n"
     ]
    }
   ],
   "source": [
    "def foo(x):\n",
    "    x_2 = x ** 2\n",
    "    x_3 = x ** 3\n",
    "    toplam = x_2 + x_3 \n",
    "    return toplam\n",
    "\n",
    "y = foo(3) + foo(4)\n",
    "print(y)"
   ]
  },
  {
   "cell_type": "code",
   "execution_count": 46,
   "metadata": {},
   "outputs": [
    {
     "data": {
      "text/plain": [
       "3"
      ]
     },
     "execution_count": 46,
     "metadata": {},
     "output_type": "execute_result"
    }
   ],
   "source": [
    "len([2,2,5])"
   ]
  },
  {
   "cell_type": "code",
   "execution_count": null,
   "metadata": {},
   "outputs": [],
   "source": []
  }
 ],
 "metadata": {
  "kernelspec": {
   "display_name": "mlenv",
   "language": "python",
   "name": "python3"
  },
  "language_info": {
   "codemirror_mode": {
    "name": "ipython",
    "version": 3
   },
   "file_extension": ".py",
   "mimetype": "text/x-python",
   "name": "python",
   "nbconvert_exporter": "python",
   "pygments_lexer": "ipython3",
   "version": "3.12.2"
  }
 },
 "nbformat": 4,
 "nbformat_minor": 2
}
