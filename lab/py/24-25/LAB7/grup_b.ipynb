{
 "cells": [
  {
   "cell_type": "markdown",
   "metadata": {},
   "source": [
    "1-D Lists\n",
    "\n",
    "2-D Lists\n",
    "\n",
    "List indexing\n",
    "\n",
    "List slicing\n",
    "\n",
    "Strings -> lists\n",
    "\n",
    "Intro to functions"
   ]
  },
  {
   "cell_type": "code",
   "execution_count": 1,
   "metadata": {},
   "outputs": [
    {
     "name": "stdout",
     "output_type": "stream",
     "text": [
      "Kolay gelsin\n"
     ]
    }
   ],
   "source": [
    "\"\"\" \n",
    "Alıştırmalar\n",
    "\n",
    "1 - H x W boyutlarında *'lardan oluşan içi boş dikdörtgen print ediniz. \"*\" * W gibi string çarpması yapmayınız. \n",
    "Örn:\n",
    "H = 4, W = 6 için \n",
    "* * * * * *\n",
    "*         *\n",
    "*         *\n",
    "* * * * * *\n",
    "\n",
    "2 - Bir sayı listesindeki tüm elemanların karelerini alarak listeyi güncelleyiniz.\n",
    "Örn: liste = [-2, 3, 1] -> liste = [4, 9, 1]\n",
    "\n",
    "3 - Bir sayı listesindeki en büyük ve en küçük eleman arasındaki farkı bulunuz.\n",
    "Örn: liste = [5, 1, 8, -3, 2] -> fark = 11\n",
    "\n",
    "4 - Bir sayı listesinde toplamları N eden bir ikilinin bulunup bulunmadığını bulunuz.\n",
    "Örn 1: N = 8, liste = [2, 1, 4, -3, 7, 0] -> sonuç = True \n",
    "        (1 + 7 = 8 olduğu için)\n",
    "\n",
    "Örn 2: N = 8, liste = [2, 1, 4, -3, 5, 0] -> sonuç = False \n",
    "        (Bu listede toplamları 8 yapan bir sayı ikilisi yoktur)\n",
    "\n",
    "5 - Bir matrisin simetrik olup olmadığını bulunuz.\n",
    "Örn 1: \n",
    "[ [1, 3, 5],\n",
    "  [3, 4, 2],\n",
    "  [5, 2, 0] ] -> True\n",
    "\n",
    "Örn 2: \n",
    "[ [1, 3, 5],\n",
    "  [1, 4, 2],\n",
    "  [5, 2, 0] ] -> False\n",
    "\n",
    "6 - N faktöryeli hesaplayan faktoryel isimli fonksiyonu tanımlayınız.\n",
    "Örn: faktoryel(4) -> 24\n",
    "\n",
    "7 - Fibonacci serisindeki N. sıradaki elemanı bulan fibonacci isimli fonksiyonu tanımlayınız.\n",
    "Fibonacci serisi: 1, 1, 2, 3, 5, 8, 13, 21, ...\n",
    "Örn 1: fibonacci(0) -> 1\n",
    "Örn 2: fibonacci(4) -> 5\n",
    "Örn 3: fibonacci(8) -> 34\n",
    "\"\"\"\n",
    "print(\"Kolay gelsin\")"
   ]
  },
  {
   "cell_type": "code",
   "execution_count": 1,
   "metadata": {},
   "outputs": [
    {
     "name": "stdout",
     "output_type": "stream",
     "text": [
      "2\n"
     ]
    }
   ],
   "source": [
    "my_list = [2, 3, 5]\n",
    "print(my_list[0])"
   ]
  },
  {
   "cell_type": "code",
   "execution_count": 2,
   "metadata": {},
   "outputs": [
    {
     "name": "stdout",
     "output_type": "stream",
     "text": [
      "[90, 3, 5]\n"
     ]
    }
   ],
   "source": [
    "my_list[0] = 90\n",
    "print(my_list)"
   ]
  },
  {
   "cell_type": "code",
   "execution_count": 3,
   "metadata": {},
   "outputs": [
    {
     "name": "stdout",
     "output_type": "stream",
     "text": [
      "5 5\n",
      "9 5\n"
     ]
    }
   ],
   "source": [
    "a = 5\n",
    "b = a \n",
    "print(a, b)\n",
    "a = 9\n",
    "print(a, b)"
   ]
  },
  {
   "cell_type": "code",
   "execution_count": 5,
   "metadata": {},
   "outputs": [
    {
     "name": "stdout",
     "output_type": "stream",
     "text": [
      "[1, 2] [1, 2]\n",
      "[7, 2] [7, 2]\n"
     ]
    }
   ],
   "source": [
    "l1 = [1,2]\n",
    "l2 = l1 \n",
    "print(l1, l2)\n",
    "l1[0] = 7\n",
    "print(l1, l2)"
   ]
  },
  {
   "cell_type": "code",
   "execution_count": 6,
   "metadata": {},
   "outputs": [
    {
     "name": "stdout",
     "output_type": "stream",
     "text": [
      "[1, 2] [1, 2]\n",
      "[7, 2] [1, 2]\n"
     ]
    }
   ],
   "source": [
    "l1 = [1,2]\n",
    "l2 = l1.copy()\n",
    "print(l1, l2)\n",
    "l1[0] = 7\n",
    "print(l1, l2)"
   ]
  },
  {
   "cell_type": "code",
   "execution_count": 7,
   "metadata": {},
   "outputs": [
    {
     "name": "stdout",
     "output_type": "stream",
     "text": [
      "[1, 2]\n"
     ]
    }
   ],
   "source": [
    "l1 = [1, 2]\n",
    "l2 = []\n",
    "for el in l1:\n",
    "    l2.append(el)\n",
    "print(l2)"
   ]
  },
  {
   "cell_type": "code",
   "execution_count": 14,
   "metadata": {},
   "outputs": [
    {
     "name": "stdout",
     "output_type": "stream",
     "text": [
      "3\n",
      "5\n",
      "[3, 7, 5]\n",
      "[3, 7, 5]\n",
      "0\n",
      "1\n",
      "[5, 1, 0]\n",
      "[1, 0]\n"
     ]
    }
   ],
   "source": [
    "my_list = [3, 7, 5, 1, 0]\n",
    "print(my_list[0])\n",
    "print(my_list[2])\n",
    "# list slicing\n",
    "print(my_list[0:3])\n",
    "print(my_list[:3])\n",
    "print(my_list[-1])\n",
    "print(my_list[-2])\n",
    "print(my_list[2:])\n",
    "print(my_list[-2:])"
   ]
  },
  {
   "cell_type": "code",
   "execution_count": 15,
   "metadata": {},
   "outputs": [
    {
     "name": "stdout",
     "output_type": "stream",
     "text": [
      "M\n",
      "e\n",
      "r\n",
      "h\n",
      "a\n",
      "b\n",
      "a\n",
      " \n",
      "d\n",
      "ü\n",
      "n\n",
      "y\n",
      "a\n"
     ]
    }
   ],
   "source": [
    "s = \"Merhaba dünya\"\n",
    "for c in s:\n",
    "    print(c)\n"
   ]
  },
  {
   "cell_type": "code",
   "execution_count": 16,
   "metadata": {},
   "outputs": [
    {
     "data": {
      "text/plain": [
       "'M'"
      ]
     },
     "execution_count": 16,
     "metadata": {},
     "output_type": "execute_result"
    }
   ],
   "source": [
    "s[0]"
   ]
  },
  {
   "cell_type": "code",
   "execution_count": 17,
   "metadata": {},
   "outputs": [
    {
     "data": {
      "text/plain": [
       "'a'"
      ]
     },
     "execution_count": 17,
     "metadata": {},
     "output_type": "execute_result"
    }
   ],
   "source": [
    "s[-1]"
   ]
  },
  {
   "cell_type": "code",
   "execution_count": 18,
   "metadata": {},
   "outputs": [
    {
     "data": {
      "text/plain": [
       "'Mer'"
      ]
     },
     "execution_count": 18,
     "metadata": {},
     "output_type": "execute_result"
    }
   ],
   "source": [
    "s[:3]"
   ]
  },
  {
   "cell_type": "code",
   "execution_count": 20,
   "metadata": {},
   "outputs": [
    {
     "data": {
      "text/plain": [
       "'dünya'"
      ]
     },
     "execution_count": 20,
     "metadata": {},
     "output_type": "execute_result"
    }
   ],
   "source": [
    "s[-5:]"
   ]
  },
  {
   "cell_type": "code",
   "execution_count": 21,
   "metadata": {},
   "outputs": [
    {
     "ename": "TypeError",
     "evalue": "'str' object does not support item assignment",
     "output_type": "error",
     "traceback": [
      "\u001b[0;31m---------------------------------------------------------------------------\u001b[0m",
      "\u001b[0;31mTypeError\u001b[0m                                 Traceback (most recent call last)",
      "Cell \u001b[0;32mIn[21], line 1\u001b[0m\n\u001b[0;32m----> 1\u001b[0m \u001b[43ms\u001b[49m\u001b[43m[\u001b[49m\u001b[38;5;241;43m0\u001b[39;49m\u001b[43m]\u001b[49m \u001b[38;5;241m=\u001b[39m \u001b[38;5;124m\"\u001b[39m\u001b[38;5;124mN\u001b[39m\u001b[38;5;124m\"\u001b[39m\n",
      "\u001b[0;31mTypeError\u001b[0m: 'str' object does not support item assignment"
     ]
    }
   ],
   "source": [
    "s[0] = \"N\""
   ]
  },
  {
   "cell_type": "code",
   "execution_count": 22,
   "metadata": {},
   "outputs": [
    {
     "ename": "AttributeError",
     "evalue": "'str' object has no attribute 'copy'",
     "output_type": "error",
     "traceback": [
      "\u001b[0;31m---------------------------------------------------------------------------\u001b[0m",
      "\u001b[0;31mAttributeError\u001b[0m                            Traceback (most recent call last)",
      "Cell \u001b[0;32mIn[22], line 1\u001b[0m\n\u001b[0;32m----> 1\u001b[0m s2 \u001b[38;5;241m=\u001b[39m \u001b[43ms\u001b[49m\u001b[38;5;241;43m.\u001b[39;49m\u001b[43mcopy\u001b[49m()\n",
      "\u001b[0;31mAttributeError\u001b[0m: 'str' object has no attribute 'copy'"
     ]
    }
   ],
   "source": [
    "s2 = s.copy()"
   ]
  },
  {
   "cell_type": "code",
   "execution_count": 23,
   "metadata": {},
   "outputs": [
    {
     "name": "stdout",
     "output_type": "stream",
     "text": [
      "abc abc\n",
      "def abc\n"
     ]
    }
   ],
   "source": [
    "s1 = \"abc\"\n",
    "s2 = s1 \n",
    "print(s1, s2)\n",
    "s1 = \"def\"\n",
    "print(s1, s2)"
   ]
  },
  {
   "cell_type": "code",
   "execution_count": 24,
   "metadata": {},
   "outputs": [],
   "source": [
    "sayilar = [\n",
    "    [5, 7, 6], \n",
    "    [0, 3, 1]\n",
    "]"
   ]
  },
  {
   "cell_type": "code",
   "execution_count": 26,
   "metadata": {},
   "outputs": [
    {
     "data": {
      "text/plain": [
       "7"
      ]
     },
     "execution_count": 26,
     "metadata": {},
     "output_type": "execute_result"
    }
   ],
   "source": [
    "sayilar[0][1]"
   ]
  },
  {
   "cell_type": "code",
   "execution_count": 30,
   "metadata": {},
   "outputs": [
    {
     "name": "stdout",
     "output_type": "stream",
     "text": [
      "22\n"
     ]
    }
   ],
   "source": [
    "toplam = 0\n",
    "for satir in sayilar:\n",
    "    for sayi in satir:\n",
    "        toplam += sayi \n",
    "\n",
    "print(toplam)"
   ]
  },
  {
   "cell_type": "code",
   "execution_count": 35,
   "metadata": {},
   "outputs": [
    {
     "name": "stdout",
     "output_type": "stream",
     "text": [
      "2\n",
      "3\n",
      "1\n"
     ]
    }
   ],
   "source": [
    "sayilar = [\n",
    "    [5, 7, 6], \n",
    "    [0]\n",
    "]\n",
    "print(len(sayilar))\n",
    "print(len(sayilar[0]))\n",
    "print(len(sayilar[1]))"
   ]
  },
  {
   "cell_type": "code",
   "execution_count": 36,
   "metadata": {},
   "outputs": [
    {
     "name": "stdout",
     "output_type": "stream",
     "text": [
      "5\n",
      "7\n",
      "6\n",
      "0\n"
     ]
    }
   ],
   "source": [
    "for i in range(len(sayilar)):\n",
    "    for j in range(len(sayilar[i])):\n",
    "        print(sayilar[i][j])"
   ]
  },
  {
   "cell_type": "code",
   "execution_count": 37,
   "metadata": {},
   "outputs": [
    {
     "name": "stdout",
     "output_type": "stream",
     "text": [
      "5\n",
      "7\n",
      "6\n",
      "0\n"
     ]
    }
   ],
   "source": [
    "satir_sayisi = len(sayilar)\n",
    "for i in range(satir_sayisi):\n",
    "    eleman_sayisi = len(sayilar[i])\n",
    "    for j in range(eleman_sayisi):\n",
    "        print(sayilar[i][j])"
   ]
  },
  {
   "cell_type": "code",
   "execution_count": 38,
   "metadata": {},
   "outputs": [
    {
     "name": "stdout",
     "output_type": "stream",
     "text": [
      "5\n",
      "7\n",
      "6\n",
      "0\n"
     ]
    }
   ],
   "source": [
    "satir_sayisi = len(sayilar)\n",
    "i = 0\n",
    "while i < satir_sayisi:\n",
    "    eleman_sayisi = len(sayilar[i])\n",
    "    j = 0\n",
    "    while j < eleman_sayisi:\n",
    "        print(sayilar[i][j])\n",
    "        j += 1\n",
    "    i += 1"
   ]
  },
  {
   "cell_type": "code",
   "execution_count": 40,
   "metadata": {},
   "outputs": [
    {
     "name": "stdout",
     "output_type": "stream",
     "text": [
      "0 7\n"
     ]
    }
   ],
   "source": [
    "l = [3, 1, 0, 7]\n",
    "l.sort()\n",
    "print(l[0], l[-1])"
   ]
  },
  {
   "cell_type": "code",
   "execution_count": 41,
   "metadata": {},
   "outputs": [],
   "source": [
    "def merhaba_de():\n",
    "    print(\"Merhaba\")"
   ]
  },
  {
   "cell_type": "code",
   "execution_count": 42,
   "metadata": {},
   "outputs": [
    {
     "name": "stdout",
     "output_type": "stream",
     "text": [
      "Merhaba\n",
      "Merhaba\n",
      "Merhaba\n"
     ]
    }
   ],
   "source": [
    "merhaba_de()\n",
    "merhaba_de()\n",
    "merhaba_de()"
   ]
  },
  {
   "cell_type": "code",
   "execution_count": 43,
   "metadata": {},
   "outputs": [],
   "source": [
    "def karesi(x):\n",
    "    kare = x * x \n",
    "    return kare"
   ]
  },
  {
   "cell_type": "code",
   "execution_count": 44,
   "metadata": {},
   "outputs": [],
   "source": [
    "y = karesi(4)"
   ]
  },
  {
   "cell_type": "code",
   "execution_count": 45,
   "metadata": {},
   "outputs": [
    {
     "name": "stdout",
     "output_type": "stream",
     "text": [
      "16\n"
     ]
    }
   ],
   "source": [
    "print(y)"
   ]
  },
  {
   "cell_type": "code",
   "execution_count": 46,
   "metadata": {},
   "outputs": [
    {
     "name": "stdout",
     "output_type": "stream",
     "text": [
      "16\n",
      "None\n"
     ]
    }
   ],
   "source": [
    "def k2(x):\n",
    "    kare = x * x \n",
    "    print(kare)\n",
    "\n",
    "z = k2(4)\n",
    "print(z)"
   ]
  },
  {
   "cell_type": "code",
   "execution_count": 47,
   "metadata": {},
   "outputs": [
    {
     "name": "stdout",
     "output_type": "stream",
     "text": [
      "116\n"
     ]
    }
   ],
   "source": [
    "def foo(x):\n",
    "    kare = x ** 2\n",
    "    kup = x ** 3\n",
    "    toplam = kare + kup \n",
    "    return toplam\n",
    "\n",
    "z = foo(3) + foo(4)\n",
    "print(z)"
   ]
  },
  {
   "cell_type": "code",
   "execution_count": 48,
   "metadata": {},
   "outputs": [
    {
     "data": {
      "text/plain": [
       "3"
      ]
     },
     "execution_count": 48,
     "metadata": {},
     "output_type": "execute_result"
    }
   ],
   "source": [
    "len([1,2,3])"
   ]
  },
  {
   "cell_type": "code",
   "execution_count": 51,
   "metadata": {},
   "outputs": [
    {
     "name": "stdout",
     "output_type": "stream",
     "text": [
      "3\n"
     ]
    }
   ],
   "source": [
    "def my_length(l):\n",
    "    uzunluk = 0\n",
    "    for el in l:\n",
    "        uzunluk += 1\n",
    "    return uzunluk \n",
    "\n",
    "print(my_length([3, 4, 1]))"
   ]
  },
  {
   "cell_type": "code",
   "execution_count": null,
   "metadata": {},
   "outputs": [],
   "source": []
  }
 ],
 "metadata": {
  "kernelspec": {
   "display_name": "mlenv",
   "language": "python",
   "name": "python3"
  },
  "language_info": {
   "codemirror_mode": {
    "name": "ipython",
    "version": 3
   },
   "file_extension": ".py",
   "mimetype": "text/x-python",
   "name": "python",
   "nbconvert_exporter": "python",
   "pygments_lexer": "ipython3",
   "version": "3.12.2"
  }
 },
 "nbformat": 4,
 "nbformat_minor": 2
}
