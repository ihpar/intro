{
 "cells": [
  {
   "cell_type": "markdown",
   "metadata": {},
   "source": [
    "listeler\n",
    "\n",
    "listeye eleman ekleme\n",
    "\n",
    "listenin içindeki eleman sayısını bulma\n",
    "\n",
    "listedeki elemanları tek tek print etme\n",
    "\n",
    "listedeki sayıların toplamı\n",
    "\n",
    "listedeki sayıların en küçüğü\n",
    "\n",
    "listeden eleman çıkarma\n",
    "\n",
    "bir listeden tekrar eden elemanları çıkarma\n",
    "\n",
    "kullanıcıdan aldığı elemanları listeye ekleme"
   ]
  },
  {
   "cell_type": "code",
   "execution_count": null,
   "metadata": {},
   "outputs": [],
   "source": []
  }
 ],
 "metadata": {
  "kernelspec": {
   "display_name": "mlenv",
   "language": "python",
   "name": "python3"
  },
  "language_info": {
   "name": "python",
   "version": "3.12.2"
  }
 },
 "nbformat": 4,
 "nbformat_minor": 2
}
