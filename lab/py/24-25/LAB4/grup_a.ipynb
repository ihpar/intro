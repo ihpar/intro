{
 "cells": [
  {
   "cell_type": "markdown",
   "metadata": {},
   "source": [
    "Döngüler (Loops)"
   ]
  },
  {
   "cell_type": "code",
   "execution_count": 2,
   "metadata": {},
   "outputs": [
    {
     "name": "stdout",
     "output_type": "stream",
     "text": [
      "0\n",
      "1\n",
      "2\n",
      "While bitti\n"
     ]
    }
   ],
   "source": [
    "a = 0\n",
    "while a < 3:\n",
    "    print(a) \n",
    "    a = a + 1\n",
    "\n",
    "print(\"While bitti\")"
   ]
  },
  {
   "cell_type": "markdown",
   "metadata": {},
   "source": [
    "1 - Print numbers from 1 to 10 using a loop\n",
    "\n",
    "2 - Calculate the sum of numbers from 1 to 10 using a loop\n",
    "\n",
    "3 - Print even numbers from 1 to 10 using a loop\n",
    "\n",
    "4 - Find the average of numbers taken from the user using a loop\n",
    "\n",
    "5 - Find the minimum / maximum of numbers taken from the user using a loop\n",
    "\n",
    "6 - Implement the number guessing game"
   ]
  },
  {
   "cell_type": "code",
   "execution_count": 6,
   "metadata": {},
   "outputs": [
    {
     "name": "stdout",
     "output_type": "stream",
     "text": [
      "1, 2, 3, 4, 5, 6, 7, 8, 9, 10, "
     ]
    }
   ],
   "source": [
    "sayi = 1\n",
    "while sayi < 11:\n",
    "    print(sayi, end=\", \")\n",
    "    sayi = sayi + 1"
   ]
  },
  {
   "cell_type": "code",
   "execution_count": 8,
   "metadata": {},
   "outputs": [
    {
     "name": "stdout",
     "output_type": "stream",
     "text": [
      "10\n"
     ]
    }
   ],
   "source": [
    "a = 5\n",
    "a *= 2 # a = a * 2\n",
    "print(a)"
   ]
  },
  {
   "cell_type": "code",
   "execution_count": 9,
   "metadata": {},
   "outputs": [
    {
     "name": "stdout",
     "output_type": "stream",
     "text": [
      "1, 2, 3, 4, 5, 6, 7, 8, 9, 10, "
     ]
    }
   ],
   "source": [
    "sayi = 1\n",
    "while sayi < 11:\n",
    "    print(sayi, end=\", \")\n",
    "    sayi += 1"
   ]
  },
  {
   "cell_type": "code",
   "execution_count": 10,
   "metadata": {},
   "outputs": [
    {
     "name": "stdout",
     "output_type": "stream",
     "text": [
      "1, 2, 3, 4, 5, 6, "
     ]
    }
   ],
   "source": [
    "\"\"\"\n",
    "1'den kullanıcıdan aldığı N sayısına kadar olan integer'ları ekrana yazdıran program.\n",
    "\"\"\" \n",
    "n = int(input(\"Bir pozitif tam sayı girin:\"))\n",
    "\n",
    "sayi = 1\n",
    "while sayi < n + 1:\n",
    "    print(sayi, end=\", \")\n",
    "    sayi += 1"
   ]
  },
  {
   "cell_type": "code",
   "execution_count": 13,
   "metadata": {},
   "outputs": [
    {
     "name": "stdout",
     "output_type": "stream",
     "text": [
      "55\n"
     ]
    }
   ],
   "source": [
    "\"\"\" \n",
    "1'den 10'a kadar olan sayıların toplamı\n",
    "\"\"\"\n",
    "toplam = 0\n",
    "sayi = 1\n",
    "while sayi < 11:\n",
    "    toplam = toplam + sayi \n",
    "    sayi += 1\n",
    "\n",
    "print(toplam)"
   ]
  },
  {
   "cell_type": "code",
   "execution_count": 20,
   "metadata": {},
   "outputs": [
    {
     "name": "stdout",
     "output_type": "stream",
     "text": [
      "2 4 6 8 10 "
     ]
    }
   ],
   "source": [
    "\"\"\" \n",
    "1'den 10'a kadar çift sayıları ekrana print edelim.\n",
    "\"\"\"\n",
    "\n",
    "sayi = 1 \n",
    "while sayi < 11:\n",
    "    if (sayi % 2) == 0:\n",
    "        print(sayi, end=\" \")\n",
    "\n",
    "    sayi += 1"
   ]
  },
  {
   "cell_type": "code",
   "execution_count": 19,
   "metadata": {},
   "outputs": [
    {
     "name": "stdout",
     "output_type": "stream",
     "text": [
      "1 3 5 7 9 "
     ]
    }
   ],
   "source": [
    "sayi = 1 \n",
    "while sayi < 11:\n",
    "    if sayi % 2 == 1:\n",
    "        print(sayi, end=\" \")\n",
    "\n",
    "    sayi += 1"
   ]
  },
  {
   "cell_type": "code",
   "execution_count": null,
   "metadata": {},
   "outputs": [
    {
     "name": "stdout",
     "output_type": "stream",
     "text": [
      "5\n",
      "2\n",
      "130\n",
      "Girdiğin sayıların ortalaması: 45.666666666666664\n"
     ]
    }
   ],
   "source": [
    "\"\"\" \n",
    "Kullanıcıdan alınan N tane sayının aritmetik ortalaması\n",
    "\"\"\"\n",
    "\n",
    "n = int(input(\"Kaç tane sayı gireceksin?\"))\n",
    "i = 0\n",
    "toplam = 0\n",
    "while i < n:\n",
    "    sayi = int(input(\"Sayı gir:\"))\n",
    "    toplam = toplam + sayi \n",
    "    # print(sayi)\n",
    "    i += 1\n",
    "\n",
    "ortalama = toplam / n \n",
    "print(\"Girdiğin sayıların ortalaması:\", ortalama)"
   ]
  },
  {
   "cell_type": "code",
   "execution_count": null,
   "metadata": {},
   "outputs": [
    {
     "name": "stdout",
     "output_type": "stream",
     "text": [
      "5\n",
      "1\n",
      "50\n",
      "50\n"
     ]
    }
   ],
   "source": [
    "\"\"\" \n",
    "Kullanıcıdan aldığımız N tane pozitif integer'ın en büyüğünü bulalım\n",
    "\"\"\"\n",
    "\n",
    "n = int(input(\"Kaç tane sayı gireceksin?\"))\n",
    "en_buyuk = 0\n",
    "i = 0\n",
    "while i < n:\n",
    "    sayi = int(input(\"Sayı gir:\"))\n",
    "    print(sayi)\n",
    "    if sayi > en_buyuk:\n",
    "        en_buyuk = sayi\n",
    "\n",
    "    i += 1 \n",
    "\n",
    "print(\"Girdiğin sayıların en büyüğü:\", en_buyuk)"
   ]
  },
  {
   "cell_type": "code",
   "execution_count": null,
   "metadata": {},
   "outputs": [],
   "source": []
  }
 ],
 "metadata": {
  "kernelspec": {
   "display_name": "mlenv",
   "language": "python",
   "name": "python3"
  },
  "language_info": {
   "codemirror_mode": {
    "name": "ipython",
    "version": 3
   },
   "file_extension": ".py",
   "mimetype": "text/x-python",
   "name": "python",
   "nbconvert_exporter": "python",
   "pygments_lexer": "ipython3",
   "version": "3.12.2"
  }
 },
 "nbformat": 4,
 "nbformat_minor": 2
}
