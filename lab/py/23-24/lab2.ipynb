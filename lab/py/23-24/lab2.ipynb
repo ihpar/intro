{
 "cells": [
  {
   "cell_type": "code",
   "execution_count": 1,
   "metadata": {},
   "outputs": [
    {
     "name": "stdout",
     "output_type": "stream",
     "text": [
      "Hello world!\n"
     ]
    }
   ],
   "source": [
    "print(\"Hello world!\")"
   ]
  },
  {
   "cell_type": "code",
   "execution_count": 2,
   "metadata": {},
   "outputs": [
    {
     "name": "stdout",
     "output_type": "stream",
     "text": [
      "9 6\n"
     ]
    }
   ],
   "source": [
    "a = 2\n",
    "b = a + 4\n",
    "a = a + 7\n",
    "print(a, b)"
   ]
  },
  {
   "cell_type": "code",
   "execution_count": 3,
   "metadata": {},
   "outputs": [],
   "source": [
    "msg = \"benim adım \" + \"ismail\""
   ]
  },
  {
   "cell_type": "code",
   "execution_count": 4,
   "metadata": {},
   "outputs": [
    {
     "data": {
      "text/plain": [
       "'benim adım ismail'"
      ]
     },
     "execution_count": 4,
     "metadata": {},
     "output_type": "execute_result"
    }
   ],
   "source": [
    "msg"
   ]
  },
  {
   "cell_type": "code",
   "execution_count": 5,
   "metadata": {},
   "outputs": [
    {
     "name": "stdout",
     "output_type": "stream",
     "text": [
      "benim adım ismail\n"
     ]
    }
   ],
   "source": [
    "print(msg)"
   ]
  },
  {
   "cell_type": "code",
   "execution_count": 6,
   "metadata": {},
   "outputs": [
    {
     "data": {
      "text/plain": [
       "True"
      ]
     },
     "execution_count": 6,
     "metadata": {},
     "output_type": "execute_result"
    }
   ],
   "source": [
    "# boolean: True, False\n",
    "True "
   ]
  },
  {
   "cell_type": "code",
   "execution_count": 7,
   "metadata": {},
   "outputs": [
    {
     "data": {
      "text/plain": [
       "False"
      ]
     },
     "execution_count": 7,
     "metadata": {},
     "output_type": "execute_result"
    }
   ],
   "source": [
    "False"
   ]
  },
  {
   "cell_type": "code",
   "execution_count": 8,
   "metadata": {},
   "outputs": [
    {
     "data": {
      "text/plain": [
       "False"
      ]
     },
     "execution_count": 8,
     "metadata": {},
     "output_type": "execute_result"
    }
   ],
   "source": [
    "True and False"
   ]
  },
  {
   "cell_type": "code",
   "execution_count": 9,
   "metadata": {},
   "outputs": [
    {
     "data": {
      "text/plain": [
       "True"
      ]
     },
     "execution_count": 9,
     "metadata": {},
     "output_type": "execute_result"
    }
   ],
   "source": [
    "True and True"
   ]
  },
  {
   "cell_type": "code",
   "execution_count": 10,
   "metadata": {},
   "outputs": [
    {
     "data": {
      "text/plain": [
       "False"
      ]
     },
     "execution_count": 10,
     "metadata": {},
     "output_type": "execute_result"
    }
   ],
   "source": [
    "False and True"
   ]
  },
  {
   "cell_type": "code",
   "execution_count": 11,
   "metadata": {},
   "outputs": [
    {
     "data": {
      "text/plain": [
       "False"
      ]
     },
     "execution_count": 11,
     "metadata": {},
     "output_type": "execute_result"
    }
   ],
   "source": [
    "False or False"
   ]
  },
  {
   "cell_type": "code",
   "execution_count": 12,
   "metadata": {},
   "outputs": [
    {
     "data": {
      "text/plain": [
       "True"
      ]
     },
     "execution_count": 12,
     "metadata": {},
     "output_type": "execute_result"
    }
   ],
   "source": [
    "False or True"
   ]
  },
  {
   "cell_type": "code",
   "execution_count": 13,
   "metadata": {},
   "outputs": [
    {
     "data": {
      "text/plain": [
       "True"
      ]
     },
     "execution_count": 13,
     "metadata": {},
     "output_type": "execute_result"
    }
   ],
   "source": [
    "True or True"
   ]
  },
  {
   "cell_type": "code",
   "execution_count": 14,
   "metadata": {},
   "outputs": [
    {
     "data": {
      "text/plain": [
       "True"
      ]
     },
     "execution_count": 14,
     "metadata": {},
     "output_type": "execute_result"
    }
   ],
   "source": [
    "not False"
   ]
  },
  {
   "cell_type": "code",
   "execution_count": 16,
   "metadata": {},
   "outputs": [
    {
     "data": {
      "text/plain": [
       "True"
      ]
     },
     "execution_count": 16,
     "metadata": {},
     "output_type": "execute_result"
    }
   ],
   "source": [
    "True and (not False)"
   ]
  },
  {
   "cell_type": "code",
   "execution_count": 17,
   "metadata": {},
   "outputs": [
    {
     "data": {
      "text/plain": [
       "True"
      ]
     },
     "execution_count": 17,
     "metadata": {},
     "output_type": "execute_result"
    }
   ],
   "source": [
    "not(True and False)"
   ]
  },
  {
   "cell_type": "code",
   "execution_count": 18,
   "metadata": {},
   "outputs": [
    {
     "data": {
      "text/plain": [
       "False"
      ]
     },
     "execution_count": 18,
     "metadata": {},
     "output_type": "execute_result"
    }
   ],
   "source": [
    "a = 3\n",
    "a > 5"
   ]
  },
  {
   "cell_type": "code",
   "execution_count": 19,
   "metadata": {},
   "outputs": [
    {
     "data": {
      "text/plain": [
       "True"
      ]
     },
     "execution_count": 19,
     "metadata": {},
     "output_type": "execute_result"
    }
   ],
   "source": [
    "a < 5"
   ]
  },
  {
   "cell_type": "code",
   "execution_count": 20,
   "metadata": {},
   "outputs": [
    {
     "data": {
      "text/plain": [
       "True"
      ]
     },
     "execution_count": 20,
     "metadata": {},
     "output_type": "execute_result"
    }
   ],
   "source": [
    "a <= 3"
   ]
  },
  {
   "cell_type": "code",
   "execution_count": 21,
   "metadata": {},
   "outputs": [
    {
     "data": {
      "text/plain": [
       "True"
      ]
     },
     "execution_count": 21,
     "metadata": {},
     "output_type": "execute_result"
    }
   ],
   "source": [
    "a >= 3"
   ]
  },
  {
   "cell_type": "code",
   "execution_count": 22,
   "metadata": {},
   "outputs": [
    {
     "data": {
      "text/plain": [
       "True"
      ]
     },
     "execution_count": 22,
     "metadata": {},
     "output_type": "execute_result"
    }
   ],
   "source": [
    "a = 5\n",
    "b = 7\n",
    "a < b"
   ]
  },
  {
   "cell_type": "code",
   "execution_count": 23,
   "metadata": {},
   "outputs": [
    {
     "data": {
      "text/plain": [
       "False"
      ]
     },
     "execution_count": 23,
     "metadata": {},
     "output_type": "execute_result"
    }
   ],
   "source": [
    "a > b"
   ]
  },
  {
   "cell_type": "code",
   "execution_count": 24,
   "metadata": {},
   "outputs": [
    {
     "data": {
      "text/plain": [
       "True"
      ]
     },
     "execution_count": 24,
     "metadata": {},
     "output_type": "execute_result"
    }
   ],
   "source": [
    "(a < b) and (a*2 > b)"
   ]
  },
  {
   "cell_type": "code",
   "execution_count": 25,
   "metadata": {},
   "outputs": [
    {
     "name": "stdout",
     "output_type": "stream",
     "text": [
      "a, b'den küçüktür\n"
     ]
    }
   ],
   "source": [
    "# if else\n",
    "\n",
    "if a < b:\n",
    "    print(\"a, b'den küçüktür\")"
   ]
  },
  {
   "cell_type": "code",
   "execution_count": 27,
   "metadata": {},
   "outputs": [
    {
     "name": "stdout",
     "output_type": "stream",
     "text": [
      "X\n",
      "Z\n",
      "Y\n"
     ]
    }
   ],
   "source": [
    "if (a > b) or (a <= b):\n",
    "    print(\"X\")\n",
    "    print(\"Z\")\n",
    "\n",
    "print(\"Y\")"
   ]
  },
  {
   "cell_type": "code",
   "execution_count": 30,
   "metadata": {},
   "outputs": [
    {
     "name": "stdout",
     "output_type": "stream",
     "text": [
      "Oy kullanabilirsin\n"
     ]
    }
   ],
   "source": [
    "yas = 19\n",
    "\n",
    "if yas > 25:\n",
    "    print(\"Sen de yaşlanmışsın\")\n",
    "\n",
    "if yas > 20:\n",
    "    print(\"Üniversite 2'ye mi gidiyorsun?\")\n",
    "\n",
    "if yas > 18:\n",
    "    print(\"Oy kullanabilirsin\")"
   ]
  },
  {
   "cell_type": "code",
   "execution_count": 31,
   "metadata": {},
   "outputs": [
    {
     "name": "stdout",
     "output_type": "stream",
     "text": [
      "Yaşın 40'tan büyük değil\n",
      "B\n",
      "C\n"
     ]
    }
   ],
   "source": [
    "# if ... else\n",
    "\n",
    "yas = 30\n",
    "\n",
    "if yas > 40:\n",
    "    print(\"Yaşın 40'tan büyük\")\n",
    "    print(\"A\")\n",
    "else:\n",
    "    print(\"Yaşın 40'tan büyük değil\")    \n",
    "    print(\"B\")\n",
    "\n",
    "print(\"C\")"
   ]
  },
  {
   "cell_type": "code",
   "execution_count": 32,
   "metadata": {},
   "outputs": [
    {
     "name": "stdout",
     "output_type": "stream",
     "text": [
      "10\n"
     ]
    }
   ],
   "source": [
    "a = 5\n",
    "b = 7\n",
    "\n",
    "if a < b:\n",
    "    print(2*a)\n",
    "else:\n",
    "    print(3*b)"
   ]
  },
  {
   "cell_type": "code",
   "execution_count": 35,
   "metadata": {},
   "outputs": [
    {
     "name": "stdout",
     "output_type": "stream",
     "text": [
      "a, b'den küçük\n",
      "a, b'ye yakın\n"
     ]
    }
   ],
   "source": [
    "if a < b:\n",
    "    print(\"a, b'den küçük\")\n",
    "    if (a + 5) < b:\n",
    "        print(\"a, b'den çok küçük\") \n",
    "    else:\n",
    "        print(\"a, b'ye yakın\")\n",
    "else:\n",
    "    print(3 * b)"
   ]
  },
  {
   "cell_type": "code",
   "execution_count": 37,
   "metadata": {},
   "outputs": [
    {
     "data": {
      "text/plain": [
       "False"
      ]
     },
     "execution_count": 37,
     "metadata": {},
     "output_type": "execute_result"
    }
   ],
   "source": [
    "True == False"
   ]
  },
  {
   "cell_type": "code",
   "execution_count": 44,
   "metadata": {},
   "outputs": [
    {
     "name": "stdout",
     "output_type": "stream",
     "text": [
      "a, b'den küçük değil\n",
      "a, b'nin 3 katı değildir\n",
      "a, b'nin 2 katıdır.\n"
     ]
    }
   ],
   "source": [
    "a, b = 12, 6\n",
    "\n",
    "if a < b:\n",
    "    print(\"a, b'den küçük\")\n",
    "    if (a + 5) < b:\n",
    "        print(\"a, b'den çok küçük\") \n",
    "    else:\n",
    "        print(\"a, b'ye yakın\")\n",
    "else:\n",
    "    print(\"a, b'den küçük değil\")\n",
    "    if a == b*3:\n",
    "        print(\"a, b'nin 3 katıdır\")\n",
    "    else:\n",
    "        print(\"a, b'nin 3 katı değildir\")\n",
    "        if a == b * 2:\n",
    "            print(\"a, b'nin 2 katıdır.\")"
   ]
  },
  {
   "cell_type": "code",
   "execution_count": 46,
   "metadata": {},
   "outputs": [
    {
     "name": "stdout",
     "output_type": "stream",
     "text": [
      "a, b'ye eşit değildir ve a, b'nin 3 katı da değildir.\n"
     ]
    }
   ],
   "source": [
    "a = 4\n",
    "b = 2\n",
    "\n",
    "if a == b:\n",
    "    print(\"a, b'ye eşittir.\")\n",
    "else:\n",
    "    if a == b*3:\n",
    "        print(\"a, b'nin 3 katıdır.\")\n",
    "    else:\n",
    "        print(\"a, b'ye eşit değildir ve a, b'nin 3 katı da değildir.\")"
   ]
  },
  {
   "cell_type": "code",
   "execution_count": 47,
   "metadata": {},
   "outputs": [],
   "source": [
    "if a == b:\n",
    "    print(\"A\")\n",
    "elif a == b*3:\n",
    "    print(\"a, b'nin 3 katıdır.\")"
   ]
  },
  {
   "cell_type": "code",
   "execution_count": 48,
   "metadata": {},
   "outputs": [
    {
     "name": "stdout",
     "output_type": "stream",
     "text": [
      "a, b'ye eşit değildir ve a, b'nin 3 katı da değildir.\n"
     ]
    }
   ],
   "source": [
    "if a == b:\n",
    "    print(\"A\")\n",
    "elif a == b*3:\n",
    "    print(\"a, b'nin 3 katıdır.\")\n",
    "else:\n",
    "    print(\"a, b'ye eşit değildir ve a, b'nin 3 katı da değildir.\")"
   ]
  },
  {
   "cell_type": "code",
   "execution_count": 49,
   "metadata": {},
   "outputs": [
    {
     "name": "stdout",
     "output_type": "stream",
     "text": [
      "a, b'ye eşit değildir ve a, b'nin 3 katı da değildir.\n"
     ]
    }
   ],
   "source": [
    "if a == b:\n",
    "    print(\"A\")\n",
    "elif a == b*3:\n",
    "    print(\"a, b'nin 3 katıdır.\")\n",
    "    if a == b*2:\n",
    "        print(\"a, b'nin 2 katıdır.\")\n",
    "    else:\n",
    "        print(\"a, b'nin 2 katı değildir.\")\n",
    "else:\n",
    "    print(\"a, b'ye eşit değildir ve a, b'nin 3 katı da değildir.\")"
   ]
  },
  {
   "cell_type": "code",
   "execution_count": 51,
   "metadata": {},
   "outputs": [
    {
     "name": "stdout",
     "output_type": "stream",
     "text": [
      "a, b'ye eşit değildir ve a, b'nin 3 katı da değildir.\n",
      "a, b'nin 2 katı değildir.\n"
     ]
    }
   ],
   "source": [
    "a, b = 70, -1\n",
    "if a == b:\n",
    "    print(\"A\")\n",
    "elif a == b*3:\n",
    "    print(\"a, b'nin 3 katıdır.\")\n",
    "else:\n",
    "    print(\"a, b'ye eşit değildir ve a, b'nin 3 katı da değildir.\")\n",
    "    if a == b*2:\n",
    "        print(\"a, b'nin 2 katıdır.\")\n",
    "    else:\n",
    "        print(\"a, b'nin 2 katı değildir.\")"
   ]
  },
  {
   "cell_type": "code",
   "execution_count": 54,
   "metadata": {},
   "outputs": [
    {
     "name": "stdout",
     "output_type": "stream",
     "text": [
      "0\n"
     ]
    }
   ],
   "source": [
    "n = 3\n",
    "x = 0\n",
    "\"\"\"\n",
    "Oku: y\n",
    "\t\tEğer: (y < 0) ve (y > x)\n",
    "\t\t\tHesapla: x = y\n",
    "\n",
    "\"\"\"\n",
    "y = 0\n",
    "if (y < 0) and (y > x):\n",
    "    x = y\n",
    "\n",
    "print(x)"
   ]
  },
  {
   "cell_type": "code",
   "execution_count": 65,
   "metadata": {},
   "outputs": [
    {
     "name": "stdout",
     "output_type": "stream",
     "text": [
      "70.0\n",
      "Notunuz BA\n"
     ]
    }
   ],
   "source": [
    "\"\"\" \n",
    "Alt + Shift + Aşağı ok\n",
    "Opt + Shift + Aşağı ok\n",
    "\n",
    "Öğrencinin 3 adet sınav notu açıklanmıştır.\n",
    "Bu notların aritmetik ortalaması    80'den büyükse veya eşitse AA\n",
    "                                    70'den büyük veya eşitse ve 80'den küçükse BA\n",
    "                                    60'den büyük veya eşitse ve 70'den küçükse BB\n",
    "                                    50'den büyük veya eşitse ve 60'den küçükse CC\n",
    "                                    Hiç biri değilse dersi tekrar alsın.\n",
    "Öğrenicinin başarı notu ekranda gösterilsin\n",
    "\"\"\"\n",
    "\n",
    "not_1 = 60\n",
    "not_2 = 90\n",
    "not_3 = 60\n",
    "\n",
    "toplam = not_1 + not_2 + not_3\n",
    "ortalama = toplam / 3\n",
    "print(ortalama)\n",
    "\n",
    "if ortalama >= 80:\n",
    "    print(\"Notunuz AA\")\n",
    "elif ortalama >= 70:\n",
    "    print(\"Notunuz BA\")\n",
    "elif ortalama >= 60: \n",
    "    print(\"Notunuz BB\")\n",
    "elif ortalama >= 50:\n",
    "    print(\"Notununz CC\")\n",
    "else:\n",
    "    print(\"Dersi tekrar alınız.\")\n"
   ]
  },
  {
   "cell_type": "code",
   "execution_count": 66,
   "metadata": {},
   "outputs": [
    {
     "name": "stdout",
     "output_type": "stream",
     "text": [
      "73.33333333333333\n",
      "Notunuz CC\n"
     ]
    }
   ],
   "source": [
    "\"\"\" \n",
    "ÖNEMLİ!!!\n",
    "Aşağıdaki kodda mantık hatası vardır!\n",
    "\"\"\"\n",
    "not_1 = 70\n",
    "not_2 = 90\n",
    "not_3 = 60\n",
    "\n",
    "toplam = not_1 + not_2 + not_3\n",
    "ortalama = toplam / 3\n",
    "print(ortalama)\n",
    "\n",
    "if ortalama >= 50:\n",
    "    print(\"Notunuz CC\")\n",
    "elif ortalama >= 60:\n",
    "    print(\"Notunuz BB\")\n",
    "elif ortalama >= 70: \n",
    "    print(\"Notunuz BA\")\n",
    "elif ortalama >= 80:\n",
    "    print(\"Notununz AA\")\n",
    "else:\n",
    "    print(\"Dersi tekrar alınız.\")"
   ]
  },
  {
   "cell_type": "code",
   "execution_count": null,
   "metadata": {},
   "outputs": [],
   "source": []
  }
 ],
 "metadata": {
  "kernelspec": {
   "display_name": "tfnew",
   "language": "python",
   "name": "python3"
  },
  "language_info": {
   "codemirror_mode": {
    "name": "ipython",
    "version": 3
   },
   "file_extension": ".py",
   "mimetype": "text/x-python",
   "name": "python",
   "nbconvert_exporter": "python",
   "pygments_lexer": "ipython3",
   "version": "3.9.16"
  }
 },
 "nbformat": 4,
 "nbformat_minor": 2
}
