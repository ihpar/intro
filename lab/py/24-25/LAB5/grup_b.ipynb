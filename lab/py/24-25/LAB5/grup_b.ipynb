{
 "cells": [
  {
   "cell_type": "markdown",
   "metadata": {},
   "source": [
    "1 - Print numbers from 1 to 10 using a for loop\n",
    "\n",
    "2 - Calculate the sum of numbers from 1 to 10 using a for loop\n",
    "\n",
    "3 - Print even numbers from 1 to 10 using a for loop\n",
    "\n",
    "4 - Print numbers from 10 to 1 using a for loop\n",
    "\n",
    "5 - break & continue\n",
    "\n",
    "6 - Print a rectangle of heigh x width with * symbols using nested loops\n",
    "\n",
    "7 - Write a program that prints the numbers from 1 to N. But for multiples of 3, print 'Fizz' instead of the number, and for multiples of 4, print 'Buzz'. For numbers that are multiples of both 3 and 4, print 'FizzBuzz'."
   ]
  },
  {
   "cell_type": "code",
   "execution_count": 1,
   "metadata": {},
   "outputs": [
    {
     "name": "stdout",
     "output_type": "stream",
     "text": [
      "0\n",
      "1\n",
      "2\n",
      "3\n",
      "4\n"
     ]
    }
   ],
   "source": [
    "for eleman in range(0, 5):\n",
    "    print(eleman)"
   ]
  },
  {
   "cell_type": "code",
   "execution_count": 2,
   "metadata": {},
   "outputs": [
    {
     "name": "stdout",
     "output_type": "stream",
     "text": [
      "0\n",
      "1\n",
      "2\n",
      "3\n",
      "4\n"
     ]
    }
   ],
   "source": [
    "for sayi in range(5):\n",
    "    print(sayi)"
   ]
  },
  {
   "cell_type": "code",
   "execution_count": 3,
   "metadata": {},
   "outputs": [
    {
     "name": "stdout",
     "output_type": "stream",
     "text": [
      "1, 2, 3, 4, 5, 6, 7, 8, 9, 10, "
     ]
    }
   ],
   "source": [
    "for sayi in range(1, 11):\n",
    "    print(sayi, end=\", \")"
   ]
  },
  {
   "cell_type": "code",
   "execution_count": 4,
   "metadata": {},
   "outputs": [
    {
     "name": "stdout",
     "output_type": "stream",
     "text": [
      "55\n"
     ]
    }
   ],
   "source": [
    "toplam = 0\n",
    "for sayi in range(1, 11):\n",
    "    toplam = toplam + sayi \n",
    "\n",
    "print(toplam)"
   ]
  },
  {
   "cell_type": "code",
   "execution_count": 5,
   "metadata": {},
   "outputs": [
    {
     "name": "stdout",
     "output_type": "stream",
     "text": [
      "2\n",
      "4\n",
      "6\n",
      "8\n",
      "10\n"
     ]
    }
   ],
   "source": [
    "for num in range(1, 11):\n",
    "    if num % 2 == 0:\n",
    "        print(num)"
   ]
  },
  {
   "cell_type": "code",
   "execution_count": 7,
   "metadata": {},
   "outputs": [
    {
     "name": "stdout",
     "output_type": "stream",
     "text": [
      "2\n",
      "4\n",
      "6\n",
      "8\n",
      "10\n"
     ]
    }
   ],
   "source": [
    "for num in range(2, 11, 2):\n",
    "    print(num)"
   ]
  },
  {
   "cell_type": "code",
   "execution_count": 10,
   "metadata": {},
   "outputs": [
    {
     "name": "stdout",
     "output_type": "stream",
     "text": [
      "10, 9, 8, 7, 6, 5, 4, 3, 2, 1, "
     ]
    }
   ],
   "source": [
    "for i in range(10, 0, -1):\n",
    "    print(i, end=\", \")"
   ]
  },
  {
   "cell_type": "code",
   "execution_count": 12,
   "metadata": {},
   "outputs": [
    {
     "ename": "TypeError",
     "evalue": "'float' object cannot be interpreted as an integer",
     "output_type": "error",
     "traceback": [
      "\u001b[0;31m---------------------------------------------------------------------------\u001b[0m",
      "\u001b[0;31mTypeError\u001b[0m                                 Traceback (most recent call last)",
      "Cell \u001b[0;32mIn[12], line 1\u001b[0m\n\u001b[0;32m----> 1\u001b[0m \u001b[38;5;28;01mfor\u001b[39;00m i \u001b[38;5;129;01min\u001b[39;00m \u001b[38;5;28;43mrange\u001b[39;49m\u001b[43m(\u001b[49m\u001b[38;5;241;43m3.5\u001b[39;49m\u001b[43m,\u001b[49m\u001b[43m \u001b[49m\u001b[38;5;241;43m5.5\u001b[39;49m\u001b[43m)\u001b[49m:\n\u001b[1;32m      2\u001b[0m     \u001b[38;5;28mprint\u001b[39m(i)\n",
      "\u001b[0;31mTypeError\u001b[0m: 'float' object cannot be interpreted as an integer"
     ]
    }
   ],
   "source": [
    "for i in range(3.5, 5.5):\n",
    "    print(i)"
   ]
  },
  {
   "cell_type": "code",
   "execution_count": 16,
   "metadata": {},
   "outputs": [
    {
     "name": "stdout",
     "output_type": "stream",
     "text": [
      "1\n",
      "2\n",
      "3\n",
      "4\n",
      "5\n"
     ]
    }
   ],
   "source": [
    "for i in range(1, 11):\n",
    "    if i == 6:\n",
    "        break \n",
    "    print(i)"
   ]
  },
  {
   "cell_type": "code",
   "execution_count": 15,
   "metadata": {},
   "outputs": [
    {
     "name": "stdout",
     "output_type": "stream",
     "text": [
      "1\n",
      "2\n",
      "3\n",
      "4\n",
      "5\n",
      "6\n"
     ]
    }
   ],
   "source": [
    "for i in range(1, 11):\n",
    "    print(i)\n",
    "    if i == 6:\n",
    "        break "
   ]
  },
  {
   "cell_type": "code",
   "execution_count": 19,
   "metadata": {},
   "outputs": [
    {
     "name": "stdout",
     "output_type": "stream",
     "text": [
      "1, 2, 3, 4, 5, j'nin bu değerinde cont çalıştı: 6\n",
      "7, 8, 9, 10, "
     ]
    }
   ],
   "source": [
    "for j in range(1, 11):\n",
    "    if j == 6:\n",
    "        print(\"j'nin bu değerinde cont çalıştı:\", j)\n",
    "        continue\n",
    "    print(j, end=\", \")"
   ]
  },
  {
   "cell_type": "code",
   "execution_count": 20,
   "metadata": {},
   "outputs": [
    {
     "name": "stdout",
     "output_type": "stream",
     "text": [
      "0 0\n",
      "0 1\n",
      "1 0\n",
      "1 1\n",
      "2 0\n",
      "2 1\n"
     ]
    }
   ],
   "source": [
    "for i in range(3):\n",
    "    for j in range(2):\n",
    "        print(i, j)"
   ]
  },
  {
   "cell_type": "code",
   "execution_count": 21,
   "metadata": {},
   "outputs": [
    {
     "name": "stdout",
     "output_type": "stream",
     "text": [
      "* * * * * \n"
     ]
    }
   ],
   "source": [
    "\"\"\" \n",
    "yuk = 3\n",
    "gen = 5\n",
    "\n",
    "* * * * *\n",
    "* * * * *\n",
    "* * * * *\n",
    "\n",
    "\"\"\"\n",
    "\n",
    "print(\"* \" * 5)"
   ]
  },
  {
   "cell_type": "code",
   "execution_count": 26,
   "metadata": {},
   "outputs": [
    {
     "name": "stdout",
     "output_type": "stream",
     "text": [
      "* * * * * \n",
      "* * * * * \n",
      "* * * * * "
     ]
    }
   ],
   "source": [
    "genislik = 5\n",
    "\n",
    "for i in range(genislik):\n",
    "    print(\"*\", end=\" \")\n",
    "\n",
    "print(\"\")\n",
    "\n",
    "for i in range(genislik):\n",
    "    print(\"*\", end=\" \")\n",
    "\n",
    "print(\"\")\n",
    "\n",
    "for i in range(genislik):\n",
    "    print(\"*\", end=\" \")"
   ]
  },
  {
   "cell_type": "code",
   "execution_count": 30,
   "metadata": {},
   "outputs": [
    {
     "name": "stdout",
     "output_type": "stream",
     "text": [
      "* * * * * * * * * * * * * * * \n",
      "* * * * * * * * * * * * * * * \n",
      "* * * * * * * * * * * * * * * \n",
      "* * * * * * * * * * * * * * * \n",
      "* * * * * * * * * * * * * * * \n"
     ]
    }
   ],
   "source": [
    "yukseklik = 5\n",
    "genislik = 15\n",
    "\n",
    "for i in range(yukseklik):\n",
    "    for j in range(genislik):\n",
    "        print(\"*\", end=\" \")\n",
    "\n",
    "    print(\"\")"
   ]
  },
  {
   "cell_type": "code",
   "execution_count": 40,
   "metadata": {},
   "outputs": [
    {
     "name": "stdout",
     "output_type": "stream",
     "text": [
      "1\n",
      "2\n",
      "Fizz\n",
      "Buzz\n",
      "5\n",
      "Fizz\n",
      "7\n",
      "Buzz\n",
      "Fizz\n",
      "10\n",
      "11\n",
      "FizzBuzz\n",
      "13\n",
      "14\n",
      "Fizz\n",
      "Buzz\n",
      "17\n",
      "Fizz\n",
      "19\n",
      "Buzz\n",
      "Fizz\n",
      "22\n",
      "23\n",
      "FizzBuzz\n"
     ]
    }
   ],
   "source": [
    "N = 24\n",
    "for sayi in range(1, N+1):\n",
    "    if sayi % 12 == 0:\n",
    "        print(\"FizzBuzz\")\n",
    "        continue\n",
    "\n",
    "    if sayi % 3 == 0:\n",
    "        print(\"Fizz\")\n",
    "        continue \n",
    "\n",
    "    if sayi % 4 == 0:\n",
    "        print(\"Buzz\")\n",
    "        continue\n",
    "    \n",
    "    print(sayi)"
   ]
  },
  {
   "cell_type": "code",
   "execution_count": 43,
   "metadata": {},
   "outputs": [
    {
     "name": "stdout",
     "output_type": "stream",
     "text": [
      "* * * * \n"
     ]
    }
   ],
   "source": [
    "\"\"\" \n",
    "N = 3\n",
    "\n",
    "1.\n",
    "\n",
    "*\n",
    "* *\n",
    "* * *\n",
    "\n",
    "2.\n",
    "\n",
    "    *\n",
    "  * *\n",
    "* * *\n",
    "\n",
    "N = 4\n",
    "\n",
    "   *\n",
    "  * *\n",
    " * * *\n",
    "* * * *\n",
    " * * *\n",
    "  * *\n",
    "   *\n",
    "\n",
    "\"\"\"\n",
    "\n",
    "print(\"* \" * 4)"
   ]
  },
  {
   "cell_type": "code",
   "execution_count": 3,
   "metadata": {},
   "outputs": [
    {
     "name": "stdout",
     "output_type": "stream",
     "text": [
      "1\n",
      "2\n",
      "Fizz\n",
      "Buzz\n",
      "5\n",
      "Fizz\n",
      "7\n",
      "Buzz\n",
      "Fizz\n",
      "10\n",
      "11\n",
      "FizzBuzz\n",
      "13\n",
      "14\n",
      "Fizz\n",
      "Buzz\n",
      "17\n",
      "Fizz\n",
      "19\n",
      "Buzz\n",
      "Fizz\n",
      "22\n",
      "23\n",
      "FizzBuzz\n",
      "25\n"
     ]
    }
   ],
   "source": [
    "# Alternatif bir Fizz Buzz çözümü\n",
    "\n",
    "N = 25\n",
    "for sayi in range(1, N+1):\n",
    "    if sayi % 12 == 0:\n",
    "        print(\"FizzBuzz\")\n",
    "    elif sayi % 3 == 0:\n",
    "        print(\"Fizz\")\n",
    "    elif sayi % 4 == 0:\n",
    "        print(\"Buzz\")\n",
    "    else:\n",
    "        print(sayi)"
   ]
  },
  {
   "cell_type": "code",
   "execution_count": null,
   "metadata": {},
   "outputs": [],
   "source": []
  }
 ],
 "metadata": {
  "kernelspec": {
   "display_name": "mlenv",
   "language": "python",
   "name": "python3"
  },
  "language_info": {
   "codemirror_mode": {
    "name": "ipython",
    "version": 3
   },
   "file_extension": ".py",
   "mimetype": "text/x-python",
   "name": "python",
   "nbconvert_exporter": "python",
   "pygments_lexer": "ipython3",
   "version": "3.12.2"
  }
 },
 "nbformat": 4,
 "nbformat_minor": 2
}
