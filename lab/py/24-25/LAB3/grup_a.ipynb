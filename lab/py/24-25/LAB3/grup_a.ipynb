{
 "cells": [
  {
   "cell_type": "code",
   "execution_count": 9,
   "metadata": {},
   "outputs": [
    {
     "name": "stdout",
     "output_type": "stream",
     "text": [
      "...\n"
     ]
    }
   ],
   "source": [
    "a, b = 3, 5 \n",
    "\n",
    "if a > b:\n",
    "    print(\"a, bden büyük\")\n",
    "else:\n",
    "    print(\"...\")"
   ]
  },
  {
   "cell_type": "code",
   "execution_count": 3,
   "metadata": {},
   "outputs": [
    {
     "name": "stdout",
     "output_type": "stream",
     "text": [
      "bitti\n"
     ]
    }
   ],
   "source": [
    "if a > b:\n",
    "    print(\"a bden küçük\")\n",
    "\n",
    "print(\"bitti\")"
   ]
  },
  {
   "cell_type": "code",
   "execution_count": 10,
   "metadata": {},
   "outputs": [
    {
     "name": "stdout",
     "output_type": "stream",
     "text": [
      "3 5\n"
     ]
    }
   ],
   "source": [
    "print(a, b)"
   ]
  },
  {
   "cell_type": "code",
   "execution_count": 7,
   "metadata": {},
   "outputs": [],
   "source": [
    "a = 4"
   ]
  },
  {
   "cell_type": "code",
   "execution_count": 13,
   "metadata": {},
   "outputs": [],
   "source": [
    "if a == b:\n",
    "    print(\"ismail\")"
   ]
  },
  {
   "cell_type": "code",
   "execution_count": null,
   "metadata": {},
   "outputs": [
    {
     "ename": "SyntaxError",
     "evalue": "invalid syntax. Maybe you meant '==' or ':=' instead of '='? (3398035849.py, line 1)",
     "output_type": "error",
     "traceback": [
      "\u001b[0;36m  Cell \u001b[0;32mIn[12], line 1\u001b[0;36m\u001b[0m\n\u001b[0;31m    if a = b:\u001b[0m\n\u001b[0m       ^\u001b[0m\n\u001b[0;31mSyntaxError\u001b[0m\u001b[0;31m:\u001b[0m invalid syntax. Maybe you meant '==' or ':=' instead of '='?\n"
     ]
    }
   ],
   "source": [
    "if a = b:\n",
    "    print(\"is\")"
   ]
  },
  {
   "cell_type": "code",
   "execution_count": 17,
   "metadata": {},
   "outputs": [
    {
     "name": "stdout",
     "output_type": "stream",
     "text": [
      "a, b'den küçük\n"
     ]
    }
   ],
   "source": [
    "a, b = 3, 5\n",
    "\n",
    "if a < b:\n",
    "    print(\"a, b'den küçük\")\n",
    "else:\n",
    "    if a > b:\n",
    "        print(\"a, b'den büyük\")\n",
    "    else:\n",
    "        print(\"a ve b eşit\")"
   ]
  },
  {
   "cell_type": "code",
   "execution_count": 20,
   "metadata": {},
   "outputs": [
    {
     "name": "stdout",
     "output_type": "stream",
     "text": [
      "a ve b eşit\n"
     ]
    }
   ],
   "source": [
    "a, b = 7, 7\n",
    "\n",
    "if a < b:\n",
    "    print(\"a bden küçük\")\n",
    "elif a > b:\n",
    "    print(\"a bden büyük\")\n",
    "else:\n",
    "    print(\"a ve b eşit\")\n"
   ]
  },
  {
   "cell_type": "code",
   "execution_count": null,
   "metadata": {},
   "outputs": [
    {
     "name": "stdout",
     "output_type": "stream",
     "text": [
      "yazı\n",
      "selam\n"
     ]
    }
   ],
   "source": [
    "print(\"yazı\", end=\"\\n\") # == print(\"yazı\")\n",
    "print(\"selam\", end=\"\\n\")"
   ]
  },
  {
   "cell_type": "code",
   "execution_count": 25,
   "metadata": {},
   "outputs": [
    {
     "name": "stdout",
     "output_type": "stream",
     "text": [
      "yazı, selam\n"
     ]
    }
   ],
   "source": [
    "print(\"yazı\", end=\", \")\n",
    "print(\"selam\")"
   ]
  },
  {
   "cell_type": "code",
   "execution_count": null,
   "metadata": {},
   "outputs": [
    {
     "name": "stdout",
     "output_type": "stream",
     "text": [
      "yazıismailselam\n"
     ]
    }
   ],
   "source": [
    "print(\"yazı\", end=\" \")\n",
    "print(\"selam\")"
   ]
  },
  {
   "cell_type": "code",
   "execution_count": 31,
   "metadata": {},
   "outputs": [
    {
     "name": "stdout",
     "output_type": "stream",
     "text": [
      "a\n",
      "b\n",
      "c, d\n"
     ]
    }
   ],
   "source": [
    "print(\"a\")\n",
    "print(\"b\")\n",
    "print(\"c\", end=\", \")\n",
    "print(\"d\")"
   ]
  },
  {
   "cell_type": "code",
   "execution_count": 32,
   "metadata": {},
   "outputs": [
    {
     "name": "stdout",
     "output_type": "stream",
     "text": [
      "a b cd\n"
     ]
    }
   ],
   "source": [
    "print(\"a\", \"b\", \"cd\")"
   ]
  },
  {
   "cell_type": "code",
   "execution_count": 38,
   "metadata": {},
   "outputs": [
    {
     "name": "stdout",
     "output_type": "stream",
     "text": [
      "İyi\n"
     ]
    }
   ],
   "source": [
    "# sinav notunu input alalım\n",
    "# 80 < not <= 100 -> çok iyi \n",
    "# 60 < not <= 80 -> iyi \n",
    "# 40 < not <= 60 -> idare eder \n",
    "# 0 <= not <= 40 -> biraz daha çalış\n",
    "\n",
    "notun = int(input(\"Sınavdan kaç aldın?\"))\n",
    "if (notun > 100) or (notun < 0):\n",
    "    print(\"Hatalı not girişi\")\n",
    "elif notun > 80:\n",
    "    print(\"Çok iyi\")\n",
    "elif notun > 60:\n",
    "    print(\"İyi\")\n",
    "elif notun > 40:\n",
    "    print(\"idare eder\")\n",
    "else:\n",
    "    print(\"Biraz daha çalış\")"
   ]
  },
  {
   "cell_type": "code",
   "execution_count": null,
   "metadata": {},
   "outputs": [
    {
     "name": "stdout",
     "output_type": "stream",
     "text": [
      "6\n"
     ]
    }
   ],
   "source": [
    "import random \n",
    "\n",
    "print(random.randint(0, 9))"
   ]
  },
  {
   "cell_type": "code",
   "execution_count": 40,
   "metadata": {},
   "outputs": [
    {
     "name": "stdout",
     "output_type": "stream",
     "text": [
      "7\n"
     ]
    }
   ],
   "source": [
    "print(random.randint(0, 9))"
   ]
  },
  {
   "cell_type": "code",
   "execution_count": 41,
   "metadata": {},
   "outputs": [
    {
     "name": "stdout",
     "output_type": "stream",
     "text": [
      "6\n"
     ]
    }
   ],
   "source": [
    "print(random.randint(0, 9))"
   ]
  },
  {
   "cell_type": "code",
   "execution_count": 42,
   "metadata": {},
   "outputs": [
    {
     "name": "stdout",
     "output_type": "stream",
     "text": [
      "2\n"
     ]
    }
   ],
   "source": [
    "print(random.randint(0, 9))"
   ]
  },
  {
   "cell_type": "code",
   "execution_count": 43,
   "metadata": {},
   "outputs": [],
   "source": [
    "hedef = random.randint(0, 9)"
   ]
  },
  {
   "cell_type": "code",
   "execution_count": null,
   "metadata": {},
   "outputs": [
    {
     "name": "stdout",
     "output_type": "stream",
     "text": [
      "7\n",
      "Daha küçük bir sayı seç\n"
     ]
    }
   ],
   "source": [
    "\"\"\"\n",
    "Bu oyunda bilgisayar [0 - 9] aralığında \n",
    "bir sayı belirler ve oyuncunun bu sayıyı tahmin etmesi için 3 hakkı vardır.\n",
    "Sadece if - elif - else yapıları ile oyunu tamamlayabilir misiniz?\n",
    "\"\"\"\n",
    "hedef = random.randint(0, 9) \n",
    "tahmin = int(input(\"0 - 9 arasında bi sayı tahmin et\"))\n",
    "\n",
    "if hedef == tahmin:\n",
    "    print(\"Tek seferde kazandın.\")\n",
    "elif hedef > tahmin:\n",
    "    print(\"Daha büyük bir sayı seç\")\n",
    "    tahmin = int(input(\"0 - 9 arasında bi sayı tahmin et\"))\n",
    "else:\n",
    "    print(\"Daha küçük bir sayı seç\")\n",
    "    tahmin = int(input(\"0 - 9 arasında bi sayı tahmin et\"))"
   ]
  },
  {
   "cell_type": "markdown",
   "metadata": {},
   "source": [
    "Çözüm aşağıdadır.\n",
    "\n",
    "Problemi önce kendiniz çözmeye çalışınız.\n",
    "\n",
    "Bu problemin birden çok çözümü vardır..."
   ]
  },
  {
   "cell_type": "code",
   "execution_count": null,
   "metadata": {},
   "outputs": [],
   "source": [
    "\"\"\"\n",
    "Bu oyunda bilgisayar [0 - 9] aralığında \n",
    "bir sayı belirler ve oyuncunun bu sayıyı tahmin etmesi için 3 hakkı vardır.\n",
    "Sadece if - elif - else yapıları ile oyunu tamamlayabilir misiniz?\n",
    "\"\"\"\n",
    "import random \n",
    "oyun_bitti_mi = False\n",
    "mesaj = \"0 - 9 arasında bir sayı seç\"\n",
    "buyuk_sayi_mesaji = \"Daha büyük bir sayı seç\"\n",
    "kucuk_sayi_mesaji = \"Daha küçük bir sayı seç\"\n",
    "\n",
    "hedef = random.randint(0, 9) \n",
    "tahmin = int(input(mesaj))\n",
    "\n",
    "# ilk tur\n",
    "if hedef == tahmin:\n",
    "    print(\"Tek seferde kazandın.\")\n",
    "    oyun_bitti_mi = True\n",
    "elif hedef > tahmin:\n",
    "    print(buyuk_sayi_mesaji)\n",
    "else:\n",
    "    print(kucuk_sayi_mesaji)\n",
    "\n",
    "# ikinci tur\n",
    "if not oyun_bitti_mi:\n",
    "    tahmin = int(input(mesaj))\n",
    "    if hedef == tahmin:\n",
    "        print(\"İkinci hakkında kazandın.\")\n",
    "        oyun_bitti_mi = True\n",
    "    elif hedef > tahmin:\n",
    "        print(buyuk_sayi_mesaji)\n",
    "    else:\n",
    "        print(kucuk_sayi_mesaji)\n",
    "\n",
    "# üçüncü tur\n",
    "if not oyun_bitti_mi:\n",
    "    tahmin = int(input(mesaj))\n",
    "    if hedef == tahmin:\n",
    "        print(\"Üçüncü hakkında kazandın.\")\n",
    "    else:\n",
    "        print(\"Oyunu kazanamadın. Bilmen gereken sayı:\", hedef)"
   ]
  },
  {
   "cell_type": "code",
   "execution_count": null,
   "metadata": {},
   "outputs": [],
   "source": []
  }
 ],
 "metadata": {
  "kernelspec": {
   "display_name": "mlenv",
   "language": "python",
   "name": "python3"
  },
  "language_info": {
   "codemirror_mode": {
    "name": "ipython",
    "version": 3
   },
   "file_extension": ".py",
   "mimetype": "text/x-python",
   "name": "python",
   "nbconvert_exporter": "python",
   "pygments_lexer": "ipython3",
   "version": "3.12.2"
  }
 },
 "nbformat": 4,
 "nbformat_minor": 2
}
