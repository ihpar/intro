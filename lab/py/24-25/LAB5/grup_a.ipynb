{
 "cells": [
  {
   "cell_type": "markdown",
   "metadata": {},
   "source": [
    "1 - Print numbers from 1 to 10 using a for loop\n",
    "\n",
    "2 - Calculate the sum of numbers from 1 to 10 using a for loop\n",
    "\n",
    "3 - Print even numbers from 1 to 10 using a for loop\n",
    "\n",
    "4 - Print numbers from 10 to 1 using a for loop\n",
    "\n",
    "5 - break & continue\n",
    "\n",
    "6 - Print a rectangle of heigh x width with * symbols using nested loops"
   ]
  },
  {
   "cell_type": "code",
   "execution_count": null,
   "metadata": {},
   "outputs": [],
   "source": []
  }
 ],
 "metadata": {
  "kernelspec": {
   "display_name": "mlenv",
   "language": "python",
   "name": "python3"
  },
  "language_info": {
   "codemirror_mode": {
    "name": "ipython",
    "version": 3
   },
   "file_extension": ".py",
   "mimetype": "text/x-python",
   "name": "python",
   "nbconvert_exporter": "python",
   "pygments_lexer": "ipython3",
   "version": "3.12.2"
  }
 },
 "nbformat": 4,
 "nbformat_minor": 2
}
