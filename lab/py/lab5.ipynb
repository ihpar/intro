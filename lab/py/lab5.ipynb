{
 "cells": [
  {
   "cell_type": "code",
   "execution_count": 22,
   "metadata": {},
   "outputs": [
    {
     "name": "stdout",
     "output_type": "stream",
     "text": [
      "20\n",
      "34\n",
      "120\n"
     ]
    }
   ],
   "source": [
    "x = 5\n",
    "y = x + 5\n",
    "z = 2 * y\n",
    "print(z)\n",
    "\n",
    "x = 12\n",
    "y = x + 5\n",
    "z = 2 * y\n",
    "print(z)\n",
    "\n",
    "x = 55\n",
    "y = x + 5\n",
    "z = 2 * y\n",
    "print(z)"
   ]
  },
  {
   "cell_type": "code",
   "execution_count": 21,
   "metadata": {},
   "outputs": [
    {
     "name": "stdout",
     "output_type": "stream",
     "text": [
      "20\n",
      "34\n",
      "120\n"
     ]
    }
   ],
   "source": [
    "def f(x):\n",
    "    y = x + 5\n",
    "    z = 2 * y\n",
    "    print(z)\n",
    "\n",
    "f(5)\n",
    "f(12)\n",
    "f(55)"
   ]
  },
  {
   "cell_type": "code",
   "execution_count": 27,
   "metadata": {},
   "outputs": [
    {
     "data": {
      "text/plain": [
       "120"
      ]
     },
     "execution_count": 27,
     "metadata": {},
     "output_type": "execute_result"
    }
   ],
   "source": [
    "def f(x):\n",
    "    y = x + 5\n",
    "    z = 2 * y\n",
    "    return z\n",
    "\n",
    "f(5)\n",
    "f(12)\n",
    "f(55)"
   ]
  },
  {
   "cell_type": "code",
   "execution_count": 28,
   "metadata": {},
   "outputs": [
    {
     "name": "stdout",
     "output_type": "stream",
     "text": [
      "24\n"
     ]
    }
   ],
   "source": [
    "k = f(7)\n",
    "print(k)"
   ]
  },
  {
   "cell_type": "code",
   "execution_count": 29,
   "metadata": {},
   "outputs": [],
   "source": [
    "a = f(3) + f(5)"
   ]
  },
  {
   "cell_type": "code",
   "execution_count": 30,
   "metadata": {},
   "outputs": [
    {
     "name": "stdout",
     "output_type": "stream",
     "text": [
      "36\n"
     ]
    }
   ],
   "source": [
    "print(a)"
   ]
  },
  {
   "cell_type": "code",
   "execution_count": 33,
   "metadata": {},
   "outputs": [
    {
     "name": "stdout",
     "output_type": "stream",
     "text": [
      "51\n"
     ]
    }
   ],
   "source": [
    "def g(k):\n",
    "    l = k ** 2\n",
    "    m = 5 + l \n",
    "    return m \n",
    "\n",
    "a = g(4)\n",
    "b = g(5)\n",
    "c = a + b \n",
    "print(c)"
   ]
  },
  {
   "cell_type": "code",
   "execution_count": 34,
   "metadata": {},
   "outputs": [],
   "source": [
    "def diziyi_yaz(n):\n",
    "    \"\"\"\n",
    "    0'dan n'ye kadar olan sayıları ekrana yazdırır\n",
    "    \"\"\" \n",
    "    for i in range(n):\n",
    "        print(i, end=\" \")\n"
   ]
  },
  {
   "cell_type": "code",
   "execution_count": 35,
   "metadata": {},
   "outputs": [
    {
     "name": "stdout",
     "output_type": "stream",
     "text": [
      "0 1 2 3 4 "
     ]
    }
   ],
   "source": [
    "diziyi_yaz(5)"
   ]
  },
  {
   "cell_type": "code",
   "execution_count": 36,
   "metadata": {},
   "outputs": [
    {
     "name": "stdout",
     "output_type": "stream",
     "text": [
      "0 1 2 3 4 5 6 7 8 9 10 11 "
     ]
    }
   ],
   "source": [
    "diziyi_yaz(12)"
   ]
  },
  {
   "cell_type": "code",
   "execution_count": 39,
   "metadata": {},
   "outputs": [],
   "source": [
    "def diziyi_dondur(n):\n",
    "    \"\"\" \n",
    "    1'den n'ye kadar olan sayıları string olarak döndüren fonksiyon \n",
    "    diziyi_dondur(3) -> \"1 2 3 \"\n",
    "    diziyi_dondur(5) -> \"1 2 3 4 5 \"\n",
    "    \"\"\"\n",
    "    s = \"\"\n",
    "    for i in range(n):\n",
    "        s = s + str(i) + \" \" \n",
    "    return s "
   ]
  },
  {
   "cell_type": "code",
   "execution_count": 42,
   "metadata": {},
   "outputs": [
    {
     "name": "stdout",
     "output_type": "stream",
     "text": [
      "0 1 2 3 4 \n",
      "0 1\n"
     ]
    }
   ],
   "source": [
    "sayilar = diziyi_dondur(5)\n",
    "print(sayilar)\n",
    "print(sayilar[:3])"
   ]
  },
  {
   "cell_type": "code",
   "execution_count": 43,
   "metadata": {},
   "outputs": [
    {
     "data": {
      "text/plain": [
       "24"
      ]
     },
     "execution_count": 43,
     "metadata": {},
     "output_type": "execute_result"
    }
   ],
   "source": [
    "def h(x):\n",
    "    yy = 2 * x \n",
    "    zz = 3 * yy \n",
    "    return zz \n",
    "\n",
    "h(4)"
   ]
  },
  {
   "cell_type": "code",
   "execution_count": 44,
   "metadata": {},
   "outputs": [
    {
     "ename": "NameError",
     "evalue": "name 'yy' is not defined",
     "output_type": "error",
     "traceback": [
      "\u001b[0;31m---------------------------------------------------------------------------\u001b[0m",
      "\u001b[0;31mNameError\u001b[0m                                 Traceback (most recent call last)",
      "Cell \u001b[0;32mIn [44], line 1\u001b[0m\n\u001b[0;32m----> 1\u001b[0m \u001b[43myy\u001b[49m\n",
      "\u001b[0;31mNameError\u001b[0m: name 'yy' is not defined"
     ]
    }
   ],
   "source": [
    "yy"
   ]
  },
  {
   "cell_type": "code",
   "execution_count": 45,
   "metadata": {},
   "outputs": [
    {
     "name": "stdout",
     "output_type": "stream",
     "text": [
      "6 120\n"
     ]
    }
   ],
   "source": [
    "# n! sayısını hesaplayan bir fonk\n",
    "def faktoryel(n):\n",
    "    sonuc = 1 \n",
    "    for i in range(1, n+1):\n",
    "        sonuc *= i \n",
    "    return sonuc \n",
    "\n",
    "print(faktoryel(3), faktoryel(5))"
   ]
  },
  {
   "cell_type": "code",
   "execution_count": 46,
   "metadata": {},
   "outputs": [
    {
     "data": {
      "text/plain": [
       "40320"
      ]
     },
     "execution_count": 46,
     "metadata": {},
     "output_type": "execute_result"
    }
   ],
   "source": [
    "faktoryel(8)"
   ]
  },
  {
   "cell_type": "code",
   "execution_count": 49,
   "metadata": {},
   "outputs": [
    {
     "name": "stdout",
     "output_type": "stream",
     "text": [
      "2 3 5\n"
     ]
    }
   ],
   "source": [
    "# 1 1 2 3 5 8 13\n",
    "def fibonacci(n):\n",
    "    n_2 = 1 \n",
    "    n_1 = 1 \n",
    "    if n < 1:\n",
    "        print(\"n sayısı minimum 1 olmalıdır!\")\n",
    "        return -1 \n",
    "    elif n == 1:\n",
    "        return 1 \n",
    "    elif n == 2:\n",
    "        return 1 \n",
    "    \n",
    "    for i in range(3, n+1):\n",
    "        son = n_2 + n_1 \n",
    "        n_2 = n_1 \n",
    "        n_1 = son \n",
    "    return son\n",
    "\n",
    "print(fibonacci(3), fibonacci(4), fibonacci(5)) "
   ]
  },
  {
   "cell_type": "code",
   "execution_count": 54,
   "metadata": {},
   "outputs": [
    {
     "name": "stdout",
     "output_type": "stream",
     "text": [
      "1\n"
     ]
    }
   ],
   "source": [
    "print(fibonacci(2))"
   ]
  },
  {
   "cell_type": "code",
   "execution_count": 59,
   "metadata": {},
   "outputs": [
    {
     "name": "stdout",
     "output_type": "stream",
     "text": [
      "True False True False True\n"
     ]
    }
   ],
   "source": [
    "# bir sayının asal sayı (1 ve kendinden başka bir böleni olmayan) olup olmadığını bulan bir fonk \n",
    "\n",
    "def asal_mi(x):\n",
    "    \"\"\" \n",
    "    eğer x asalsa True; asal değilse False dönelim\n",
    "    \"\"\"\n",
    "    for i in range(2, int(x/2) + 1):\n",
    "        if x % i == 0:\n",
    "            return False \n",
    "    \n",
    "    return True\n",
    "\n",
    "print(asal_mi(2), asal_mi(8), asal_mi(13), asal_mi(24), asal_mi(97))"
   ]
  },
  {
   "cell_type": "code",
   "execution_count": 58,
   "metadata": {},
   "outputs": [
    {
     "data": {
      "text/plain": [
       "48"
      ]
     },
     "execution_count": 58,
     "metadata": {},
     "output_type": "execute_result"
    }
   ],
   "source": [
    "int(97/2)"
   ]
  },
  {
   "cell_type": "code",
   "execution_count": 60,
   "metadata": {},
   "outputs": [
    {
     "name": "stdout",
     "output_type": "stream",
     "text": [
      "2\n",
      "3\n",
      "5\n",
      "7\n",
      "11\n",
      "13\n",
      "17\n",
      "19\n",
      "23\n",
      "29\n",
      "31\n",
      "37\n"
     ]
    }
   ],
   "source": [
    "def tum_asallar(n):\n",
    "    for i in range(2, n):\n",
    "        if asal_mi(i):\n",
    "            print(i)\n",
    "\n",
    "tum_asallar(40)"
   ]
  },
  {
   "cell_type": "code",
   "execution_count": null,
   "metadata": {},
   "outputs": [],
   "source": []
  }
 ],
 "metadata": {
  "kernelspec": {
   "display_name": "tfnew",
   "language": "python",
   "name": "python3"
  },
  "language_info": {
   "codemirror_mode": {
    "name": "ipython",
    "version": 3
   },
   "file_extension": ".py",
   "mimetype": "text/x-python",
   "name": "python",
   "nbconvert_exporter": "python",
   "pygments_lexer": "ipython3",
   "version": "3.9.16"
  }
 },
 "nbformat": 4,
 "nbformat_minor": 2
}
