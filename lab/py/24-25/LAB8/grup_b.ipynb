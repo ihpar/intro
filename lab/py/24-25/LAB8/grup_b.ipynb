{
 "cells": [
  {
   "cell_type": "code",
   "execution_count": 2,
   "metadata": {},
   "outputs": [
    {
     "name": "stdout",
     "output_type": "stream",
     "text": [
      "İyi çalışmalar\n"
     ]
    }
   ],
   "source": [
    "\"\"\" \n",
    "1 - Bir string'in simetrik olup olmadığını bulan simetrik_mi(str) fonksiyonunu tanımlayınız.\n",
    "Simetrik stringin ilk yarısı ile son yarısı aynıdır.\n",
    "\n",
    "Ör 1: simetrik_mi(\"abcxabc\") -> True\n",
    "\n",
    "Ör 2: simetrik_mi(\"abcabd\") -> False\n",
    "\n",
    "2 - Bir stringin palindrom olup olmadığını bulan palindrom_mu(str) fonksiyonunu tanımlayınız.\n",
    "Palindrom bir string soldan sağa ve sağdan sola aynı şekilde yazılır.\n",
    "\n",
    "Ör 1: palindrom_mu(\"abxba\") -> True\n",
    "\n",
    "Ör 2: palindrom_mu(\"abcxccc\") -> False\n",
    "\n",
    "3 - Bir stringin i'ninci karakterini stringden silen sil(str, int) fonksiyonunu tanımlayınız.\n",
    "\n",
    "Ör: sil(\"abc\", 1) -> \"ac\"\n",
    "\n",
    "4 - Bir stringdeki sesli haftleri stringde bulunma sırasına göre veren \n",
    "sesliler(str) fonlsiyonunu tanımlayınız. Sesli harfler: aeıioöuüAEIİOÖUÜ\n",
    "\n",
    "Ör 1: sesliler(\"kalem\") -> \"ae\"\n",
    "\n",
    "Ör 2: sesliler(\"Ağaç\") -> \"Aa\"\n",
    "\n",
    "5 - Bir listedeki iki elemanın yerini değiştiren degistir(list, var, var) fonksiyonunu tanımlayınız.\n",
    "\n",
    "Ör 1: degistir([\"a\", \"b\", \"c\"], \"a\", \"c\") -> [\"c\", \"b\", \"a\"]\n",
    "\n",
    "Ör 1: degistir([4, 1, 2, 3, 5], 1, 5) -> [4, 5, 2, 3, 1]\n",
    "\n",
    "6 - Bir listedeki çift sayıları bulan ciftler(list) fonksiyonunu tanımlayınız.\n",
    "\n",
    "Ör: ciftler([5, 2, 3, 4]) -> [2, 4]\n",
    "\n",
    "7 - Bir listedeki ikinci en büyük sayıyı bulan ikinci_en_buyuk(list) fonksiyonunu tanımlayınız.\n",
    "\n",
    "Ör: ikinci_en_buyuk([5, -1, 4, 3, 0]) -> 4\n",
    "\n",
    "8 - Bir listedeki verilen elemandan büyük tüm elemanların sayısını bulan \n",
    "buyuklerin_sayisini_bul(list, int) fonksiyonunu tanımlayınız.\n",
    "\n",
    "Örn 1: buyuklerin_sayisini_bul([3, 6, 1, 4, 7], 2) -> 4\n",
    "    3, 6, 4, 7 sayıları 2'den büyüktür.\n",
    "\n",
    "Örn 2: buyuklerin_sayisini_bul([3, 6, 1, 4, 7], 4) -> 2\n",
    "    6, 7 sayıları 4'ten büyüktür.\n",
    "\"\"\"\n",
    "\n",
    "print(\"İyi çalışmalar\")"
   ]
  },
  {
   "cell_type": "code",
   "execution_count": null,
   "metadata": {},
   "outputs": [],
   "source": []
  }
 ],
 "metadata": {
  "kernelspec": {
   "display_name": "mlenv",
   "language": "python",
   "name": "python3"
  },
  "language_info": {
   "codemirror_mode": {
    "name": "ipython",
    "version": 3
   },
   "file_extension": ".py",
   "mimetype": "text/x-python",
   "name": "python",
   "nbconvert_exporter": "python",
   "pygments_lexer": "ipython3",
   "version": "3.12.2"
  }
 },
 "nbformat": 4,
 "nbformat_minor": 2
}
