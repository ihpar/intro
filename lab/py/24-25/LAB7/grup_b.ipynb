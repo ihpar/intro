{
 "cells": [
  {
   "cell_type": "markdown",
   "metadata": {},
   "source": [
    "1-D Lists\n",
    "\n",
    "2-D Lists\n",
    "\n",
    "List indexing\n",
    "\n",
    "List slicing\n",
    "\n",
    "Strings -> lists\n",
    "\n",
    "Intro to functions"
   ]
  },
  {
   "cell_type": "code",
   "execution_count": null,
   "metadata": {},
   "outputs": [],
   "source": []
  },
  {
   "cell_type": "code",
   "execution_count": 1,
   "metadata": {},
   "outputs": [
    {
     "name": "stdout",
     "output_type": "stream",
     "text": [
      "Kolay gelsin\n"
     ]
    }
   ],
   "source": [
    "\"\"\" \n",
    "Alıştırmalar\n",
    "\n",
    "1 - H x W boyutlarında *'lardan oluşan içi boş dikdörtgen print ediniz. \"*\" * W gibi string çarpması yapmayınız. \n",
    "Örn:\n",
    "H = 4, W = 6 için \n",
    "* * * * * *\n",
    "*         *\n",
    "*         *\n",
    "* * * * * *\n",
    "\n",
    "2 - Bir sayı listesindeki tüm elemanların karelerini alarak listeyi güncelleyiniz.\n",
    "Örn: liste = [-2, 3, 1] -> liste = [4, 9, 1]\n",
    "\n",
    "3 - Bir sayı listesindeki en büyük ve en küçük eleman arasındaki farkı bulunuz.\n",
    "Örn: liste = [5, 1, 8, -3, 2] -> fark = 11\n",
    "\n",
    "4 - Bir sayı listesinde toplamları N eden bir ikilinin bulunup bulunmadığını bulunuz.\n",
    "Örn 1: N = 8, liste = [2, 1, 4, -3, 7, 0] -> sonuç = True \n",
    "        (1 + 7 = 8 olduğu için)\n",
    "\n",
    "Örn 2: N = 8, liste = [2, 1, 4, -3, 5, 0] -> sonuç = False \n",
    "        (Bu listede toplamları 8 yapan bir sayı ikilisi yoktur)\n",
    "\n",
    "5 - Bir matrisin simetrik olup olmadığını bulunuz.\n",
    "Örn 1: \n",
    "[ [1, 3, 5],\n",
    "  [3, 4, 2],\n",
    "  [5, 2, 0] ] -> True\n",
    "\n",
    "Örn 2: \n",
    "[ [1, 3, 5],\n",
    "  [1, 4, 2],\n",
    "  [5, 2, 0] ] -> False\n",
    "\n",
    "6 - N faktöryeli hesaplayan faktoryel isimli fonksiyonu tanımlayınız.\n",
    "Örn: faktoryel(4) -> 24\n",
    "\n",
    "7 - Fibonacci serisindeki N. sıradaki elemanı bulan fibonacci isimli fonksiyonu tanımlayınız.\n",
    "Fibonacci serisi: 1, 1, 2, 3, 5, 8, 13, 21, ...\n",
    "Örn 1: fibonacci(0) -> 1\n",
    "Örn 2: fibonacci(4) -> 5\n",
    "Örn 3: fibonacci(8) -> 34\n",
    "\"\"\"\n",
    "print(\"Kolay gelsin\")"
   ]
  },
  {
   "cell_type": "code",
   "execution_count": null,
   "metadata": {},
   "outputs": [],
   "source": []
  }
 ],
 "metadata": {
  "kernelspec": {
   "display_name": "mlenv",
   "language": "python",
   "name": "python3"
  },
  "language_info": {
   "codemirror_mode": {
    "name": "ipython",
    "version": 3
   },
   "file_extension": ".py",
   "mimetype": "text/x-python",
   "name": "python",
   "nbconvert_exporter": "python",
   "pygments_lexer": "ipython3",
   "version": "3.12.2"
  }
 },
 "nbformat": 4,
 "nbformat_minor": 2
}
