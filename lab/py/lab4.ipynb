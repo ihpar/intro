{
 "cells": [
  {
   "cell_type": "code",
   "execution_count": null,
   "metadata": {},
   "outputs": [],
   "source": [
    "# string işlemleri, print end, iç içe döngüler, listeler, break, continue"
   ]
  },
  {
   "cell_type": "code",
   "execution_count": 5,
   "metadata": {},
   "outputs": [
    {
     "name": "stdout",
     "output_type": "stream",
     "text": [
      "ismail\n",
      "parlak\n"
     ]
    }
   ],
   "source": [
    "ad = \"ismail\"\n",
    "soyad = \"parlak\"\n",
    "print(ad, end=\"\\n\")\n",
    "print(soyad)"
   ]
  },
  {
   "cell_type": "code",
   "execution_count": 7,
   "metadata": {},
   "outputs": [
    {
     "name": "stdout",
     "output_type": "stream",
     "text": [
      "ali \n",
      "veli\n"
     ]
    }
   ],
   "source": [
    "s = \"ali \" + \"\\n\" + \"veli\" # newline symbol\n",
    "print(s)"
   ]
  },
  {
   "cell_type": "code",
   "execution_count": 14,
   "metadata": {},
   "outputs": [
    {
     "name": "stdout",
     "output_type": "stream",
     "text": [
      "ismailparlak\n"
     ]
    }
   ],
   "source": [
    "print(ad, end=\"\") # empty string == \"\"\n",
    "print(soyad)"
   ]
  },
  {
   "cell_type": "code",
   "execution_count": 18,
   "metadata": {},
   "outputs": [
    {
     "name": "stdout",
     "output_type": "stream",
     "text": [
      "*\n",
      "*\n",
      "*\n",
      "*\n",
      "*\n"
     ]
    }
   ],
   "source": [
    "for i in range(5):\n",
    "    print(\"*\")"
   ]
  },
  {
   "cell_type": "code",
   "execution_count": 19,
   "metadata": {},
   "outputs": [
    {
     "name": "stdout",
     "output_type": "stream",
     "text": [
      "*\n",
      "*\n",
      "*\n",
      "*\n",
      "*\n"
     ]
    }
   ],
   "source": [
    "for i in range(5):\n",
    "    print(\"*\", end=\"\\n\")"
   ]
  },
  {
   "cell_type": "code",
   "execution_count": 17,
   "metadata": {},
   "outputs": [
    {
     "name": "stdout",
     "output_type": "stream",
     "text": [
      "*****"
     ]
    }
   ],
   "source": [
    "for i in range(5):\n",
    "    print(\"*\", end=\"\")"
   ]
  },
  {
   "cell_type": "code",
   "execution_count": 32,
   "metadata": {},
   "outputs": [
    {
     "name": "stdout",
     "output_type": "stream",
     "text": [
      "ismail\n",
      "m\n",
      "ism\n",
      "sma\n",
      "mail\n",
      "isma\n",
      "ai\n"
     ]
    }
   ],
   "source": [
    "print(ad)\n",
    "print(ad[2])\n",
    "print(ad[0:3])\n",
    "print(ad[1:4])\n",
    "print(ad[2:])\n",
    "print(ad[:4])\n",
    "print(ad[-3:-1])"
   ]
  },
  {
   "cell_type": "code",
   "execution_count": 24,
   "metadata": {},
   "outputs": [
    {
     "name": "stdout",
     "output_type": "stream",
     "text": [
      "0\n",
      "1\n",
      "2\n",
      "3\n",
      "4\n"
     ]
    }
   ],
   "source": [
    "for i in range(5):\n",
    "    print(i)"
   ]
  },
  {
   "cell_type": "code",
   "execution_count": 33,
   "metadata": {},
   "outputs": [
    {
     "name": "stdout",
     "output_type": "stream",
     "text": [
      "0\n",
      "2\n",
      "4\n"
     ]
    }
   ],
   "source": [
    "for i in range(5):\n",
    "    if i % 2 == 0:\n",
    "        print(i)"
   ]
  },
  {
   "cell_type": "code",
   "execution_count": 36,
   "metadata": {},
   "outputs": [
    {
     "name": "stdout",
     "output_type": "stream",
     "text": [
      "0:0\n",
      "2:4\n",
      "4:16\n"
     ]
    }
   ],
   "source": [
    "for i in range(5):\n",
    "    if i % 2 == 1:\n",
    "        continue \n",
    "    print(i, end=\":\")\n",
    "    print(i * i)"
   ]
  },
  {
   "cell_type": "code",
   "execution_count": 38,
   "metadata": {},
   "outputs": [
    {
     "name": "stdout",
     "output_type": "stream",
     "text": [
      "0, 0, 3\n",
      "2, 4, 5\n",
      "4, 16, 7\n",
      "6, 36, 9\n"
     ]
    }
   ],
   "source": [
    "for i in range(7):\n",
    "    if i % 2 == 0:\n",
    "        print(i, end=\", \")\n",
    "        print(i * i, end=\", \")\n",
    "        print(3 + i)"
   ]
  },
  {
   "cell_type": "code",
   "execution_count": 39,
   "metadata": {},
   "outputs": [
    {
     "name": "stdout",
     "output_type": "stream",
     "text": [
      "0, 0, 3\n",
      "2, 4, 5\n",
      "4, 16, 7\n",
      "6, 36, 9\n"
     ]
    }
   ],
   "source": [
    "for i in range(7):\n",
    "    if i % 2 == 1:\n",
    "        continue\n",
    "    print(i, end=\", \")\n",
    "    print(i * i, end=\", \")\n",
    "    print(3 + i)"
   ]
  },
  {
   "cell_type": "code",
   "execution_count": 42,
   "metadata": {},
   "outputs": [
    {
     "name": "stdout",
     "output_type": "stream",
     "text": [
      "0\n",
      "2\n",
      "4\n",
      "6\n",
      "döngü bitiyor\n"
     ]
    }
   ],
   "source": [
    "for i in range(15):\n",
    "    if i % 2 == 0:\n",
    "        print(i)\n",
    "    if i % 7 == 0 and i > 0:\n",
    "        print(\"döngü bitiyor\")\n",
    "        break"
   ]
  },
  {
   "cell_type": "code",
   "execution_count": 47,
   "metadata": {},
   "outputs": [
    {
     "name": "stdout",
     "output_type": "stream",
     "text": [
      "8.5\n"
     ]
    }
   ],
   "source": [
    "# kullanıcıdan aldığı pozitif sayıların ortalamasını alan program\n",
    "toplam = 0\n",
    "sayi_mikari = 0\n",
    "for i in range(10000):\n",
    "    sayi = int(input(\"Bir sayı giriniz:\"))\n",
    "    if sayi < 0:\n",
    "        break \n",
    "    toplam += sayi \n",
    "    sayi_mikari += 1\n",
    "\n",
    "if sayi_mikari > 0:\n",
    "    ortalama = toplam / sayi_mikari\n",
    "    print(ortalama)\n",
    "else:\n",
    "    print(\"Ortala hesaplanmadı.\")"
   ]
  },
  {
   "cell_type": "code",
   "execution_count": 48,
   "metadata": {},
   "outputs": [
    {
     "name": "stdout",
     "output_type": "stream",
     "text": [
      "0, 1, 2, 3, 4, 5, 6, 7, 8, 9, "
     ]
    }
   ],
   "source": [
    "i = 0\n",
    "while i < 10:\n",
    "    print(i, end=\", \") \n",
    "    i += 1"
   ]
  },
  {
   "cell_type": "code",
   "execution_count": 49,
   "metadata": {},
   "outputs": [
    {
     "name": "stdout",
     "output_type": "stream",
     "text": [
      "8.333333333333334\n"
     ]
    }
   ],
   "source": [
    "toplam = 0\n",
    "sayi_mikari = 0\n",
    "\n",
    "while True:\n",
    "    sayi = int(input(\"Bir sayı giriniz:\"))\n",
    "    if sayi < 0:\n",
    "        break \n",
    "\n",
    "    toplam += sayi \n",
    "    sayi_mikari += 1\n",
    "\n",
    "if sayi_mikari > 0:\n",
    "    ortalama = toplam / sayi_mikari\n",
    "    print(ortalama)\n",
    "else:\n",
    "    print(\"Ortala hesaplanmadı.\")"
   ]
  },
  {
   "cell_type": "code",
   "execution_count": 51,
   "metadata": {},
   "outputs": [
    {
     "name": "stdout",
     "output_type": "stream",
     "text": [
      "0\n"
     ]
    }
   ],
   "source": [
    "\"\"\"\n",
    "Başla\n",
    "\tOku: n\n",
    "\tHesapla: x = 0\n",
    "\tTekrarla: sayaç = 1’den n’e\n",
    "\t\tOku: y\n",
    "\t\tEğer: (y < 0) ve (y > x)\n",
    "\t\t\tHesapla: x = y\n",
    "\tGöster: x\n",
    "Dur\n",
    "\n",
    "\"\"\"\n",
    "\n",
    "n = int(input(\"Bir sayı giriniz\"))\n",
    "x = 0 \n",
    "for sayac in range(1, n):\n",
    "    y = int(input(\"Bir sayi giriniz\"))\n",
    "    if y < 0 and y > x:\n",
    "        x = y \n",
    "print(x)"
   ]
  },
  {
   "cell_type": "code",
   "execution_count": 54,
   "metadata": {},
   "outputs": [
    {
     "name": "stdout",
     "output_type": "stream",
     "text": [
      "0 0\n",
      "0 1\n",
      "0 2\n",
      "0 3\n",
      "*******\n",
      "1 0\n",
      "1 1\n",
      "1 2\n",
      "1 3\n",
      "*******\n",
      "2 0\n",
      "2 1\n",
      "2 2\n",
      "2 3\n",
      "*******\n"
     ]
    }
   ],
   "source": [
    "for i in range(3):\n",
    "    for j in range(4):\n",
    "        print(i, j)\n",
    "    print(\"*******\")"
   ]
  },
  {
   "cell_type": "code",
   "execution_count": 59,
   "metadata": {},
   "outputs": [
    {
     "name": "stdout",
     "output_type": "stream",
     "text": [
      "************\n",
      "************\n",
      "************\n",
      "************\n",
      "************\n"
     ]
    }
   ],
   "source": [
    "g = 12\n",
    "y = 5\n",
    "\n",
    "for i in range(y):\n",
    "    for j in range(g):\n",
    "        print(\"*\", end=\"\")\n",
    "    print(\"\")"
   ]
  },
  {
   "cell_type": "code",
   "execution_count": 62,
   "metadata": {},
   "outputs": [
    {
     "name": "stdout",
     "output_type": "stream",
     "text": [
      "* * * * * * * * * * * *\n",
      "* * * * * * * * * * * *\n",
      "* * * * * * * * * * * *\n",
      "* * * * * * * * * * * *\n",
      "* * * * * * * * * * * *\n"
     ]
    }
   ],
   "source": [
    "g = 12\n",
    "y = 5\n",
    "\n",
    "for i in range(y):\n",
    "    for j in range(g):\n",
    "        if j == g - 1:\n",
    "            print(\"*\")\n",
    "        else:\n",
    "            print(\"*\", end=\" \")\n",
    "            "
   ]
  },
  {
   "cell_type": "code",
   "execution_count": 64,
   "metadata": {},
   "outputs": [
    {
     "name": "stdout",
     "output_type": "stream",
     "text": [
      "* * * * * * * * * * * *\n",
      "* * * * * * * * * * * *\n",
      "* * * * * * * * * * * *\n",
      "* * * * * * * * * * * *\n",
      "* * * * * * * * * * * *\n"
     ]
    }
   ],
   "source": [
    "g = 12\n",
    "y = 5\n",
    "end_symbol = \" \"\n",
    "for i in range(y):\n",
    "    for j in range(g):\n",
    "        if j == g - 1:\n",
    "            end_symbol = \"\\n\"\n",
    "        else:\n",
    "            end_symbol = \" \"\n",
    "        print(\"*\", end=end_symbol)"
   ]
  },
  {
   "cell_type": "code",
   "execution_count": 65,
   "metadata": {},
   "outputs": [
    {
     "name": "stdout",
     "output_type": "stream",
     "text": [
      "* * * * * * * * * * * *\n",
      "*                     *\n",
      "*                     *\n",
      "*                     *\n",
      "* * * * * * * * * * * *\n"
     ]
    }
   ],
   "source": [
    "\"\"\" \n",
    "* * * * * * * * * * * *\n",
    "*                     *\n",
    "*                     *\n",
    "*                     *\n",
    "* * * * * * * * * * * *\n",
    "\"\"\"\n",
    "g = 12\n",
    "y = 5\n",
    "end_symbol = \" \"\n",
    "for i in range(y):\n",
    "    if i == 0 or i == y - 1:\n",
    "        print(\"* * * * * * * * * * * *\")\n",
    "    else:\n",
    "        print(\"*                     *\")"
   ]
  },
  {
   "cell_type": "code",
   "execution_count": null,
   "metadata": {},
   "outputs": [],
   "source": []
  }
 ],
 "metadata": {
  "kernelspec": {
   "display_name": "tfnew",
   "language": "python",
   "name": "python3"
  },
  "language_info": {
   "codemirror_mode": {
    "name": "ipython",
    "version": 3
   },
   "file_extension": ".py",
   "mimetype": "text/x-python",
   "name": "python",
   "nbconvert_exporter": "python",
   "pygments_lexer": "ipython3",
   "version": "3.9.16"
  }
 },
 "nbformat": 4,
 "nbformat_minor": 2
}
