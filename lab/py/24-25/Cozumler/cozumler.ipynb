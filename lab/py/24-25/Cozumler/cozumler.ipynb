{
 "cells": [
  {
   "cell_type": "code",
   "execution_count": null,
   "metadata": {},
   "outputs": [],
   "source": [
    "\"\"\"\n",
    "Bu oyunda bilgisayar [0 - 9] aralığında \n",
    "bir sayı belirler ve oyuncunun bu sayıyı tahmin etmesi için 3 hakkı vardır.\n",
    "Sadece if - elif - else yapıları ile oyunu tamamlayabilir misiniz?\n",
    "\"\"\"\n",
    "import random\n",
    "oyun_bitti_mi = False\n",
    "mesaj = \"0 - 9 arasında bir sayı seç\"\n",
    "buyuk_sayi_mesaji = \"Daha büyük bir sayı seç\"\n",
    "kucuk_sayi_mesaji = \"Daha küçük bir sayı seç\"\n",
    "\n",
    "# bilgisayarın belirlediği sayı\n",
    "hedef = random.randint(0, 9)\n",
    "# kullanıcının tahmini\n",
    "tahmin = int(input(mesaj))\n",
    "\n",
    "# ilk tur\n",
    "if hedef == tahmin:\n",
    "    print(\"Tek seferde kazandın.\")\n",
    "    oyun_bitti_mi = True\n",
    "elif hedef > tahmin:\n",
    "    print(buyuk_sayi_mesaji)\n",
    "else:\n",
    "    print(kucuk_sayi_mesaji)\n",
    "\n",
    "# ikinci tur\n",
    "if not oyun_bitti_mi:\n",
    "    tahmin = int(input(mesaj))\n",
    "    if hedef == tahmin:\n",
    "        print(\"İkinci hakkında kazandın.\")\n",
    "        oyun_bitti_mi = True\n",
    "    elif hedef > tahmin:\n",
    "        print(buyuk_sayi_mesaji)\n",
    "    else:\n",
    "        print(kucuk_sayi_mesaji)\n",
    "\n",
    "# üçüncü tur\n",
    "if not oyun_bitti_mi:\n",
    "    tahmin = int(input(mesaj))\n",
    "    if hedef == tahmin:\n",
    "        print(\"Üçüncü hakkında kazandın.\")\n",
    "    else:\n",
    "        print(\"Oyunu kazanamadın. Bilmen gereken sayı:\", hedef)"
   ]
  },
  {
   "cell_type": "code",
   "execution_count": null,
   "metadata": {},
   "outputs": [],
   "source": [
    "\"\"\"\n",
    "Bu oyunda bilgisayar [0 - 9] aralığında \n",
    "bir sayı belirler ve oyuncunun bu sayıyı tahmin etmesi için 3 hakkı vardır.\n",
    "Döngüleri kullanarak oyunu tamamlayabilir misiniz?\n",
    "\"\"\"\n",
    "import random\n",
    "hedef = random.randint(0, 9)\n",
    "# sayaç ile kaçıncı turda olduğumuzu takip edeceğiz\n",
    "sayac = 0\n",
    "while sayac < 3:\n",
    "    tahmin = int(input(mesaj))\n",
    "    if hedef == tahmin:\n",
    "        print(\"Tebrikler, oyunu kazandın\")\n",
    "        break\n",
    "    elif hedef > tahmin:\n",
    "        print(\"Hedef sayı\", tahmin, \"sayısından daha büyük.\")\n",
    "    else:\n",
    "        print(\"Hedef sayı\", tahmin, \"sayısından daha küçük.\")\n",
    "    sayac += 1"
   ]
  },
  {
   "cell_type": "code",
   "execution_count": 100,
   "metadata": {},
   "outputs": [
    {
     "name": "stdout",
     "output_type": "stream",
     "text": [
      "* \n",
      "* * \n",
      "* * * \n",
      "* * * * \n",
      "* * * * * \n"
     ]
    }
   ],
   "source": [
    "\"\"\" \n",
    "Kenar uzunluğu N olan, *'lardan oluşan dik üçgen\n",
    "\n",
    "N = 3 için; \n",
    "\n",
    "*\n",
    "* *\n",
    "* * *\n",
    "\"\"\"\n",
    "N = 5\n",
    "for i in range(N):\n",
    "    for j in range(i+1):\n",
    "        print(\"* \", end=\"\")\n",
    "    print(\"\")  # alt satıra geçmek için boş print"
   ]
  },
  {
   "cell_type": "code",
   "execution_count": 101,
   "metadata": {},
   "outputs": [
    {
     "name": "stdout",
     "output_type": "stream",
     "text": [
      "        * \n",
      "      * * \n",
      "    * * * \n",
      "  * * * * \n",
      "* * * * * \n"
     ]
    }
   ],
   "source": [
    "\"\"\" \n",
    "Kenar uzunluğu N olan, *'lardan oluşan başka bir dik üçgen\n",
    "\n",
    "N = 3 için; \n",
    "\n",
    "    *\n",
    "  * *\n",
    "* * *\n",
    "\"\"\"\n",
    "N = 5\n",
    "for i in range(N):\n",
    "    for j in range(N - i - 1):\n",
    "        print(\"  \", end=\"\")\n",
    "    for j in range(i+1):\n",
    "        print(\"* \", end=\"\")\n",
    "    print(\"\")"
   ]
  },
  {
   "cell_type": "code",
   "execution_count": 102,
   "metadata": {},
   "outputs": [
    {
     "name": "stdout",
     "output_type": "stream",
     "text": [
      "     * \n",
      "    * * \n",
      "   * * * \n",
      "  * * * * \n",
      " * * * * * \n",
      "* * * * * * \n",
      " * * * * * \n",
      "  * * * * \n",
      "   * * * \n",
      "    * * \n",
      "     * \n"
     ]
    }
   ],
   "source": [
    "\"\"\" \n",
    "Baklava\n",
    "\n",
    "N = 4 için;\n",
    "\n",
    "   *\n",
    "  * *\n",
    " * * *\n",
    "* * * *\n",
    " * * *\n",
    "  * *\n",
    "   *\n",
    "\n",
    "\"\"\"\n",
    "\n",
    "N = 6\n",
    "# baklavanın ortası dahil üst bölümünü çizdiren kısım\n",
    "for i in range(N):\n",
    "    for j in range(N - i - 1):\n",
    "        print(\" \", end=\"\")\n",
    "    for j in range(i+1):\n",
    "        print(\"* \", end=\"\")\n",
    "    print(\"\")\n",
    "# baklavanın ortadan sonrasını çizdiren bölüm\n",
    "for i in range(N-1):\n",
    "    for j in range(i + 1):\n",
    "        print(\" \", end=\"\")\n",
    "    for j in range(N - i - 1):\n",
    "        print(\"* \", end=\"\")\n",
    "    print(\"\")"
   ]
  },
  {
   "cell_type": "code",
   "execution_count": 103,
   "metadata": {},
   "outputs": [
    {
     "name": "stdout",
     "output_type": "stream",
     "text": [
      "* * * * * * * * \n",
      "*             * \n",
      "*             * \n",
      "*             * \n",
      "* * * * * * * * \n"
     ]
    }
   ],
   "source": [
    "\"\"\" \n",
    "H x W boyutlarında *'lardan oluşan içi boş dikdörtgen print ediniz. \n",
    "\"*\" * W gibi string çarpması yapmayınız. \n",
    "Örn:\n",
    "H = 4, W = 6 için \n",
    "* * * * * *\n",
    "*         *\n",
    "*         *\n",
    "* * * * * *\n",
    "\"\"\"\n",
    "H = 5\n",
    "W = 8\n",
    "for i in range(H):\n",
    "    if (i == 0) or (i == H - 1):\n",
    "        for j in range(W):\n",
    "            print(\"* \", end=\"\")\n",
    "    else:\n",
    "        for j in range(W):\n",
    "            if (j == 0) or (j == W - 1):\n",
    "                print(\"* \", end=\"\")\n",
    "            else:\n",
    "                print(\"  \", end=\"\")\n",
    "    print(\"\")"
   ]
  },
  {
   "cell_type": "code",
   "execution_count": 104,
   "metadata": {},
   "outputs": [
    {
     "name": "stdout",
     "output_type": "stream",
     "text": [
      "[4, 9, 1]\n"
     ]
    }
   ],
   "source": [
    "\"\"\" \n",
    "Bir sayı listesindeki tüm elemanların karelerini alarak listeyi güncelleyiniz.\n",
    "Örn: liste = [-2, 3, 1] -> liste = [4, 9, 1]\n",
    "\"\"\"\n",
    "\n",
    "liste = [-2, 3, 1]\n",
    "for i in range(len(liste)):\n",
    "    liste[i] = liste[i] ** 2\n",
    "\n",
    "print(liste)"
   ]
  },
  {
   "cell_type": "code",
   "execution_count": 105,
   "metadata": {},
   "outputs": [
    {
     "name": "stdout",
     "output_type": "stream",
     "text": [
      "11\n"
     ]
    }
   ],
   "source": [
    "\"\"\" \n",
    "Bir sayı listesindeki en büyük ve en küçük eleman arasındaki farkı bulunuz.\n",
    "Örn: liste = [5, 1, 8, -3, 2] -> fark = 11\n",
    "\"\"\"\n",
    "liste = [5, 1, 8, -3, 2]\n",
    "en_kucuk = liste[0]\n",
    "en_buyuk = liste[0]\n",
    "for sayi in liste:\n",
    "    if sayi < en_kucuk:\n",
    "        en_kucuk = sayi\n",
    "    if sayi > en_buyuk:\n",
    "        en_buyuk = sayi\n",
    "\n",
    "fark = en_buyuk - en_kucuk\n",
    "print(fark)"
   ]
  },
  {
   "cell_type": "code",
   "execution_count": 106,
   "metadata": {},
   "outputs": [
    {
     "name": "stdout",
     "output_type": "stream",
     "text": [
      "False\n"
     ]
    }
   ],
   "source": [
    "\"\"\" \n",
    "Bir sayı listesinde toplamları N eden bir ikilinin bulunup bulunmadığını bulunuz.\n",
    "Örn 1: N = 8, liste = [2, 1, 4, -3, 7, 0] -> sonuç = True \n",
    "        (1 + 7 = 8 olduğu için)\n",
    "\"\"\"\n",
    "N = 22\n",
    "liste = [2, 1, 4, -3, 7, 0]\n",
    "sonuc = False\n",
    "for i in range(len(liste)):  # tüm sayılar için;\n",
    "    for j in range(i+1, len(liste)):  # kendisinden sonraki tüm sayılar;\n",
    "        if (liste[i] + liste[j]) == N:\n",
    "            sonuc = True\n",
    "            break\n",
    "    if sonuc:\n",
    "        # başarılı bir toplam bulunduysa dışardaki döngüyü sonlandırıyoruz.\n",
    "        break\n",
    "\n",
    "print(sonuc)"
   ]
  },
  {
   "cell_type": "code",
   "execution_count": 120,
   "metadata": {},
   "outputs": [
    {
     "name": "stdout",
     "output_type": "stream",
     "text": [
      "True\n"
     ]
    }
   ],
   "source": [
    "\"\"\" \n",
    "Bir matrisin simetrik olup olmadığını bulunuz.\n",
    "Örn 1: \n",
    "[ [1, 3, 5],\n",
    "  [3, 4, 2],\n",
    "  [5, 2, 0] ] -> True\n",
    "\n",
    "Örn 2: \n",
    "[ [1, 3, 5],\n",
    "  [1, 4, 2],\n",
    "  [5, 2, 0] ] -> False\n",
    "\"\"\"\n",
    "\n",
    "matrix = [[1, 3, 5],\n",
    "          [3, 4, 2],\n",
    "          [5, 2, 0]]\n",
    "simetrik_mi = True\n",
    "\n",
    "for i in range(len(matrix)):\n",
    "    for j in range(len(matrix)):\n",
    "        if matrix[i][j] != matrix[j][i]:\n",
    "            simetrik_mi = False\n",
    "            break \n",
    "    if not simetrik_mi:\n",
    "        break\n",
    "\n",
    "print(simetrik_mi)"
   ]
  },
  {
   "cell_type": "code",
   "execution_count": 108,
   "metadata": {},
   "outputs": [
    {
     "name": "stdout",
     "output_type": "stream",
     "text": [
      "1\n",
      "1\n",
      "2\n",
      "24\n"
     ]
    }
   ],
   "source": [
    "\"\"\" \n",
    "N faktöryeli hesaplayan faktoryel isimli fonksiyonu tanımlayınız.\n",
    "Örn: faktoryel(4) -> 24\n",
    "\"\"\"\n",
    "\n",
    "\n",
    "def faktoryel(n):\n",
    "    carpim = 1\n",
    "    for i in range(2, n+1):\n",
    "        carpim *= i\n",
    "    return carpim\n",
    "\n",
    "\n",
    "print(faktoryel(0))\n",
    "print(faktoryel(1))\n",
    "print(faktoryel(2))\n",
    "print(faktoryel(4))"
   ]
  },
  {
   "cell_type": "code",
   "execution_count": 109,
   "metadata": {},
   "outputs": [
    {
     "name": "stdout",
     "output_type": "stream",
     "text": [
      "1\n",
      "1\n",
      "2\n",
      "3\n",
      "5\n",
      "8\n",
      "13\n",
      "21\n",
      "34\n"
     ]
    }
   ],
   "source": [
    "\"\"\" \n",
    "Fibonacci serisindeki N. sıradaki elemanı bulan fibonacci isimli fonksiyonu tanımlayınız.\n",
    "Fibonacci serisi: 1, 1, 2, 3, 5, 8, 13, 21, ...\n",
    "Örn 1: fibonacci(0) -> 1\n",
    "Örn 2: fibonacci(4) -> 5\n",
    "Örn 3: fibonacci(8) -> 34\n",
    "\"\"\"\n",
    "\n",
    "\n",
    "def fibonacci(n):\n",
    "    if n == 0 or n == 1:\n",
    "        return 1\n",
    "    onceki = 1\n",
    "    simdiki = 1\n",
    "    sonraki = 2\n",
    "    for i in range(2, n+1):\n",
    "        sonraki = onceki + simdiki\n",
    "        onceki = simdiki\n",
    "        simdiki = sonraki\n",
    "    return sonraki\n",
    "\n",
    "\n",
    "print(fibonacci(0))\n",
    "print(fibonacci(1))\n",
    "print(fibonacci(2))\n",
    "print(fibonacci(3))\n",
    "print(fibonacci(4))\n",
    "print(fibonacci(5))\n",
    "print(fibonacci(6))\n",
    "print(fibonacci(7))\n",
    "print(fibonacci(8))"
   ]
  },
  {
   "cell_type": "code",
   "execution_count": 110,
   "metadata": {},
   "outputs": [
    {
     "name": "stdout",
     "output_type": "stream",
     "text": [
      "True\n",
      "True\n",
      "False\n",
      "False\n"
     ]
    }
   ],
   "source": [
    "\"\"\" \n",
    "Bir string'in simetrik olup olmadığını bulan simetrik_mi(str) fonksiyonunu tanımlayınız.\n",
    "Simetrik stringin ilk yarısı ile son yarısı aynıdır.\n",
    "\n",
    "Ör 1: simetrik_mi(\"abcxabc\") -> True\n",
    "\n",
    "Ör 2: simetrik_mi(\"abcabd\") -> False\n",
    "\"\"\"\n",
    "\n",
    "\n",
    "def simetrik_mi(s):\n",
    "    uzunluk = len(s)\n",
    "    orta = uzunluk // 2\n",
    "    if uzunluk % 2 == 1: # uzunluğu tek olan stringler için;\n",
    "        if s[:orta] == s[orta+1:]:\n",
    "            return True\n",
    "    else: # uzunluğu çift olan stringler için;\n",
    "        if s[:orta] == s[orta:]:\n",
    "            return True\n",
    "\n",
    "    return False\n",
    "\n",
    "\n",
    "print(simetrik_mi(\"abcxabc\"))\n",
    "print(simetrik_mi(\"abcabc\"))\n",
    "print(simetrik_mi(\"abcxabd\"))\n",
    "print(simetrik_mi(\"abcabd\"))"
   ]
  },
  {
   "cell_type": "code",
   "execution_count": 111,
   "metadata": {},
   "outputs": [
    {
     "name": "stdout",
     "output_type": "stream",
     "text": [
      "True\n",
      "False\n",
      "True\n",
      "False\n"
     ]
    }
   ],
   "source": [
    "\"\"\" \n",
    "Bir stringin palindrom olup olmadığını bulan palindrom_mu(str) fonksiyonunu tanımlayınız.\n",
    "Palindrom bir string soldan sağa ve sağdan sola aynı şekilde yazılır.\n",
    "\n",
    "Ör 1: palindrom_mu(\"abxba\") -> True\n",
    "\n",
    "Ör 2: palindrom_mu(\"abcxccc\") -> False\n",
    "\"\"\"\n",
    "\n",
    "\n",
    "def palindrom_mu(s):\n",
    "    uzunluk = len(s)\n",
    "    orta = uzunluk // 2\n",
    "    for i in range(orta):\n",
    "        if s[i] != s[uzunluk - i - 1]:\n",
    "            return False\n",
    "    return True\n",
    "\n",
    "\n",
    "print(palindrom_mu(\"abxba\"))\n",
    "print(palindrom_mu(\"abcxccc\"))\n",
    "print(palindrom_mu(\"aa\"))\n",
    "print(palindrom_mu(\"ab\"))"
   ]
  },
  {
   "cell_type": "code",
   "execution_count": 112,
   "metadata": {},
   "outputs": [
    {
     "name": "stdout",
     "output_type": "stream",
     "text": [
      "bc\n",
      "ac\n",
      "ab\n"
     ]
    }
   ],
   "source": [
    "\"\"\" \n",
    "Bir stringin i'ninci karakterini stringden silen sil(str, int) fonksiyonunu tanımlayınız.\n",
    "\n",
    "Ör: sil(\"abc\", 1) -> \"ac\"\n",
    "\"\"\"\n",
    "\n",
    "\n",
    "def sil(s, n):\n",
    "    return s[:n] + s[n+1:]\n",
    "\n",
    "\n",
    "print(sil(\"abc\", 0))\n",
    "print(sil(\"abc\", 1))\n",
    "print(sil(\"abc\", 2))"
   ]
  },
  {
   "cell_type": "code",
   "execution_count": 113,
   "metadata": {},
   "outputs": [
    {
     "name": "stdout",
     "output_type": "stream",
     "text": [
      "ae\n",
      "Aa\n"
     ]
    }
   ],
   "source": [
    "\"\"\" \n",
    "Bir stringdeki sesli haftleri stringde bulunma sırasına göre veren \n",
    "sesliler(str) fonlsiyonunu tanımlayınız. Sesli harfler: aeıioöuüAEIİOÖUÜ\n",
    "\n",
    "Ör 1: sesliler(\"kalem\") -> \"ae\"\n",
    "\"\"\"\n",
    "\n",
    "\n",
    "def sesliler(s):\n",
    "    sesli_harfler = [\"a\", \"e\", \"ı\", \"i\", \"o\", \"ö\", \"u\", \"ü\",\n",
    "                     \"A\", \"E\", \"I\", \"İ\", \"O\", \"Ö\", \"U\", \"Ü\"]\n",
    "    sonuc = \"\"\n",
    "    for c in s:\n",
    "        if c in sesli_harfler:\n",
    "            sonuc += c\n",
    "    return sonuc\n",
    "\n",
    "\n",
    "print(sesliler(\"kalem\"))\n",
    "print(sesliler(\"Ağaç\"))"
   ]
  },
  {
   "cell_type": "code",
   "execution_count": 114,
   "metadata": {},
   "outputs": [
    {
     "name": "stdout",
     "output_type": "stream",
     "text": [
      "['c', 'b', 'a']\n",
      "[4, 5, 2, 3, 1]\n"
     ]
    }
   ],
   "source": [
    "\"\"\" \n",
    "Bir listedeki iki elemanın yerini değiştiren \n",
    "degistir(list, var, var) fonksiyonunu tanımlayınız.\n",
    "\n",
    "Ör 1: degistir([\"a\", \"b\", \"c\"], \"a\", \"c\") -> [\"c\", \"b\", \"a\"]\n",
    "Ör 1: degistir([4, 1, 2, 3, 5], 1, 5) -> [4, 5, 2, 3, 1]\n",
    "\"\"\"\n",
    "\n",
    "\n",
    "def degistir(l, el1, el2):\n",
    "    for i in range(len(l)):\n",
    "        if l[i] == el1:\n",
    "            l[i] = el2\n",
    "        elif l[i] == el2:\n",
    "            l[i] = el1\n",
    "    return l\n",
    "\n",
    "\n",
    "print(degistir([\"a\", \"b\", \"c\"], \"a\", \"c\"))\n",
    "print(degistir([4, 1, 2, 3, 5], 1, 5))"
   ]
  },
  {
   "cell_type": "code",
   "execution_count": 115,
   "metadata": {},
   "outputs": [
    {
     "name": "stdout",
     "output_type": "stream",
     "text": [
      "[2, 4]\n"
     ]
    }
   ],
   "source": [
    "\"\"\" \n",
    "Bir listedeki çift sayıları bulan ciftler(list) fonksiyonunu tanımlayınız.\n",
    "\n",
    "Ör: ciftler([1, 2, 3, 4]) -> [2, 4]\n",
    "\"\"\"\n",
    "\n",
    "\n",
    "def ciftler(l):\n",
    "    sonuc = []\n",
    "    for sayi in l:\n",
    "        if sayi % 2 == 0:\n",
    "            sonuc.append(sayi)\n",
    "    return sonuc\n",
    "\n",
    "\n",
    "print(ciftler([1, 2, 3, 4]))"
   ]
  },
  {
   "cell_type": "code",
   "execution_count": 116,
   "metadata": {},
   "outputs": [
    {
     "name": "stdout",
     "output_type": "stream",
     "text": [
      "4\n"
     ]
    }
   ],
   "source": [
    "\"\"\" \n",
    "Bir listedeki ikinci en büyük sayıyı bulan ikinci_en_buyuk(list) fonksiyonunu tanımlayınız.\n",
    "\n",
    "Ör: ikinci_en_buyuk([5, 1, 4, 3, 0]) -> 4\n",
    "\"\"\"\n",
    "\n",
    "\n",
    "def ikinci_en_buyuk(l):\n",
    "    l.sort()\n",
    "    # listede tekrar eden sayı bulunmadığını varsayarsak\n",
    "    return l[-2]\n",
    "\n",
    "\n",
    "print(ikinci_en_buyuk([5, 1, 4, 3, 0]))"
   ]
  },
  {
   "cell_type": "code",
   "execution_count": 117,
   "metadata": {},
   "outputs": [
    {
     "name": "stdout",
     "output_type": "stream",
     "text": [
      "4\n",
      "2\n"
     ]
    }
   ],
   "source": [
    "\"\"\" \n",
    "Bir listedeki verilen elemandan büyük tüm elemanların sayısını bulan \n",
    "buyuklerin_sayisini_bul(list, int) fonksiyonunu tanımlayınız.\n",
    "\n",
    "Örn 1: buyuklerin_sayisini_bul([3, 6, 1, 4, 7], 2) -> 4\n",
    "    3, 6, 4, 7 sayıları 2'den büyüktür.\n",
    "\"\"\"\n",
    "\n",
    "\n",
    "def buyuklerin_sayisini_bul(l, n):\n",
    "    sonuc = 0\n",
    "    for sayi in l:\n",
    "        if sayi > n:\n",
    "            sonuc += 1\n",
    "    return sonuc\n",
    "\n",
    "\n",
    "print(buyuklerin_sayisini_bul([3, 6, 1, 4, 7], 2))\n",
    "print(buyuklerin_sayisini_bul([3, 6, 1, 4, 7], 4))"
   ]
  },
  {
   "cell_type": "code",
   "execution_count": null,
   "metadata": {},
   "outputs": [],
   "source": []
  }
 ],
 "metadata": {
  "kernelspec": {
   "display_name": "mlenv",
   "language": "python",
   "name": "python3"
  },
  "language_info": {
   "codemirror_mode": {
    "name": "ipython",
    "version": 3
   },
   "file_extension": ".py",
   "mimetype": "text/x-python",
   "name": "python",
   "nbconvert_exporter": "python",
   "pygments_lexer": "ipython3",
   "version": "3.12.2"
  }
 },
 "nbformat": 4,
 "nbformat_minor": 2
}
